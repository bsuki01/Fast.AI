{
  "cells": [
    {
      "cell_type": "code",
      "execution_count": null,
      "metadata": {
        "id": "N8nZk6hYUSch",
        "colab": {
          "base_uri": "https://localhost:8080/"
        },
        "outputId": "3c53a6bd-cd4f-41e3-900f-4e6a8253755e"
      },
      "outputs": [
        {
          "output_type": "stream",
          "name": "stdout",
          "text": [
            "\u001b[2K   \u001b[90m━━━━━━━━━━━━━━━━━━━━━━━━━━━━━━━━━━━━━━━━\u001b[0m \u001b[32m719.8/719.8 kB\u001b[0m \u001b[31m3.5 MB/s\u001b[0m eta \u001b[36m0:00:00\u001b[0m\n",
            "\u001b[2K   \u001b[90m━━━━━━━━━━━━━━━━━━━━━━━━━━━━━━━━━━━━━━━━\u001b[0m \u001b[32m485.4/485.4 kB\u001b[0m \u001b[31m21.6 MB/s\u001b[0m eta \u001b[36m0:00:00\u001b[0m\n",
            "\u001b[2K   \u001b[90m━━━━━━━━━━━━━━━━━━━━━━━━━━━━━━━━━━━━━━━━\u001b[0m \u001b[32m116.3/116.3 kB\u001b[0m \u001b[31m6.7 MB/s\u001b[0m eta \u001b[36m0:00:00\u001b[0m\n",
            "\u001b[2K   \u001b[90m━━━━━━━━━━━━━━━━━━━━━━━━━━━━━━━━━━━━━━━━\u001b[0m \u001b[32m143.5/143.5 kB\u001b[0m \u001b[31m8.7 MB/s\u001b[0m eta \u001b[36m0:00:00\u001b[0m\n",
            "\u001b[2K   \u001b[90m━━━━━━━━━━━━━━━━━━━━━━━━━━━━━━━━━━━━━━━━\u001b[0m \u001b[32m363.4/363.4 MB\u001b[0m \u001b[31m3.4 MB/s\u001b[0m eta \u001b[36m0:00:00\u001b[0m\n",
            "\u001b[2K   \u001b[90m━━━━━━━━━━━━━━━━━━━━━━━━━━━━━━━━━━━━━━━━\u001b[0m \u001b[32m13.8/13.8 MB\u001b[0m \u001b[31m56.5 MB/s\u001b[0m eta \u001b[36m0:00:00\u001b[0m\n",
            "\u001b[2K   \u001b[90m━━━━━━━━━━━━━━━━━━━━━━━━━━━━━━━━━━━━━━━━\u001b[0m \u001b[32m24.6/24.6 MB\u001b[0m \u001b[31m46.6 MB/s\u001b[0m eta \u001b[36m0:00:00\u001b[0m\n",
            "\u001b[2K   \u001b[90m━━━━━━━━━━━━━━━━━━━━━━━━━━━━━━━━━━━━━━━━\u001b[0m \u001b[32m883.7/883.7 kB\u001b[0m \u001b[31m27.7 MB/s\u001b[0m eta \u001b[36m0:00:00\u001b[0m\n",
            "\u001b[2K   \u001b[90m━━━━━━━━━━━━━━━━━━━━━━━━━━━━━━━━━━━━━━━━\u001b[0m \u001b[32m664.8/664.8 MB\u001b[0m \u001b[31m2.9 MB/s\u001b[0m eta \u001b[36m0:00:00\u001b[0m\n",
            "\u001b[2K   \u001b[90m━━━━━━━━━━━━━━━━━━━━━━━━━━━━━━━━━━━━━━━━\u001b[0m \u001b[32m211.5/211.5 MB\u001b[0m \u001b[31m6.3 MB/s\u001b[0m eta \u001b[36m0:00:00\u001b[0m\n",
            "\u001b[2K   \u001b[90m━━━━━━━━━━━━━━━━━━━━━━━━━━━━━━━━━━━━━━━━\u001b[0m \u001b[32m56.3/56.3 MB\u001b[0m \u001b[31m7.4 MB/s\u001b[0m eta \u001b[36m0:00:00\u001b[0m\n",
            "\u001b[2K   \u001b[90m━━━━━━━━━━━━━━━━━━━━━━━━━━━━━━━━━━━━━━━━\u001b[0m \u001b[32m127.9/127.9 MB\u001b[0m \u001b[31m8.0 MB/s\u001b[0m eta \u001b[36m0:00:00\u001b[0m\n",
            "\u001b[2K   \u001b[90m━━━━━━━━━━━━━━━━━━━━━━━━━━━━━━━━━━━━━━━━\u001b[0m \u001b[32m207.5/207.5 MB\u001b[0m \u001b[31m6.1 MB/s\u001b[0m eta \u001b[36m0:00:00\u001b[0m\n",
            "\u001b[2K   \u001b[90m━━━━━━━━━━━━━━━━━━━━━━━━━━━━━━━━━━━━━━━━\u001b[0m \u001b[32m21.1/21.1 MB\u001b[0m \u001b[31m77.1 MB/s\u001b[0m eta \u001b[36m0:00:00\u001b[0m\n",
            "\u001b[2K   \u001b[90m━━━━━━━━━━━━━━━━━━━━━━━━━━━━━━━━━━━━━━━━\u001b[0m \u001b[32m194.8/194.8 kB\u001b[0m \u001b[31m19.2 MB/s\u001b[0m eta \u001b[36m0:00:00\u001b[0m\n",
            "\u001b[2K   \u001b[90m━━━━━━━━━━━━━━━━━━━━━━━━━━━━━━━━━━━━━━━━\u001b[0m \u001b[32m1.6/1.6 MB\u001b[0m \u001b[31m69.8 MB/s\u001b[0m eta \u001b[36m0:00:00\u001b[0m\n",
            "\u001b[?25hMounted at /content/gdrive\n"
          ]
        }
      ],
      "source": [
        "#hide\n",
        "! [ -e /content ] && pip install -Uqq fastbook\n",
        "import fastbook\n",
        "fastbook.setup_book()"
      ]
    },
    {
      "cell_type": "code",
      "execution_count": null,
      "metadata": {
        "id": "TvdJtIJtUSci"
      },
      "outputs": [],
      "source": [
        "#hide\n",
        "from fastai.vision.all import *\n",
        "from fastbook import *\n",
        "\n",
        "matplotlib.rc('image', cmap='Greys')"
      ]
    },
    {
      "cell_type": "raw",
      "metadata": {
        "id": "VSsk46ZYUScj"
      },
      "source": [
        "[[chapter_mnist_basics]]"
      ]
    },
    {
      "cell_type": "code",
      "execution_count": null,
      "metadata": {
        "id": "cnvTrxadUScm",
        "colab": {
          "base_uri": "https://localhost:8080/",
          "height": 37
        },
        "outputId": "050a724a-258e-4ebf-f63b-939feed28ef9"
      },
      "outputs": [
        {
          "output_type": "display_data",
          "data": {
            "text/plain": [
              "<IPython.core.display.HTML object>"
            ],
            "text/html": [
              "\n",
              "<style>\n",
              "    /* Turns off some styling */\n",
              "    progress {\n",
              "        /* gets rid of default border in Firefox and Opera. */\n",
              "        border: none;\n",
              "        /* Needs to be in here for Safari polyfill so background images work as expected. */\n",
              "        background-size: auto;\n",
              "    }\n",
              "    progress:not([value]), progress:not([value])::-webkit-progress-bar {\n",
              "        background: repeating-linear-gradient(45deg, #7e7e7e, #7e7e7e 10px, #5c5c5c 10px, #5c5c5c 20px);\n",
              "    }\n",
              "    .progress-bar-interrupted, .progress-bar-interrupted::-webkit-progress-bar {\n",
              "        background: #F44336;\n",
              "    }\n",
              "</style>\n"
            ]
          },
          "metadata": {}
        },
        {
          "output_type": "display_data",
          "data": {
            "text/plain": [
              "<IPython.core.display.HTML object>"
            ],
            "text/html": [
              "\n",
              "    <div>\n",
              "      <progress value='3219456' class='' max='3214948' style='width:300px; height:20px; vertical-align: middle;'></progress>\n",
              "      100.14% [3219456/3214948 00:00&lt;00:00]\n",
              "    </div>\n",
              "    "
            ]
          },
          "metadata": {}
        }
      ],
      "source": [
        "path = untar_data(URLs.MNIST_SAMPLE)"
      ]
    },
    {
      "cell_type": "code",
      "execution_count": null,
      "metadata": {
        "id": "cuTEp5d6UScm"
      },
      "outputs": [],
      "source": [
        "#hide\n",
        "Path.BASE_PATH = path"
      ]
    },
    {
      "cell_type": "code",
      "execution_count": null,
      "metadata": {
        "id": "zduHOwxGUScn",
        "colab": {
          "base_uri": "https://localhost:8080/"
        },
        "outputId": "4c0591c0-a33e-4ca7-b6b9-9ea948a990e1"
      },
      "outputs": [
        {
          "output_type": "execute_result",
          "data": {
            "text/plain": [
              "(#3) [Path('labels.csv'),Path('train'),Path('valid')]"
            ]
          },
          "metadata": {},
          "execution_count": 5
        }
      ],
      "source": [
        "path.ls()"
      ]
    },
    {
      "cell_type": "code",
      "execution_count": null,
      "metadata": {
        "id": "kiwWGFA4USco",
        "colab": {
          "base_uri": "https://localhost:8080/"
        },
        "outputId": "05afeebc-da39-4cb0-9fa3-868e3a5aabf4"
      },
      "outputs": [
        {
          "output_type": "execute_result",
          "data": {
            "text/plain": [
              "(#2) [Path('train/7'),Path('train/3')]"
            ]
          },
          "metadata": {},
          "execution_count": 6
        }
      ],
      "source": [
        "(path/'train').ls()"
      ]
    },
    {
      "cell_type": "code",
      "execution_count": null,
      "metadata": {
        "id": "Ab1uCdY9UScp",
        "colab": {
          "base_uri": "https://localhost:8080/"
        },
        "outputId": "2b09a804-d652-4faa-d474-d9ec553bbf3f"
      },
      "outputs": [
        {
          "output_type": "execute_result",
          "data": {
            "text/plain": [
              "(#6131) [Path('train/3/10.png'),Path('train/3/10000.png'),Path('train/3/10011.png'),Path('train/3/10031.png'),Path('train/3/10034.png'),Path('train/3/10042.png'),Path('train/3/10052.png'),Path('train/3/1007.png'),Path('train/3/10074.png'),Path('train/3/10091.png'),Path('train/3/10093.png'),Path('train/3/10097.png'),Path('train/3/10099.png'),Path('train/3/10116.png'),Path('train/3/10125.png'),Path('train/3/10137.png'),Path('train/3/10141.png'),Path('train/3/10144.png'),Path('train/3/10155.png'),Path('train/3/10161.png')...]"
            ]
          },
          "metadata": {},
          "execution_count": 7
        }
      ],
      "source": [
        "fours = (path/'train'/'3').ls().sorted()\n",
        "sevens = (path/'train'/'7').ls().sorted()\n",
        "fours"
      ]
    },
    {
      "cell_type": "code",
      "execution_count": null,
      "metadata": {
        "id": "zhj9lZmIUScp",
        "colab": {
          "base_uri": "https://localhost:8080/",
          "height": 45
        },
        "outputId": "07f77719-f450-463c-bb89-54926f758056"
      },
      "outputs": [
        {
          "output_type": "execute_result",
          "data": {
            "text/plain": [
              "<PIL.PngImagePlugin.PngImageFile image mode=L size=28x28>"
            ],
            "image/png": "[encoded data removed]",
            "image/jpeg": "[encoded data removed]"
          },
          "metadata": {},
          "execution_count": 8
        }
      ],
      "source": [
        "im4_path = fours[1]\n",
        "im4 = Image.open(im4_path)\n",
        "im4"
      ]
    },
    {
      "cell_type": "code",
      "execution_count": null,
      "metadata": {
        "id": "bIWza5wIUScq",
        "colab": {
          "base_uri": "https://localhost:8080/",
          "height": 66
        },
        "outputId": "3eedd9b3-495b-47ed-d9ac-4db463b94cfa"
      },
      "outputs": [
        {
          "output_type": "execute_result",
          "data": {
            "text/plain": [
              "array([[  0,   0,   0,   0,   0,   0,   0,   0,   0,   0,   0,   0,   0,   0,   0,   0,   0,   0],\n",
              "       [  0,   0,   0,   0,   0,   0,   0,   0,   0,   0,   0,   0,   0,   0,   0,   0,   0,   0],\n",
              "       [  0,   0,   0,   0,   0,   0,   0,   0,   0,   0,   0,   0,   0,   0,   0,   0,   0,   0],\n",
              "       [  0,   0,   0,   0,   0,  29, 150, 195, 254, 255, 254, 176, 193, 150,  96,   0,   0,   0],\n",
              "       [  0,   0,   0,  48, 166, 224, 253, 253, 234, 196, 253, 253, 253, 253, 233,   0,   0,   0],\n",
              "       [  0,  93, 244, 249, 253, 187,  46,  10,   8,   4,  10, 194, 253, 253, 233,   0,   0,   0],\n",
              "       [  0, 107, 253, 253, 230,  48,   0,   0,   0,   0,   0, 192, 253, 253, 156,   0,   0,   0],\n",
              "       [  0,   3,  20,  20,  15,   0,   0,   0,   0,   0,  43, 224, 253, 245,  74,   0,   0,   0],\n",
              "       [  0,   0,   0,   0,   0,   0,   0,   0,   0,   0, 249, 253, 245, 126,   0,   0,   0,   0],\n",
              "       [  0,   0,   0,   0,   0,   0,   0,  14, 101, 223, 253, 248, 124,   0,   0,   0,   0,   0],\n",
              "       [  0,   0,   0,   0,   0,  11, 166, 239, 253, 253, 253, 187,  30,   0,   0,   0,   0,   0],\n",
              "       [  0,   0,   0,   0,   0,  16, 248, 250, 253, 253, 253, 253, 232, 213, 111,   2,   0,   0],\n",
              "       [  0,   0,   0,   0,   0,   0,   0,  43,  98,  98, 208, 253, 253, 253, 253, 187,  22,   0],\n",
              "       [  0,   0,   0,   0,   0,   0,   0,   0,   0,   0,   9,  51, 119, 253, 253, 253,  76,   0],\n",
              "       [  0,   0,   0,   0,   0,   0,   0,   0,   0,   0,   0,   0,   1, 183, 253, 253, 139,   0],\n",
              "       [  0,   0,   0,   0,   0,   0,   0,   0,   0,   0,   0,   0,   0, 182, 253, 253, 104,   0],\n",
              "       [  0,   0,   0,   0,   0,   0,   0,   0,   0,   0,   0,   0,  85, 249, 253, 253,  36,   0],\n",
              "       [  0,   0,   0,   0,   0,   0,   0,   0,   0,   0,   0,  60, 214, 253, 253, 173,  11,   0],\n",
              "       [  0,   0,   0,   0,   0,   0,   0,   0,   0,   0,  98, 247, 253, 253, 226,   9,   0,   0],\n",
              "       [  0,   0,   0,   0,   0,   0,   0,   0,  42, 150, 252, 253, 253, 233,  53,   0,   0,   0],\n",
              "       [  0,   0,  42, 115,  42,  60, 115, 159, 240, 253, 253, 250, 175,  25,   0,   0,   0,   0],\n",
              "       [  0,   0, 187, 253, 253, 253, 253, 253, 253, 253, 197,  86,   0,   0,   0,   0,   0,   0],\n",
              "       [  0,   0, 103, 253, 253, 253, 253, 253, 232,  67,   1,   0,   0,   0,   0,   0,   0,   0],\n",
              "       [  0,   0,   0,   0,   0,   0,   0,   0,   0,   0,   0,   0,   0,   0,   0,   0,   0,   0],\n",
              "       [  0,   0,   0,   0,   0,   0,   0,   0,   0,   0,   0,   0,   0,   0,   0,   0,   0,   0],\n",
              "       [  0,   0,   0,   0,   0,   0,   0,   0,   0,   0,   0,   0,   0,   0,   0,   0,   0,   0]], dtype=uint8)"
            ],
            "text/html": [
              "<style>\n",
              "      .ndarray_repr .ndarray_raw_data {\n",
              "        display: none;\n",
              "      }\n",
              "      .ndarray_repr.show_array .ndarray_raw_data {\n",
              "        display: block;\n",
              "      }\n",
              "      .ndarray_repr.show_array .ndarray_image_preview {\n",
              "        display: none;\n",
              "      }\n",
              "      </style>\n",
              "      <div id=\"id-c6b06456-818c-4c68-a0d1-9c5de9e9f8ec\" class=\"ndarray_repr\"><pre>ndarray (26, 18) <button style=\"padding: 0 2px;\">show data</button></pre><img src=\"data:image/png;base64,iVBORw0KGgoAAAANSUhEUgAAABIAAAAaCAAAAACf9lPmAAAA7UlEQVR4nKXPsUsCYRzG8efUoVOwAgkccnJSkiCacmuL1txaDsTRQUSE6B9ob7XJLYIaGm6LWpoisE0SJ68lhyRP/HYOJ/VeYz3b83nf9/fyk/4YS5K02d7as4Lr9d7jRcjb3QG83QN4kqTjDx+3lFxJJO9CSihty2s+S5p/STeSpHgmsypJKg6YHER/8pmcmj1dfWV6YkCq+w64OYPWpjOAUa8e+8Gi4zwBuBvmOHunBRz+2u4WzhQzKQikfvTWkQ/5iJRf4DJlivMJQ9uAwvkcvN1laRTKjc4YZlfZ5blLmIfK95MaAKN9S//MAlfXa0d8jFlpAAAAAElFTkSuQmCC\" class=\"ndarray_image_preview\" /><pre class=\"ndarray_raw_data\">array([[  0,   0,   0,   0,   0,   0,   0,   0,   0,   0,   0,   0,   0,   0,   0,   0,   0,   0],\n",
              "       [  0,   0,   0,   0,   0,   0,   0,   0,   0,   0,   0,   0,   0,   0,   0,   0,   0,   0],\n",
              "       [  0,   0,   0,   0,   0,   0,   0,   0,   0,   0,   0,   0,   0,   0,   0,   0,   0,   0],\n",
              "       [  0,   0,   0,   0,   0,  29, 150, 195, 254, 255, 254, 176, 193, 150,  96,   0,   0,   0],\n",
              "       [  0,   0,   0,  48, 166, 224, 253, 253, 234, 196, 253, 253, 253, 253, 233,   0,   0,   0],\n",
              "       [  0,  93, 244, 249, 253, 187,  46,  10,   8,   4,  10, 194, 253, 253, 233,   0,   0,   0],\n",
              "       [  0, 107, 253, 253, 230,  48,   0,   0,   0,   0,   0, 192, 253, 253, 156,   0,   0,   0],\n",
              "       [  0,   3,  20,  20,  15,   0,   0,   0,   0,   0,  43, 224, 253, 245,  74,   0,   0,   0],\n",
              "       [  0,   0,   0,   0,   0,   0,   0,   0,   0,   0, 249, 253, 245, 126,   0,   0,   0,   0],\n",
              "       [  0,   0,   0,   0,   0,   0,   0,  14, 101, 223, 253, 248, 124,   0,   0,   0,   0,   0],\n",
              "       [  0,   0,   0,   0,   0,  11, 166, 239, 253, 253, 253, 187,  30,   0,   0,   0,   0,   0],\n",
              "       [  0,   0,   0,   0,   0,  16, 248, 250, 253, 253, 253, 253, 232, 213, 111,   2,   0,   0],\n",
              "       [  0,   0,   0,   0,   0,   0,   0,  43,  98,  98, 208, 253, 253, 253, 253, 187,  22,   0],\n",
              "       [  0,   0,   0,   0,   0,   0,   0,   0,   0,   0,   9,  51, 119, 253, 253, 253,  76,   0],\n",
              "       [  0,   0,   0,   0,   0,   0,   0,   0,   0,   0,   0,   0,   1, 183, 253, 253, 139,   0],\n",
              "       [  0,   0,   0,   0,   0,   0,   0,   0,   0,   0,   0,   0,   0, 182, 253, 253, 104,   0],\n",
              "       [  0,   0,   0,   0,   0,   0,   0,   0,   0,   0,   0,   0,  85, 249, 253, 253,  36,   0],\n",
              "       [  0,   0,   0,   0,   0,   0,   0,   0,   0,   0,   0,  60, 214, 253, 253, 173,  11,   0],\n",
              "       [  0,   0,   0,   0,   0,   0,   0,   0,   0,   0,  98, 247, 253, 253, 226,   9,   0,   0],\n",
              "       [  0,   0,   0,   0,   0,   0,   0,   0,  42, 150, 252, 253, 253, 233,  53,   0,   0,   0],\n",
              "       [  0,   0,  42, 115,  42,  60, 115, 159, 240, 253, 253, 250, 175,  25,   0,   0,   0,   0],\n",
              "       [  0,   0, 187, 253, 253, 253, 253, 253, 253, 253, 197,  86,   0,   0,   0,   0,   0,   0],\n",
              "       [  0,   0, 103, 253, 253, 253, 253, 253, 232,  67,   1,   0,   0,   0,   0,   0,   0,   0],\n",
              "       [  0,   0,   0,   0,   0,   0,   0,   0,   0,   0,   0,   0,   0,   0,   0,   0,   0,   0],\n",
              "       [  0,   0,   0,   0,   0,   0,   0,   0,   0,   0,   0,   0,   0,   0,   0,   0,   0,   0],\n",
              "       [  0,   0,   0,   0,   0,   0,   0,   0,   0,   0,   0,   0,   0,   0,   0,   0,   0,   0]], dtype=uint8)</pre></div><script>\n",
              "      (() => {\n",
              "      const titles = ['show data', 'hide data'];\n",
              "      let index = 0\n",
              "      document.querySelector('#id-c6b06456-818c-4c68-a0d1-9c5de9e9f8ec button').onclick = (e) => {\n",
              "        document.querySelector('#id-c6b06456-818c-4c68-a0d1-9c5de9e9f8ec').classList.toggle('show_array');\n",
              "        index = (++index) % 2;\n",
              "        document.querySelector('#id-c6b06456-818c-4c68-a0d1-9c5de9e9f8ec button').textContent = titles[index];\n",
              "        e.preventDefault();\n",
              "        e.stopPropagation();\n",
              "      }\n",
              "      })();\n",
              "    </script>"
            ]
          },
          "metadata": {},
          "execution_count": 9
        }
      ],
      "source": [
        "array(im4)[2:28,4:22]"
      ]
    },
    {
      "cell_type": "code",
      "execution_count": null,
      "metadata": {
        "id": "_dPvm2buUScq",
        "colab": {
          "base_uri": "https://localhost:8080/"
        },
        "outputId": "517791ae-9417-4d98-8f64-16dc657a2165"
      },
      "outputs": [
        {
          "output_type": "execute_result",
          "data": {
            "text/plain": [
              "tensor([[  0,   0,   0,   0,   0,   0,   0,   0,   0,   0,   0,   0,   0,   0,   0,   0,   0,   0],\n",
              "        [  0,   0,   0,   0,   0,   0,   0,   0,   0,   0,   0,   0,   0,   0,   0,   0,   0,   0],\n",
              "        [  0,   0,   0,   0,   0,   0,   0,   0,   0,   0,   0,   0,   0,   0,   0,   0,   0,   0],\n",
              "        [  0,   0,   0,   0,   0,  29, 150, 195, 254, 255, 254, 176, 193, 150,  96,   0,   0,   0],\n",
              "        [  0,   0,   0,  48, 166, 224, 253, 253, 234, 196, 253, 253, 253, 253, 233,   0,   0,   0],\n",
              "        [  0,  93, 244, 249, 253, 187,  46,  10,   8,   4,  10, 194, 253, 253, 233,   0,   0,   0],\n",
              "        [  0, 107, 253, 253, 230,  48,   0,   0,   0,   0,   0, 192, 253, 253, 156,   0,   0,   0],\n",
              "        [  0,   3,  20,  20,  15,   0,   0,   0,   0,   0,  43, 224, 253, 245,  74,   0,   0,   0],\n",
              "        [  0,   0,   0,   0,   0,   0,   0,   0,   0,   0, 249, 253, 245, 126,   0,   0,   0,   0],\n",
              "        [  0,   0,   0,   0,   0,   0,   0,  14, 101, 223, 253, 248, 124,   0,   0,   0,   0,   0],\n",
              "        [  0,   0,   0,   0,   0,  11, 166, 239, 253, 253, 253, 187,  30,   0,   0,   0,   0,   0],\n",
              "        [  0,   0,   0,   0,   0,  16, 248, 250, 253, 253, 253, 253, 232, 213, 111,   2,   0,   0],\n",
              "        [  0,   0,   0,   0,   0,   0,   0,  43,  98,  98, 208, 253, 253, 253, 253, 187,  22,   0],\n",
              "        [  0,   0,   0,   0,   0,   0,   0,   0,   0,   0,   9,  51, 119, 253, 253, 253,  76,   0],\n",
              "        [  0,   0,   0,   0,   0,   0,   0,   0,   0,   0,   0,   0,   1, 183, 253, 253, 139,   0],\n",
              "        [  0,   0,   0,   0,   0,   0,   0,   0,   0,   0,   0,   0,   0, 182, 253, 253, 104,   0],\n",
              "        [  0,   0,   0,   0,   0,   0,   0,   0,   0,   0,   0,   0,  85, 249, 253, 253,  36,   0],\n",
              "        [  0,   0,   0,   0,   0,   0,   0,   0,   0,   0,   0,  60, 214, 253, 253, 173,  11,   0],\n",
              "        [  0,   0,   0,   0,   0,   0,   0,   0,   0,   0,  98, 247, 253, 253, 226,   9,   0,   0],\n",
              "        [  0,   0,   0,   0,   0,   0,   0,   0,  42, 150, 252, 253, 253, 233,  53,   0,   0,   0],\n",
              "        [  0,   0,  42, 115,  42,  60, 115, 159, 240, 253, 253, 250, 175,  25,   0,   0,   0,   0],\n",
              "        [  0,   0, 187, 253, 253, 253, 253, 253, 253, 253, 197,  86,   0,   0,   0,   0,   0,   0],\n",
              "        [  0,   0, 103, 253, 253, 253, 253, 253, 232,  67,   1,   0,   0,   0,   0,   0,   0,   0],\n",
              "        [  0,   0,   0,   0,   0,   0,   0,   0,   0,   0,   0,   0,   0,   0,   0,   0,   0,   0],\n",
              "        [  0,   0,   0,   0,   0,   0,   0,   0,   0,   0,   0,   0,   0,   0,   0,   0,   0,   0],\n",
              "        [  0,   0,   0,   0,   0,   0,   0,   0,   0,   0,   0,   0,   0,   0,   0,   0,   0,   0]], dtype=torch.uint8)"
            ]
          },
          "metadata": {},
          "execution_count": 10
        }
      ],
      "source": [
        "tensor(im4)[2:28,4:22]"
      ]
    },
    {
      "cell_type": "markdown",
      "metadata": {
        "id": "cLCb5Q9nUScr"
      },
      "source": [
        "We can slice the array to pick just the part with the top of the digit in it, and then use a Pandas DataFrame to color-code the values using a gradient, which shows us clearly how the image is created from the pixel values:"
      ]
    },
    {
      "cell_type": "code",
      "execution_count": null,
      "metadata": {
        "id": "0gBUPMfZUScr",
        "colab": {
          "base_uri": "https://localhost:8080/",
          "height": 896
        },
        "outputId": "ea56a640-d645-4f2d-993f-3a37f03edb8d"
      },
      "outputs": [
        {
          "output_type": "execute_result",
          "data": {
            "text/plain": [
              "<pandas.io.formats.style.Styler at 0x7b397d9d4650>"
            ],
            "text/html": [
              "<style type=\"text/css\">\n",
              "#T_ec790_row0_col0, #T_ec790_row0_col1, #T_ec790_row0_col2, #T_ec790_row0_col3, #T_ec790_row0_col4, #T_ec790_row0_col5, #T_ec790_row0_col6, #T_ec790_row0_col7, #T_ec790_row0_col8, #T_ec790_row0_col9, #T_ec790_row0_col10, #T_ec790_row0_col11, #T_ec790_row0_col12, #T_ec790_row0_col13, #T_ec790_row0_col14, #T_ec790_row0_col15, #T_ec790_row0_col16, #T_ec790_row0_col17, #T_ec790_row0_col18, #T_ec790_row0_col19, #T_ec790_row0_col20, #T_ec790_row0_col21, #T_ec790_row0_col22, #T_ec790_row0_col23, #T_ec790_row0_col24, #T_ec790_row0_col25, #T_ec790_row0_col26, #T_ec790_row1_col0, #T_ec790_row1_col1, #T_ec790_row1_col2, #T_ec790_row1_col3, #T_ec790_row1_col4, #T_ec790_row1_col5, #T_ec790_row1_col6, #T_ec790_row1_col7, #T_ec790_row1_col8, #T_ec790_row1_col9, #T_ec790_row1_col10, #T_ec790_row1_col11, #T_ec790_row1_col12, #T_ec790_row1_col13, #T_ec790_row1_col14, #T_ec790_row1_col15, #T_ec790_row1_col16, #T_ec790_row1_col17, #T_ec790_row1_col18, #T_ec790_row1_col19, #T_ec790_row1_col20, #T_ec790_row1_col21, #T_ec790_row1_col22, #T_ec790_row1_col23, #T_ec790_row1_col24, #T_ec790_row1_col25, #T_ec790_row1_col26, #T_ec790_row2_col0, #T_ec790_row2_col1, #T_ec790_row2_col2, #T_ec790_row2_col3, #T_ec790_row2_col4, #T_ec790_row2_col5, #T_ec790_row2_col6, #T_ec790_row2_col7, #T_ec790_row2_col8, #T_ec790_row2_col9, #T_ec790_row2_col10, #T_ec790_row2_col11, #T_ec790_row2_col12, #T_ec790_row2_col13, #T_ec790_row2_col14, #T_ec790_row2_col15, #T_ec790_row2_col16, #T_ec790_row2_col17, #T_ec790_row2_col18, #T_ec790_row2_col19, #T_ec790_row2_col20, #T_ec790_row2_col21, #T_ec790_row2_col22, #T_ec790_row2_col23, #T_ec790_row2_col24, #T_ec790_row2_col25, #T_ec790_row2_col26, #T_ec790_row3_col0, #T_ec790_row3_col1, #T_ec790_row3_col2, #T_ec790_row3_col3, #T_ec790_row3_col4, #T_ec790_row3_col5, #T_ec790_row3_col6, #T_ec790_row3_col7, #T_ec790_row3_col8, #T_ec790_row3_col9, #T_ec790_row3_col10, #T_ec790_row3_col11, #T_ec790_row3_col12, #T_ec790_row3_col13, #T_ec790_row3_col14, #T_ec790_row3_col15, #T_ec790_row3_col16, #T_ec790_row3_col17, #T_ec790_row3_col18, #T_ec790_row3_col19, #T_ec790_row3_col20, #T_ec790_row3_col21, #T_ec790_row3_col22, #T_ec790_row3_col23, #T_ec790_row3_col24, #T_ec790_row3_col25, #T_ec790_row3_col26, #T_ec790_row4_col0, #T_ec790_row4_col1, #T_ec790_row4_col2, #T_ec790_row4_col3, #T_ec790_row4_col4, #T_ec790_row4_col5, #T_ec790_row4_col6, #T_ec790_row4_col7, #T_ec790_row4_col8, #T_ec790_row4_col9, #T_ec790_row4_col10, #T_ec790_row4_col11, #T_ec790_row4_col12, #T_ec790_row4_col13, #T_ec790_row4_col14, #T_ec790_row4_col15, #T_ec790_row4_col16, #T_ec790_row4_col17, #T_ec790_row4_col18, #T_ec790_row4_col19, #T_ec790_row4_col20, #T_ec790_row4_col21, #T_ec790_row4_col22, #T_ec790_row4_col23, #T_ec790_row4_col24, #T_ec790_row4_col25, #T_ec790_row4_col26, #T_ec790_row5_col0, #T_ec790_row5_col1, #T_ec790_row5_col2, #T_ec790_row5_col3, #T_ec790_row5_col4, #T_ec790_row5_col5, #T_ec790_row5_col6, #T_ec790_row5_col7, #T_ec790_row5_col8, #T_ec790_row5_col19, #T_ec790_row5_col20, #T_ec790_row5_col21, #T_ec790_row5_col22, #T_ec790_row5_col23, #T_ec790_row5_col24, #T_ec790_row5_col25, #T_ec790_row5_col26, #T_ec790_row6_col0, #T_ec790_row6_col1, #T_ec790_row6_col2, #T_ec790_row6_col3, #T_ec790_row6_col4, #T_ec790_row6_col5, #T_ec790_row6_col6, #T_ec790_row6_col19, #T_ec790_row6_col20, #T_ec790_row6_col21, #T_ec790_row6_col22, #T_ec790_row6_col23, #T_ec790_row6_col24, #T_ec790_row6_col25, #T_ec790_row6_col26, #T_ec790_row7_col0, #T_ec790_row7_col1, #T_ec790_row7_col2, #T_ec790_row7_col3, #T_ec790_row7_col4, #T_ec790_row7_col19, #T_ec790_row7_col20, #T_ec790_row7_col21, #T_ec790_row7_col22, #T_ec790_row7_col23, #T_ec790_row7_col24, #T_ec790_row7_col25, #T_ec790_row7_col26, #T_ec790_row8_col0, #T_ec790_row8_col1, #T_ec790_row8_col2, #T_ec790_row8_col3, #T_ec790_row8_col4, #T_ec790_row8_col10, #T_ec790_row8_col11, #T_ec790_row8_col12, #T_ec790_row8_col13, #T_ec790_row8_col14, #T_ec790_row8_col19, #T_ec790_row8_col20, #T_ec790_row8_col21, #T_ec790_row8_col22, #T_ec790_row8_col23, #T_ec790_row8_col24, #T_ec790_row8_col25, #T_ec790_row8_col26, #T_ec790_row9_col0, #T_ec790_row9_col1, #T_ec790_row9_col2, #T_ec790_row9_col3, #T_ec790_row9_col4, #T_ec790_row9_col9, #T_ec790_row9_col10, #T_ec790_row9_col11, #T_ec790_row9_col12, #T_ec790_row9_col13, #T_ec790_row9_col19, #T_ec790_row9_col20, #T_ec790_row9_col21, #T_ec790_row9_col22, #T_ec790_row9_col23, #T_ec790_row9_col24, #T_ec790_row9_col25, #T_ec790_row9_col26, #T_ec790_row10_col0, #T_ec790_row10_col1, #T_ec790_row10_col2, #T_ec790_row10_col3, #T_ec790_row10_col4, #T_ec790_row10_col5, #T_ec790_row10_col6, #T_ec790_row10_col7, #T_ec790_row10_col8, #T_ec790_row10_col9, #T_ec790_row10_col10, #T_ec790_row10_col11, #T_ec790_row10_col12, #T_ec790_row10_col13, #T_ec790_row10_col18, #T_ec790_row10_col19, #T_ec790_row10_col20, #T_ec790_row10_col21, #T_ec790_row10_col22, #T_ec790_row10_col23, #T_ec790_row10_col24, #T_ec790_row10_col25, #T_ec790_row10_col26, #T_ec790_row11_col0, #T_ec790_row11_col1, #T_ec790_row11_col2, #T_ec790_row11_col3, #T_ec790_row11_col4, #T_ec790_row11_col5, #T_ec790_row11_col6, #T_ec790_row11_col7, #T_ec790_row11_col8, #T_ec790_row11_col9, #T_ec790_row11_col10, #T_ec790_row11_col17, #T_ec790_row11_col18, #T_ec790_row11_col19, #T_ec790_row11_col20, #T_ec790_row11_col21, #T_ec790_row11_col22, #T_ec790_row11_col23, #T_ec790_row11_col24, #T_ec790_row11_col25, #T_ec790_row11_col26, #T_ec790_row12_col0, #T_ec790_row12_col1, #T_ec790_row12_col2, #T_ec790_row12_col3, #T_ec790_row12_col4, #T_ec790_row12_col5, #T_ec790_row12_col6, #T_ec790_row12_col7, #T_ec790_row12_col8, #T_ec790_row12_col17, #T_ec790_row12_col18, #T_ec790_row12_col19, #T_ec790_row12_col20, #T_ec790_row12_col21, #T_ec790_row12_col22, #T_ec790_row12_col23, #T_ec790_row12_col24, #T_ec790_row12_col25, #T_ec790_row12_col26, #T_ec790_row13_col0, #T_ec790_row13_col1, #T_ec790_row13_col2, #T_ec790_row13_col3, #T_ec790_row13_col4, #T_ec790_row13_col5, #T_ec790_row13_col6, #T_ec790_row13_col7, #T_ec790_row13_col8, #T_ec790_row13_col20, #T_ec790_row13_col21, #T_ec790_row13_col22, #T_ec790_row13_col23, #T_ec790_row13_col24, #T_ec790_row13_col25, #T_ec790_row13_col26, #T_ec790_row14_col0, #T_ec790_row14_col1, #T_ec790_row14_col2, #T_ec790_row14_col3, #T_ec790_row14_col4, #T_ec790_row14_col5, #T_ec790_row14_col6, #T_ec790_row14_col7, #T_ec790_row14_col8, #T_ec790_row14_col9, #T_ec790_row14_col10, #T_ec790_row14_col21, #T_ec790_row14_col22, #T_ec790_row14_col23, #T_ec790_row14_col24, #T_ec790_row14_col25, #T_ec790_row14_col26, #T_ec790_row15_col0, #T_ec790_row15_col1, #T_ec790_row15_col2, #T_ec790_row15_col3, #T_ec790_row15_col4, #T_ec790_row15_col5, #T_ec790_row15_col6, #T_ec790_row15_col7, #T_ec790_row15_col8, #T_ec790_row15_col9, #T_ec790_row15_col10, #T_ec790_row15_col11, #T_ec790_row15_col12, #T_ec790_row15_col13, #T_ec790_row15_col21, #T_ec790_row15_col22, #T_ec790_row15_col23, #T_ec790_row15_col24, #T_ec790_row15_col25, #T_ec790_row15_col26, #T_ec790_row16_col0, #T_ec790_row16_col1, #T_ec790_row16_col2, #T_ec790_row16_col3, #T_ec790_row16_col4, #T_ec790_row16_col5, #T_ec790_row16_col6, #T_ec790_row16_col7, #T_ec790_row16_col8, #T_ec790_row16_col9, #T_ec790_row16_col10, #T_ec790_row16_col11, #T_ec790_row16_col12, #T_ec790_row16_col13, #T_ec790_row16_col14, #T_ec790_row16_col15, #T_ec790_row16_col16, #T_ec790_row16_col21, #T_ec790_row16_col22, #T_ec790_row16_col23, #T_ec790_row16_col24, #T_ec790_row16_col25, #T_ec790_row16_col26, #T_ec790_row17_col0, #T_ec790_row17_col1, #T_ec790_row17_col2, #T_ec790_row17_col3, #T_ec790_row17_col4, #T_ec790_row17_col5, #T_ec790_row17_col6, #T_ec790_row17_col7, #T_ec790_row17_col8, #T_ec790_row17_col9, #T_ec790_row17_col10, #T_ec790_row17_col11, #T_ec790_row17_col12, #T_ec790_row17_col13, #T_ec790_row17_col14, #T_ec790_row17_col15, #T_ec790_row17_col16, #T_ec790_row17_col21, #T_ec790_row17_col22, #T_ec790_row17_col23, #T_ec790_row17_col24, #T_ec790_row17_col25, #T_ec790_row17_col26, #T_ec790_row18_col0, #T_ec790_row18_col1, #T_ec790_row18_col2, #T_ec790_row18_col3, #T_ec790_row18_col4, #T_ec790_row18_col5, #T_ec790_row18_col6, #T_ec790_row18_col7, #T_ec790_row18_col8, #T_ec790_row18_col9, #T_ec790_row18_col10, #T_ec790_row18_col11, #T_ec790_row18_col12, #T_ec790_row18_col13, #T_ec790_row18_col14, #T_ec790_row18_col15, #T_ec790_row18_col21, #T_ec790_row18_col22, #T_ec790_row18_col23, #T_ec790_row18_col24, #T_ec790_row18_col25, #T_ec790_row18_col26, #T_ec790_row19_col0, #T_ec790_row19_col1, #T_ec790_row19_col2, #T_ec790_row19_col3, #T_ec790_row19_col4, #T_ec790_row19_col5, #T_ec790_row19_col6, #T_ec790_row19_col7, #T_ec790_row19_col8, #T_ec790_row19_col9, #T_ec790_row19_col10, #T_ec790_row19_col11, #T_ec790_row19_col12, #T_ec790_row19_col13, #T_ec790_row19_col14, #T_ec790_row19_col21, #T_ec790_row19_col22, #T_ec790_row19_col23, #T_ec790_row19_col24, #T_ec790_row19_col25, #T_ec790_row19_col26, #T_ec790_row20_col0, #T_ec790_row20_col1, #T_ec790_row20_col2, #T_ec790_row20_col3, #T_ec790_row20_col4, #T_ec790_row20_col5, #T_ec790_row20_col6, #T_ec790_row20_col7, #T_ec790_row20_col8, #T_ec790_row20_col9, #T_ec790_row20_col10, #T_ec790_row20_col11, #T_ec790_row20_col12, #T_ec790_row20_col13, #T_ec790_row20_col20, #T_ec790_row20_col21, #T_ec790_row20_col22, #T_ec790_row20_col23, #T_ec790_row20_col24, #T_ec790_row20_col25, #T_ec790_row20_col26, #T_ec790_row21_col0, #T_ec790_row21_col1, #T_ec790_row21_col2, #T_ec790_row21_col3, #T_ec790_row21_col4, #T_ec790_row21_col5, #T_ec790_row21_col6, #T_ec790_row21_col7, #T_ec790_row21_col8, #T_ec790_row21_col9, #T_ec790_row21_col10, #T_ec790_row21_col11, #T_ec790_row21_col19, #T_ec790_row21_col20, #T_ec790_row21_col21, #T_ec790_row21_col22, #T_ec790_row21_col23, #T_ec790_row21_col24, #T_ec790_row21_col25, #T_ec790_row21_col26, #T_ec790_row22_col0, #T_ec790_row22_col1, #T_ec790_row22_col2, #T_ec790_row22_col3, #T_ec790_row22_col4, #T_ec790_row22_col5, #T_ec790_row22_col18, #T_ec790_row22_col19, #T_ec790_row22_col20, #T_ec790_row22_col21, #T_ec790_row22_col22, #T_ec790_row22_col23, #T_ec790_row22_col24, #T_ec790_row22_col25, #T_ec790_row22_col26, #T_ec790_row23_col0, #T_ec790_row23_col1, #T_ec790_row23_col2, #T_ec790_row23_col3, #T_ec790_row23_col4, #T_ec790_row23_col5, #T_ec790_row23_col16, #T_ec790_row23_col17, #T_ec790_row23_col18, #T_ec790_row23_col19, #T_ec790_row23_col20, #T_ec790_row23_col21, #T_ec790_row23_col22, #T_ec790_row23_col23, #T_ec790_row23_col24, #T_ec790_row23_col25, #T_ec790_row23_col26, #T_ec790_row24_col0, #T_ec790_row24_col1, #T_ec790_row24_col2, #T_ec790_row24_col3, #T_ec790_row24_col4, #T_ec790_row24_col5, #T_ec790_row24_col14, #T_ec790_row24_col15, #T_ec790_row24_col16, #T_ec790_row24_col17, #T_ec790_row24_col18, #T_ec790_row24_col19, #T_ec790_row24_col20, #T_ec790_row24_col21, #T_ec790_row24_col22, #T_ec790_row24_col23, #T_ec790_row24_col24, #T_ec790_row24_col25, #T_ec790_row24_col26, #T_ec790_row25_col0, #T_ec790_row25_col1, #T_ec790_row25_col2, #T_ec790_row25_col3, #T_ec790_row25_col4, #T_ec790_row25_col5, #T_ec790_row25_col6, #T_ec790_row25_col7, #T_ec790_row25_col8, #T_ec790_row25_col9, #T_ec790_row25_col10, #T_ec790_row25_col11, #T_ec790_row25_col12, #T_ec790_row25_col13, #T_ec790_row25_col14, #T_ec790_row25_col15, #T_ec790_row25_col16, #T_ec790_row25_col17, #T_ec790_row25_col18, #T_ec790_row25_col19, #T_ec790_row25_col20, #T_ec790_row25_col21, #T_ec790_row25_col22, #T_ec790_row25_col23, #T_ec790_row25_col24, #T_ec790_row25_col25, #T_ec790_row25_col26, #T_ec790_row26_col0, #T_ec790_row26_col1, #T_ec790_row26_col2, #T_ec790_row26_col3, #T_ec790_row26_col4, #T_ec790_row26_col5, #T_ec790_row26_col6, #T_ec790_row26_col7, #T_ec790_row26_col8, #T_ec790_row26_col9, #T_ec790_row26_col10, #T_ec790_row26_col11, #T_ec790_row26_col12, #T_ec790_row26_col13, #T_ec790_row26_col14, #T_ec790_row26_col15, #T_ec790_row26_col16, #T_ec790_row26_col17, #T_ec790_row26_col18, #T_ec790_row26_col19, #T_ec790_row26_col20, #T_ec790_row26_col21, #T_ec790_row26_col22, #T_ec790_row26_col23, #T_ec790_row26_col24, #T_ec790_row26_col25, #T_ec790_row26_col26 {\n",
              "  font-size: 6pt;\n",
              "  background-color: #ffffff;\n",
              "  color: #000000;\n",
              "}\n",
              "#T_ec790_row5_col9, #T_ec790_row12_col16 {\n",
              "  font-size: 6pt;\n",
              "  background-color: #f1f1f1;\n",
              "  color: #000000;\n",
              "}\n",
              "#T_ec790_row5_col10, #T_ec790_row5_col17 {\n",
              "  font-size: 6pt;\n",
              "  background-color: #7c7c7c;\n",
              "  color: #f1f1f1;\n",
              "}\n",
              "#T_ec790_row5_col11 {\n",
              "  font-size: 6pt;\n",
              "  background-color: #4a4a4a;\n",
              "  color: #f1f1f1;\n",
              "}\n",
              "#T_ec790_row5_col12, #T_ec790_row5_col13, #T_ec790_row5_col14, #T_ec790_row6_col10, #T_ec790_row6_col11, #T_ec790_row6_col15, #T_ec790_row6_col16, #T_ec790_row6_col17, #T_ec790_row7_col8, #T_ec790_row7_col16, #T_ec790_row7_col17, #T_ec790_row8_col5, #T_ec790_row8_col6, #T_ec790_row8_col7, #T_ec790_row8_col16, #T_ec790_row8_col17, #T_ec790_row9_col16, #T_ec790_row10_col15, #T_ec790_row13_col15, #T_ec790_row14_col15, #T_ec790_row14_col16, #T_ec790_row14_col17, #T_ec790_row14_col18, #T_ec790_row15_col17, #T_ec790_row15_col18, #T_ec790_row15_col19, #T_ec790_row16_col18, #T_ec790_row16_col19, #T_ec790_row16_col20, #T_ec790_row17_col18, #T_ec790_row17_col19, #T_ec790_row18_col18, #T_ec790_row18_col19, #T_ec790_row19_col17, #T_ec790_row19_col18, #T_ec790_row20_col16, #T_ec790_row20_col17, #T_ec790_row21_col15, #T_ec790_row21_col16, #T_ec790_row23_col7, #T_ec790_row23_col8, #T_ec790_row23_col9, #T_ec790_row23_col10, #T_ec790_row23_col11, #T_ec790_row24_col7, #T_ec790_row24_col8, #T_ec790_row24_col9, #T_ec790_row24_col10, #T_ec790_row24_col11 {\n",
              "  font-size: 6pt;\n",
              "  background-color: #000000;\n",
              "  color: #f1f1f1;\n",
              "}\n",
              "#T_ec790_row5_col15 {\n",
              "  font-size: 6pt;\n",
              "  background-color: #606060;\n",
              "  color: #f1f1f1;\n",
              "}\n",
              "#T_ec790_row5_col16 {\n",
              "  font-size: 6pt;\n",
              "  background-color: #4d4d4d;\n",
              "  color: #f1f1f1;\n",
              "}\n",
              "#T_ec790_row5_col18 {\n",
              "  font-size: 6pt;\n",
              "  background-color: #bbbbbb;\n",
              "  color: #000000;\n",
              "}\n",
              "#T_ec790_row6_col7, #T_ec790_row8_col9 {\n",
              "  font-size: 6pt;\n",
              "  background-color: #e4e4e4;\n",
              "  color: #000000;\n",
              "}\n",
              "#T_ec790_row6_col8, #T_ec790_row12_col10 {\n",
              "  font-size: 6pt;\n",
              "  background-color: #6b6b6b;\n",
              "  color: #f1f1f1;\n",
              "}\n",
              "#T_ec790_row6_col9, #T_ec790_row9_col15 {\n",
              "  font-size: 6pt;\n",
              "  background-color: #222222;\n",
              "  color: #f1f1f1;\n",
              "}\n",
              "#T_ec790_row6_col12, #T_ec790_row6_col18, #T_ec790_row7_col18, #T_ec790_row21_col17 {\n",
              "  font-size: 6pt;\n",
              "  background-color: #171717;\n",
              "  color: #f1f1f1;\n",
              "}\n",
              "#T_ec790_row6_col13, #T_ec790_row7_col15 {\n",
              "  font-size: 6pt;\n",
              "  background-color: #4b4b4b;\n",
              "  color: #f1f1f1;\n",
              "}\n",
              "#T_ec790_row6_col14, #T_ec790_row11_col14, #T_ec790_row12_col12, #T_ec790_row12_col14, #T_ec790_row13_col12, #T_ec790_row13_col14, #T_ec790_row22_col14, #T_ec790_row23_col12 {\n",
              "  font-size: 6pt;\n",
              "  background-color: #010101;\n",
              "  color: #f1f1f1;\n",
              "}\n",
              "#T_ec790_row7_col5 {\n",
              "  font-size: 6pt;\n",
              "  background-color: #272727;\n",
              "  color: #f1f1f1;\n",
              "}\n",
              "#T_ec790_row7_col6 {\n",
              "  font-size: 6pt;\n",
              "  background-color: #0a0a0a;\n",
              "  color: #f1f1f1;\n",
              "}\n",
              "#T_ec790_row7_col7, #T_ec790_row18_col17 {\n",
              "  font-size: 6pt;\n",
              "  background-color: #050505;\n",
              "  color: #f1f1f1;\n",
              "}\n",
              "#T_ec790_row7_col9, #T_ec790_row12_col15, #T_ec790_row14_col19, #T_ec790_row23_col6 {\n",
              "  font-size: 6pt;\n",
              "  background-color: #545454;\n",
              "  color: #f1f1f1;\n",
              "}\n",
              "#T_ec790_row7_col10 {\n",
              "  font-size: 6pt;\n",
              "  background-color: #e6e6e6;\n",
              "  color: #000000;\n",
              "}\n",
              "#T_ec790_row7_col11, #T_ec790_row7_col14, #T_ec790_row12_col9 {\n",
              "  font-size: 6pt;\n",
              "  background-color: #fafafa;\n",
              "  color: #000000;\n",
              "}\n",
              "#T_ec790_row7_col12, #T_ec790_row15_col14, #T_ec790_row20_col19 {\n",
              "  font-size: 6pt;\n",
              "  background-color: #fbfbfb;\n",
              "  color: #000000;\n",
              "}\n",
              "#T_ec790_row7_col13 {\n",
              "  font-size: 6pt;\n",
              "  background-color: #fdfdfd;\n",
              "  color: #000000;\n",
              "}\n",
              "#T_ec790_row8_col8 {\n",
              "  font-size: 6pt;\n",
              "  background-color: #1b1b1b;\n",
              "  color: #f1f1f1;\n",
              "}\n",
              "#T_ec790_row8_col15 {\n",
              "  font-size: 6pt;\n",
              "  background-color: #4e4e4e;\n",
              "  color: #f1f1f1;\n",
              "}\n",
              "#T_ec790_row8_col18 {\n",
              "  font-size: 6pt;\n",
              "  background-color: #767676;\n",
              "  color: #f1f1f1;\n",
              "}\n",
              "#T_ec790_row9_col5 {\n",
              "  font-size: 6pt;\n",
              "  background-color: #fcfcfc;\n",
              "  color: #000000;\n",
              "}\n",
              "#T_ec790_row9_col6, #T_ec790_row9_col7, #T_ec790_row19_col20 {\n",
              "  font-size: 6pt;\n",
              "  background-color: #f6f6f6;\n",
              "  color: #000000;\n",
              "}\n",
              "#T_ec790_row9_col8, #T_ec790_row11_col11 {\n",
              "  font-size: 6pt;\n",
              "  background-color: #f8f8f8;\n",
              "  color: #000000;\n",
              "}\n",
              "#T_ec790_row9_col14, #T_ec790_row14_col11 {\n",
              "  font-size: 6pt;\n",
              "  background-color: #e8e8e8;\n",
              "  color: #000000;\n",
              "}\n",
              "#T_ec790_row9_col17, #T_ec790_row10_col16 {\n",
              "  font-size: 6pt;\n",
              "  background-color: #090909;\n",
              "  color: #f1f1f1;\n",
              "}\n",
              "#T_ec790_row9_col18 {\n",
              "  font-size: 6pt;\n",
              "  background-color: #d0d0d0;\n",
              "  color: #000000;\n",
              "}\n",
              "#T_ec790_row10_col14, #T_ec790_row11_col15, #T_ec790_row13_col10 {\n",
              "  font-size: 6pt;\n",
              "  background-color: #060606;\n",
              "  color: #f1f1f1;\n",
              "}\n",
              "#T_ec790_row10_col17 {\n",
              "  font-size: 6pt;\n",
              "  background-color: #979797;\n",
              "  color: #f1f1f1;\n",
              "}\n",
              "#T_ec790_row11_col12 {\n",
              "  font-size: 6pt;\n",
              "  background-color: #b6b6b6;\n",
              "  color: #000000;\n",
              "}\n",
              "#T_ec790_row11_col13 {\n",
              "  font-size: 6pt;\n",
              "  background-color: #252525;\n",
              "  color: #f1f1f1;\n",
              "}\n",
              "#T_ec790_row11_col16 {\n",
              "  font-size: 6pt;\n",
              "  background-color: #999999;\n",
              "  color: #f1f1f1;\n",
              "}\n",
              "#T_ec790_row12_col11, #T_ec790_row22_col12 {\n",
              "  font-size: 6pt;\n",
              "  background-color: #101010;\n",
              "  color: #f1f1f1;\n",
              "}\n",
              "#T_ec790_row12_col13, #T_ec790_row13_col13, #T_ec790_row21_col14, #T_ec790_row22_col13, #T_ec790_row23_col13 {\n",
              "  font-size: 6pt;\n",
              "  background-color: #020202;\n",
              "  color: #f1f1f1;\n",
              "}\n",
              "#T_ec790_row13_col9 {\n",
              "  font-size: 6pt;\n",
              "  background-color: #f7f7f7;\n",
              "  color: #000000;\n",
              "}\n",
              "#T_ec790_row13_col11, #T_ec790_row22_col15 {\n",
              "  font-size: 6pt;\n",
              "  background-color: #030303;\n",
              "  color: #f1f1f1;\n",
              "}\n",
              "#T_ec790_row13_col16 {\n",
              "  font-size: 6pt;\n",
              "  background-color: #181818;\n",
              "  color: #f1f1f1;\n",
              "}\n",
              "#T_ec790_row13_col17 {\n",
              "  font-size: 6pt;\n",
              "  background-color: #303030;\n",
              "  color: #f1f1f1;\n",
              "}\n",
              "#T_ec790_row13_col18 {\n",
              "  font-size: 6pt;\n",
              "  background-color: #a9a9a9;\n",
              "  color: #f1f1f1;\n",
              "}\n",
              "#T_ec790_row13_col19 {\n",
              "  font-size: 6pt;\n",
              "  background-color: #fefefe;\n",
              "  color: #000000;\n",
              "}\n",
              "#T_ec790_row14_col12, #T_ec790_row14_col13, #T_ec790_row20_col14 {\n",
              "  font-size: 6pt;\n",
              "  background-color: #bababa;\n",
              "  color: #000000;\n",
              "}\n",
              "#T_ec790_row14_col14 {\n",
              "  font-size: 6pt;\n",
              "  background-color: #393939;\n",
              "  color: #f1f1f1;\n",
              "}\n",
              "#T_ec790_row14_col20 {\n",
              "  font-size: 6pt;\n",
              "  background-color: #eaeaea;\n",
              "  color: #000000;\n",
              "}\n",
              "#T_ec790_row15_col15 {\n",
              "  font-size: 6pt;\n",
              "  background-color: #e2e2e2;\n",
              "  color: #000000;\n",
              "}\n",
              "#T_ec790_row15_col16 {\n",
              "  font-size: 6pt;\n",
              "  background-color: #9f9f9f;\n",
              "  color: #f1f1f1;\n",
              "}\n",
              "#T_ec790_row15_col20 {\n",
              "  font-size: 6pt;\n",
              "  background-color: #898989;\n",
              "  color: #f1f1f1;\n",
              "}\n",
              "#T_ec790_row16_col17 {\n",
              "  font-size: 6pt;\n",
              "  background-color: #585858;\n",
              "  color: #f1f1f1;\n",
              "}\n",
              "#T_ec790_row17_col17 {\n",
              "  font-size: 6pt;\n",
              "  background-color: #5a5a5a;\n",
              "  color: #f1f1f1;\n",
              "}\n",
              "#T_ec790_row17_col20 {\n",
              "  font-size: 6pt;\n",
              "  background-color: #525252;\n",
              "  color: #f1f1f1;\n",
              "}\n",
              "#T_ec790_row18_col16, #T_ec790_row23_col15 {\n",
              "  font-size: 6pt;\n",
              "  background-color: #c5c5c5;\n",
              "  color: #000000;\n",
              "}\n",
              "#T_ec790_row18_col20 {\n",
              "  font-size: 6pt;\n",
              "  background-color: #d7d7d7;\n",
              "  color: #000000;\n",
              "}\n",
              "#T_ec790_row19_col15, #T_ec790_row22_col9 {\n",
              "  font-size: 6pt;\n",
              "  background-color: #dcdcdc;\n",
              "  color: #000000;\n",
              "}\n",
              "#T_ec790_row19_col16 {\n",
              "  font-size: 6pt;\n",
              "  background-color: #2f2f2f;\n",
              "  color: #f1f1f1;\n",
              "}\n",
              "#T_ec790_row19_col19 {\n",
              "  font-size: 6pt;\n",
              "  background-color: #636363;\n",
              "  color: #f1f1f1;\n",
              "}\n",
              "#T_ec790_row20_col15 {\n",
              "  font-size: 6pt;\n",
              "  background-color: #070707;\n",
              "  color: #f1f1f1;\n",
              "}\n",
              "#T_ec790_row20_col18 {\n",
              "  font-size: 6pt;\n",
              "  background-color: #1f1f1f;\n",
              "  color: #f1f1f1;\n",
              "}\n",
              "#T_ec790_row21_col12, #T_ec790_row22_col6, #T_ec790_row22_col8 {\n",
              "  font-size: 6pt;\n",
              "  background-color: #e9e9e9;\n",
              "  color: #000000;\n",
              "}\n",
              "#T_ec790_row21_col13 {\n",
              "  font-size: 6pt;\n",
              "  background-color: #7d7d7d;\n",
              "  color: #f1f1f1;\n",
              "}\n",
              "#T_ec790_row21_col18 {\n",
              "  font-size: 6pt;\n",
              "  background-color: #e1e1e1;\n",
              "  color: #000000;\n",
              "}\n",
              "#T_ec790_row22_col7, #T_ec790_row22_col10 {\n",
              "  font-size: 6pt;\n",
              "  background-color: #a4a4a4;\n",
              "  color: #f1f1f1;\n",
              "}\n",
              "#T_ec790_row22_col11 {\n",
              "  font-size: 6pt;\n",
              "  background-color: #727272;\n",
              "  color: #f1f1f1;\n",
              "}\n",
              "#T_ec790_row22_col16 {\n",
              "  font-size: 6pt;\n",
              "  background-color: #616161;\n",
              "  color: #f1f1f1;\n",
              "}\n",
              "#T_ec790_row22_col17 {\n",
              "  font-size: 6pt;\n",
              "  background-color: #f3f3f3;\n",
              "  color: #000000;\n",
              "}\n",
              "#T_ec790_row23_col14 {\n",
              "  font-size: 6pt;\n",
              "  background-color: #484848;\n",
              "  color: #f1f1f1;\n",
              "}\n",
              "#T_ec790_row24_col6 {\n",
              "  font-size: 6pt;\n",
              "  background-color: #b3b3b3;\n",
              "  color: #000000;\n",
              "}\n",
              "#T_ec790_row24_col12 {\n",
              "  font-size: 6pt;\n",
              "  background-color: #1a1a1a;\n",
              "  color: #f1f1f1;\n",
              "}\n",
              "#T_ec790_row24_col13 {\n",
              "  font-size: 6pt;\n",
              "  background-color: #d6d6d6;\n",
              "  color: #000000;\n",
              "}\n",
              "</style>\n",
              "<table id=\"T_ec790\" class=\"dataframe\">\n",
              "  <thead>\n",
              "    <tr>\n",
              "      <th class=\"blank level0\" >&nbsp;</th>\n",
              "      <th id=\"T_ec790_level0_col0\" class=\"col_heading level0 col0\" >0</th>\n",
              "      <th id=\"T_ec790_level0_col1\" class=\"col_heading level0 col1\" >1</th>\n",
              "      <th id=\"T_ec790_level0_col2\" class=\"col_heading level0 col2\" >2</th>\n",
              "      <th id=\"T_ec790_level0_col3\" class=\"col_heading level0 col3\" >3</th>\n",
              "      <th id=\"T_ec790_level0_col4\" class=\"col_heading level0 col4\" >4</th>\n",
              "      <th id=\"T_ec790_level0_col5\" class=\"col_heading level0 col5\" >5</th>\n",
              "      <th id=\"T_ec790_level0_col6\" class=\"col_heading level0 col6\" >6</th>\n",
              "      <th id=\"T_ec790_level0_col7\" class=\"col_heading level0 col7\" >7</th>\n",
              "      <th id=\"T_ec790_level0_col8\" class=\"col_heading level0 col8\" >8</th>\n",
              "      <th id=\"T_ec790_level0_col9\" class=\"col_heading level0 col9\" >9</th>\n",
              "      <th id=\"T_ec790_level0_col10\" class=\"col_heading level0 col10\" >10</th>\n",
              "      <th id=\"T_ec790_level0_col11\" class=\"col_heading level0 col11\" >11</th>\n",
              "      <th id=\"T_ec790_level0_col12\" class=\"col_heading level0 col12\" >12</th>\n",
              "      <th id=\"T_ec790_level0_col13\" class=\"col_heading level0 col13\" >13</th>\n",
              "      <th id=\"T_ec790_level0_col14\" class=\"col_heading level0 col14\" >14</th>\n",
              "      <th id=\"T_ec790_level0_col15\" class=\"col_heading level0 col15\" >15</th>\n",
              "      <th id=\"T_ec790_level0_col16\" class=\"col_heading level0 col16\" >16</th>\n",
              "      <th id=\"T_ec790_level0_col17\" class=\"col_heading level0 col17\" >17</th>\n",
              "      <th id=\"T_ec790_level0_col18\" class=\"col_heading level0 col18\" >18</th>\n",
              "      <th id=\"T_ec790_level0_col19\" class=\"col_heading level0 col19\" >19</th>\n",
              "      <th id=\"T_ec790_level0_col20\" class=\"col_heading level0 col20\" >20</th>\n",
              "      <th id=\"T_ec790_level0_col21\" class=\"col_heading level0 col21\" >21</th>\n",
              "      <th id=\"T_ec790_level0_col22\" class=\"col_heading level0 col22\" >22</th>\n",
              "      <th id=\"T_ec790_level0_col23\" class=\"col_heading level0 col23\" >23</th>\n",
              "      <th id=\"T_ec790_level0_col24\" class=\"col_heading level0 col24\" >24</th>\n",
              "      <th id=\"T_ec790_level0_col25\" class=\"col_heading level0 col25\" >25</th>\n",
              "      <th id=\"T_ec790_level0_col26\" class=\"col_heading level0 col26\" >26</th>\n",
              "    </tr>\n",
              "  </thead>\n",
              "  <tbody>\n",
              "    <tr>\n",
              "      <th id=\"T_ec790_level0_row0\" class=\"row_heading level0 row0\" >0</th>\n",
              "      <td id=\"T_ec790_row0_col0\" class=\"data row0 col0\" >0</td>\n",
              "      <td id=\"T_ec790_row0_col1\" class=\"data row0 col1\" >0</td>\n",
              "      <td id=\"T_ec790_row0_col2\" class=\"data row0 col2\" >0</td>\n",
              "      <td id=\"T_ec790_row0_col3\" class=\"data row0 col3\" >0</td>\n",
              "      <td id=\"T_ec790_row0_col4\" class=\"data row0 col4\" >0</td>\n",
              "      <td id=\"T_ec790_row0_col5\" class=\"data row0 col5\" >0</td>\n",
              "      <td id=\"T_ec790_row0_col6\" class=\"data row0 col6\" >0</td>\n",
              "      <td id=\"T_ec790_row0_col7\" class=\"data row0 col7\" >0</td>\n",
              "      <td id=\"T_ec790_row0_col8\" class=\"data row0 col8\" >0</td>\n",
              "      <td id=\"T_ec790_row0_col9\" class=\"data row0 col9\" >0</td>\n",
              "      <td id=\"T_ec790_row0_col10\" class=\"data row0 col10\" >0</td>\n",
              "      <td id=\"T_ec790_row0_col11\" class=\"data row0 col11\" >0</td>\n",
              "      <td id=\"T_ec790_row0_col12\" class=\"data row0 col12\" >0</td>\n",
              "      <td id=\"T_ec790_row0_col13\" class=\"data row0 col13\" >0</td>\n",
              "      <td id=\"T_ec790_row0_col14\" class=\"data row0 col14\" >0</td>\n",
              "      <td id=\"T_ec790_row0_col15\" class=\"data row0 col15\" >0</td>\n",
              "      <td id=\"T_ec790_row0_col16\" class=\"data row0 col16\" >0</td>\n",
              "      <td id=\"T_ec790_row0_col17\" class=\"data row0 col17\" >0</td>\n",
              "      <td id=\"T_ec790_row0_col18\" class=\"data row0 col18\" >0</td>\n",
              "      <td id=\"T_ec790_row0_col19\" class=\"data row0 col19\" >0</td>\n",
              "      <td id=\"T_ec790_row0_col20\" class=\"data row0 col20\" >0</td>\n",
              "      <td id=\"T_ec790_row0_col21\" class=\"data row0 col21\" >0</td>\n",
              "      <td id=\"T_ec790_row0_col22\" class=\"data row0 col22\" >0</td>\n",
              "      <td id=\"T_ec790_row0_col23\" class=\"data row0 col23\" >0</td>\n",
              "      <td id=\"T_ec790_row0_col24\" class=\"data row0 col24\" >0</td>\n",
              "      <td id=\"T_ec790_row0_col25\" class=\"data row0 col25\" >0</td>\n",
              "      <td id=\"T_ec790_row0_col26\" class=\"data row0 col26\" >0</td>\n",
              "    </tr>\n",
              "    <tr>\n",
              "      <th id=\"T_ec790_level0_row1\" class=\"row_heading level0 row1\" >1</th>\n",
              "      <td id=\"T_ec790_row1_col0\" class=\"data row1 col0\" >0</td>\n",
              "      <td id=\"T_ec790_row1_col1\" class=\"data row1 col1\" >0</td>\n",
              "      <td id=\"T_ec790_row1_col2\" class=\"data row1 col2\" >0</td>\n",
              "      <td id=\"T_ec790_row1_col3\" class=\"data row1 col3\" >0</td>\n",
              "      <td id=\"T_ec790_row1_col4\" class=\"data row1 col4\" >0</td>\n",
              "      <td id=\"T_ec790_row1_col5\" class=\"data row1 col5\" >0</td>\n",
              "      <td id=\"T_ec790_row1_col6\" class=\"data row1 col6\" >0</td>\n",
              "      <td id=\"T_ec790_row1_col7\" class=\"data row1 col7\" >0</td>\n",
              "      <td id=\"T_ec790_row1_col8\" class=\"data row1 col8\" >0</td>\n",
              "      <td id=\"T_ec790_row1_col9\" class=\"data row1 col9\" >0</td>\n",
              "      <td id=\"T_ec790_row1_col10\" class=\"data row1 col10\" >0</td>\n",
              "      <td id=\"T_ec790_row1_col11\" class=\"data row1 col11\" >0</td>\n",
              "      <td id=\"T_ec790_row1_col12\" class=\"data row1 col12\" >0</td>\n",
              "      <td id=\"T_ec790_row1_col13\" class=\"data row1 col13\" >0</td>\n",
              "      <td id=\"T_ec790_row1_col14\" class=\"data row1 col14\" >0</td>\n",
              "      <td id=\"T_ec790_row1_col15\" class=\"data row1 col15\" >0</td>\n",
              "      <td id=\"T_ec790_row1_col16\" class=\"data row1 col16\" >0</td>\n",
              "      <td id=\"T_ec790_row1_col17\" class=\"data row1 col17\" >0</td>\n",
              "      <td id=\"T_ec790_row1_col18\" class=\"data row1 col18\" >0</td>\n",
              "      <td id=\"T_ec790_row1_col19\" class=\"data row1 col19\" >0</td>\n",
              "      <td id=\"T_ec790_row1_col20\" class=\"data row1 col20\" >0</td>\n",
              "      <td id=\"T_ec790_row1_col21\" class=\"data row1 col21\" >0</td>\n",
              "      <td id=\"T_ec790_row1_col22\" class=\"data row1 col22\" >0</td>\n",
              "      <td id=\"T_ec790_row1_col23\" class=\"data row1 col23\" >0</td>\n",
              "      <td id=\"T_ec790_row1_col24\" class=\"data row1 col24\" >0</td>\n",
              "      <td id=\"T_ec790_row1_col25\" class=\"data row1 col25\" >0</td>\n",
              "      <td id=\"T_ec790_row1_col26\" class=\"data row1 col26\" >0</td>\n",
              "    </tr>\n",
              "    <tr>\n",
              "      <th id=\"T_ec790_level0_row2\" class=\"row_heading level0 row2\" >2</th>\n",
              "      <td id=\"T_ec790_row2_col0\" class=\"data row2 col0\" >0</td>\n",
              "      <td id=\"T_ec790_row2_col1\" class=\"data row2 col1\" >0</td>\n",
              "      <td id=\"T_ec790_row2_col2\" class=\"data row2 col2\" >0</td>\n",
              "      <td id=\"T_ec790_row2_col3\" class=\"data row2 col3\" >0</td>\n",
              "      <td id=\"T_ec790_row2_col4\" class=\"data row2 col4\" >0</td>\n",
              "      <td id=\"T_ec790_row2_col5\" class=\"data row2 col5\" >0</td>\n",
              "      <td id=\"T_ec790_row2_col6\" class=\"data row2 col6\" >0</td>\n",
              "      <td id=\"T_ec790_row2_col7\" class=\"data row2 col7\" >0</td>\n",
              "      <td id=\"T_ec790_row2_col8\" class=\"data row2 col8\" >0</td>\n",
              "      <td id=\"T_ec790_row2_col9\" class=\"data row2 col9\" >0</td>\n",
              "      <td id=\"T_ec790_row2_col10\" class=\"data row2 col10\" >0</td>\n",
              "      <td id=\"T_ec790_row2_col11\" class=\"data row2 col11\" >0</td>\n",
              "      <td id=\"T_ec790_row2_col12\" class=\"data row2 col12\" >0</td>\n",
              "      <td id=\"T_ec790_row2_col13\" class=\"data row2 col13\" >0</td>\n",
              "      <td id=\"T_ec790_row2_col14\" class=\"data row2 col14\" >0</td>\n",
              "      <td id=\"T_ec790_row2_col15\" class=\"data row2 col15\" >0</td>\n",
              "      <td id=\"T_ec790_row2_col16\" class=\"data row2 col16\" >0</td>\n",
              "      <td id=\"T_ec790_row2_col17\" class=\"data row2 col17\" >0</td>\n",
              "      <td id=\"T_ec790_row2_col18\" class=\"data row2 col18\" >0</td>\n",
              "      <td id=\"T_ec790_row2_col19\" class=\"data row2 col19\" >0</td>\n",
              "      <td id=\"T_ec790_row2_col20\" class=\"data row2 col20\" >0</td>\n",
              "      <td id=\"T_ec790_row2_col21\" class=\"data row2 col21\" >0</td>\n",
              "      <td id=\"T_ec790_row2_col22\" class=\"data row2 col22\" >0</td>\n",
              "      <td id=\"T_ec790_row2_col23\" class=\"data row2 col23\" >0</td>\n",
              "      <td id=\"T_ec790_row2_col24\" class=\"data row2 col24\" >0</td>\n",
              "      <td id=\"T_ec790_row2_col25\" class=\"data row2 col25\" >0</td>\n",
              "      <td id=\"T_ec790_row2_col26\" class=\"data row2 col26\" >0</td>\n",
              "    </tr>\n",
              "    <tr>\n",
              "      <th id=\"T_ec790_level0_row3\" class=\"row_heading level0 row3\" >3</th>\n",
              "      <td id=\"T_ec790_row3_col0\" class=\"data row3 col0\" >0</td>\n",
              "      <td id=\"T_ec790_row3_col1\" class=\"data row3 col1\" >0</td>\n",
              "      <td id=\"T_ec790_row3_col2\" class=\"data row3 col2\" >0</td>\n",
              "      <td id=\"T_ec790_row3_col3\" class=\"data row3 col3\" >0</td>\n",
              "      <td id=\"T_ec790_row3_col4\" class=\"data row3 col4\" >0</td>\n",
              "      <td id=\"T_ec790_row3_col5\" class=\"data row3 col5\" >0</td>\n",
              "      <td id=\"T_ec790_row3_col6\" class=\"data row3 col6\" >0</td>\n",
              "      <td id=\"T_ec790_row3_col7\" class=\"data row3 col7\" >0</td>\n",
              "      <td id=\"T_ec790_row3_col8\" class=\"data row3 col8\" >0</td>\n",
              "      <td id=\"T_ec790_row3_col9\" class=\"data row3 col9\" >0</td>\n",
              "      <td id=\"T_ec790_row3_col10\" class=\"data row3 col10\" >0</td>\n",
              "      <td id=\"T_ec790_row3_col11\" class=\"data row3 col11\" >0</td>\n",
              "      <td id=\"T_ec790_row3_col12\" class=\"data row3 col12\" >0</td>\n",
              "      <td id=\"T_ec790_row3_col13\" class=\"data row3 col13\" >0</td>\n",
              "      <td id=\"T_ec790_row3_col14\" class=\"data row3 col14\" >0</td>\n",
              "      <td id=\"T_ec790_row3_col15\" class=\"data row3 col15\" >0</td>\n",
              "      <td id=\"T_ec790_row3_col16\" class=\"data row3 col16\" >0</td>\n",
              "      <td id=\"T_ec790_row3_col17\" class=\"data row3 col17\" >0</td>\n",
              "      <td id=\"T_ec790_row3_col18\" class=\"data row3 col18\" >0</td>\n",
              "      <td id=\"T_ec790_row3_col19\" class=\"data row3 col19\" >0</td>\n",
              "      <td id=\"T_ec790_row3_col20\" class=\"data row3 col20\" >0</td>\n",
              "      <td id=\"T_ec790_row3_col21\" class=\"data row3 col21\" >0</td>\n",
              "      <td id=\"T_ec790_row3_col22\" class=\"data row3 col22\" >0</td>\n",
              "      <td id=\"T_ec790_row3_col23\" class=\"data row3 col23\" >0</td>\n",
              "      <td id=\"T_ec790_row3_col24\" class=\"data row3 col24\" >0</td>\n",
              "      <td id=\"T_ec790_row3_col25\" class=\"data row3 col25\" >0</td>\n",
              "      <td id=\"T_ec790_row3_col26\" class=\"data row3 col26\" >0</td>\n",
              "    </tr>\n",
              "    <tr>\n",
              "      <th id=\"T_ec790_level0_row4\" class=\"row_heading level0 row4\" >4</th>\n",
              "      <td id=\"T_ec790_row4_col0\" class=\"data row4 col0\" >0</td>\n",
              "      <td id=\"T_ec790_row4_col1\" class=\"data row4 col1\" >0</td>\n",
              "      <td id=\"T_ec790_row4_col2\" class=\"data row4 col2\" >0</td>\n",
              "      <td id=\"T_ec790_row4_col3\" class=\"data row4 col3\" >0</td>\n",
              "      <td id=\"T_ec790_row4_col4\" class=\"data row4 col4\" >0</td>\n",
              "      <td id=\"T_ec790_row4_col5\" class=\"data row4 col5\" >0</td>\n",
              "      <td id=\"T_ec790_row4_col6\" class=\"data row4 col6\" >0</td>\n",
              "      <td id=\"T_ec790_row4_col7\" class=\"data row4 col7\" >0</td>\n",
              "      <td id=\"T_ec790_row4_col8\" class=\"data row4 col8\" >0</td>\n",
              "      <td id=\"T_ec790_row4_col9\" class=\"data row4 col9\" >0</td>\n",
              "      <td id=\"T_ec790_row4_col10\" class=\"data row4 col10\" >0</td>\n",
              "      <td id=\"T_ec790_row4_col11\" class=\"data row4 col11\" >0</td>\n",
              "      <td id=\"T_ec790_row4_col12\" class=\"data row4 col12\" >0</td>\n",
              "      <td id=\"T_ec790_row4_col13\" class=\"data row4 col13\" >0</td>\n",
              "      <td id=\"T_ec790_row4_col14\" class=\"data row4 col14\" >0</td>\n",
              "      <td id=\"T_ec790_row4_col15\" class=\"data row4 col15\" >0</td>\n",
              "      <td id=\"T_ec790_row4_col16\" class=\"data row4 col16\" >0</td>\n",
              "      <td id=\"T_ec790_row4_col17\" class=\"data row4 col17\" >0</td>\n",
              "      <td id=\"T_ec790_row4_col18\" class=\"data row4 col18\" >0</td>\n",
              "      <td id=\"T_ec790_row4_col19\" class=\"data row4 col19\" >0</td>\n",
              "      <td id=\"T_ec790_row4_col20\" class=\"data row4 col20\" >0</td>\n",
              "      <td id=\"T_ec790_row4_col21\" class=\"data row4 col21\" >0</td>\n",
              "      <td id=\"T_ec790_row4_col22\" class=\"data row4 col22\" >0</td>\n",
              "      <td id=\"T_ec790_row4_col23\" class=\"data row4 col23\" >0</td>\n",
              "      <td id=\"T_ec790_row4_col24\" class=\"data row4 col24\" >0</td>\n",
              "      <td id=\"T_ec790_row4_col25\" class=\"data row4 col25\" >0</td>\n",
              "      <td id=\"T_ec790_row4_col26\" class=\"data row4 col26\" >0</td>\n",
              "    </tr>\n",
              "    <tr>\n",
              "      <th id=\"T_ec790_level0_row5\" class=\"row_heading level0 row5\" >5</th>\n",
              "      <td id=\"T_ec790_row5_col0\" class=\"data row5 col0\" >0</td>\n",
              "      <td id=\"T_ec790_row5_col1\" class=\"data row5 col1\" >0</td>\n",
              "      <td id=\"T_ec790_row5_col2\" class=\"data row5 col2\" >0</td>\n",
              "      <td id=\"T_ec790_row5_col3\" class=\"data row5 col3\" >0</td>\n",
              "      <td id=\"T_ec790_row5_col4\" class=\"data row5 col4\" >0</td>\n",
              "      <td id=\"T_ec790_row5_col5\" class=\"data row5 col5\" >0</td>\n",
              "      <td id=\"T_ec790_row5_col6\" class=\"data row5 col6\" >0</td>\n",
              "      <td id=\"T_ec790_row5_col7\" class=\"data row5 col7\" >0</td>\n",
              "      <td id=\"T_ec790_row5_col8\" class=\"data row5 col8\" >0</td>\n",
              "      <td id=\"T_ec790_row5_col9\" class=\"data row5 col9\" >29</td>\n",
              "      <td id=\"T_ec790_row5_col10\" class=\"data row5 col10\" >150</td>\n",
              "      <td id=\"T_ec790_row5_col11\" class=\"data row5 col11\" >195</td>\n",
              "      <td id=\"T_ec790_row5_col12\" class=\"data row5 col12\" >254</td>\n",
              "      <td id=\"T_ec790_row5_col13\" class=\"data row5 col13\" >255</td>\n",
              "      <td id=\"T_ec790_row5_col14\" class=\"data row5 col14\" >254</td>\n",
              "      <td id=\"T_ec790_row5_col15\" class=\"data row5 col15\" >176</td>\n",
              "      <td id=\"T_ec790_row5_col16\" class=\"data row5 col16\" >193</td>\n",
              "      <td id=\"T_ec790_row5_col17\" class=\"data row5 col17\" >150</td>\n",
              "      <td id=\"T_ec790_row5_col18\" class=\"data row5 col18\" >96</td>\n",
              "      <td id=\"T_ec790_row5_col19\" class=\"data row5 col19\" >0</td>\n",
              "      <td id=\"T_ec790_row5_col20\" class=\"data row5 col20\" >0</td>\n",
              "      <td id=\"T_ec790_row5_col21\" class=\"data row5 col21\" >0</td>\n",
              "      <td id=\"T_ec790_row5_col22\" class=\"data row5 col22\" >0</td>\n",
              "      <td id=\"T_ec790_row5_col23\" class=\"data row5 col23\" >0</td>\n",
              "      <td id=\"T_ec790_row5_col24\" class=\"data row5 col24\" >0</td>\n",
              "      <td id=\"T_ec790_row5_col25\" class=\"data row5 col25\" >0</td>\n",
              "      <td id=\"T_ec790_row5_col26\" class=\"data row5 col26\" >0</td>\n",
              "    </tr>\n",
              "    <tr>\n",
              "      <th id=\"T_ec790_level0_row6\" class=\"row_heading level0 row6\" >6</th>\n",
              "      <td id=\"T_ec790_row6_col0\" class=\"data row6 col0\" >0</td>\n",
              "      <td id=\"T_ec790_row6_col1\" class=\"data row6 col1\" >0</td>\n",
              "      <td id=\"T_ec790_row6_col2\" class=\"data row6 col2\" >0</td>\n",
              "      <td id=\"T_ec790_row6_col3\" class=\"data row6 col3\" >0</td>\n",
              "      <td id=\"T_ec790_row6_col4\" class=\"data row6 col4\" >0</td>\n",
              "      <td id=\"T_ec790_row6_col5\" class=\"data row6 col5\" >0</td>\n",
              "      <td id=\"T_ec790_row6_col6\" class=\"data row6 col6\" >0</td>\n",
              "      <td id=\"T_ec790_row6_col7\" class=\"data row6 col7\" >48</td>\n",
              "      <td id=\"T_ec790_row6_col8\" class=\"data row6 col8\" >166</td>\n",
              "      <td id=\"T_ec790_row6_col9\" class=\"data row6 col9\" >224</td>\n",
              "      <td id=\"T_ec790_row6_col10\" class=\"data row6 col10\" >253</td>\n",
              "      <td id=\"T_ec790_row6_col11\" class=\"data row6 col11\" >253</td>\n",
              "      <td id=\"T_ec790_row6_col12\" class=\"data row6 col12\" >234</td>\n",
              "      <td id=\"T_ec790_row6_col13\" class=\"data row6 col13\" >196</td>\n",
              "      <td id=\"T_ec790_row6_col14\" class=\"data row6 col14\" >253</td>\n",
              "      <td id=\"T_ec790_row6_col15\" class=\"data row6 col15\" >253</td>\n",
              "      <td id=\"T_ec790_row6_col16\" class=\"data row6 col16\" >253</td>\n",
              "      <td id=\"T_ec790_row6_col17\" class=\"data row6 col17\" >253</td>\n",
              "      <td id=\"T_ec790_row6_col18\" class=\"data row6 col18\" >233</td>\n",
              "      <td id=\"T_ec790_row6_col19\" class=\"data row6 col19\" >0</td>\n",
              "      <td id=\"T_ec790_row6_col20\" class=\"data row6 col20\" >0</td>\n",
              "      <td id=\"T_ec790_row6_col21\" class=\"data row6 col21\" >0</td>\n",
              "      <td id=\"T_ec790_row6_col22\" class=\"data row6 col22\" >0</td>\n",
              "      <td id=\"T_ec790_row6_col23\" class=\"data row6 col23\" >0</td>\n",
              "      <td id=\"T_ec790_row6_col24\" class=\"data row6 col24\" >0</td>\n",
              "      <td id=\"T_ec790_row6_col25\" class=\"data row6 col25\" >0</td>\n",
              "      <td id=\"T_ec790_row6_col26\" class=\"data row6 col26\" >0</td>\n",
              "    </tr>\n",
              "    <tr>\n",
              "      <th id=\"T_ec790_level0_row7\" class=\"row_heading level0 row7\" >7</th>\n",
              "      <td id=\"T_ec790_row7_col0\" class=\"data row7 col0\" >0</td>\n",
              "      <td id=\"T_ec790_row7_col1\" class=\"data row7 col1\" >0</td>\n",
              "      <td id=\"T_ec790_row7_col2\" class=\"data row7 col2\" >0</td>\n",
              "      <td id=\"T_ec790_row7_col3\" class=\"data row7 col3\" >0</td>\n",
              "      <td id=\"T_ec790_row7_col4\" class=\"data row7 col4\" >0</td>\n",
              "      <td id=\"T_ec790_row7_col5\" class=\"data row7 col5\" >93</td>\n",
              "      <td id=\"T_ec790_row7_col6\" class=\"data row7 col6\" >244</td>\n",
              "      <td id=\"T_ec790_row7_col7\" class=\"data row7 col7\" >249</td>\n",
              "      <td id=\"T_ec790_row7_col8\" class=\"data row7 col8\" >253</td>\n",
              "      <td id=\"T_ec790_row7_col9\" class=\"data row7 col9\" >187</td>\n",
              "      <td id=\"T_ec790_row7_col10\" class=\"data row7 col10\" >46</td>\n",
              "      <td id=\"T_ec790_row7_col11\" class=\"data row7 col11\" >10</td>\n",
              "      <td id=\"T_ec790_row7_col12\" class=\"data row7 col12\" >8</td>\n",
              "      <td id=\"T_ec790_row7_col13\" class=\"data row7 col13\" >4</td>\n",
              "      <td id=\"T_ec790_row7_col14\" class=\"data row7 col14\" >10</td>\n",
              "      <td id=\"T_ec790_row7_col15\" class=\"data row7 col15\" >194</td>\n",
              "      <td id=\"T_ec790_row7_col16\" class=\"data row7 col16\" >253</td>\n",
              "      <td id=\"T_ec790_row7_col17\" class=\"data row7 col17\" >253</td>\n",
              "      <td id=\"T_ec790_row7_col18\" class=\"data row7 col18\" >233</td>\n",
              "      <td id=\"T_ec790_row7_col19\" class=\"data row7 col19\" >0</td>\n",
              "      <td id=\"T_ec790_row7_col20\" class=\"data row7 col20\" >0</td>\n",
              "      <td id=\"T_ec790_row7_col21\" class=\"data row7 col21\" >0</td>\n",
              "      <td id=\"T_ec790_row7_col22\" class=\"data row7 col22\" >0</td>\n",
              "      <td id=\"T_ec790_row7_col23\" class=\"data row7 col23\" >0</td>\n",
              "      <td id=\"T_ec790_row7_col24\" class=\"data row7 col24\" >0</td>\n",
              "      <td id=\"T_ec790_row7_col25\" class=\"data row7 col25\" >0</td>\n",
              "      <td id=\"T_ec790_row7_col26\" class=\"data row7 col26\" >0</td>\n",
              "    </tr>\n",
              "    <tr>\n",
              "      <th id=\"T_ec790_level0_row8\" class=\"row_heading level0 row8\" >8</th>\n",
              "      <td id=\"T_ec790_row8_col0\" class=\"data row8 col0\" >0</td>\n",
              "      <td id=\"T_ec790_row8_col1\" class=\"data row8 col1\" >0</td>\n",
              "      <td id=\"T_ec790_row8_col2\" class=\"data row8 col2\" >0</td>\n",
              "      <td id=\"T_ec790_row8_col3\" class=\"data row8 col3\" >0</td>\n",
              "      <td id=\"T_ec790_row8_col4\" class=\"data row8 col4\" >0</td>\n",
              "      <td id=\"T_ec790_row8_col5\" class=\"data row8 col5\" >107</td>\n",
              "      <td id=\"T_ec790_row8_col6\" class=\"data row8 col6\" >253</td>\n",
              "      <td id=\"T_ec790_row8_col7\" class=\"data row8 col7\" >253</td>\n",
              "      <td id=\"T_ec790_row8_col8\" class=\"data row8 col8\" >230</td>\n",
              "      <td id=\"T_ec790_row8_col9\" class=\"data row8 col9\" >48</td>\n",
              "      <td id=\"T_ec790_row8_col10\" class=\"data row8 col10\" >0</td>\n",
              "      <td id=\"T_ec790_row8_col11\" class=\"data row8 col11\" >0</td>\n",
              "      <td id=\"T_ec790_row8_col12\" class=\"data row8 col12\" >0</td>\n",
              "      <td id=\"T_ec790_row8_col13\" class=\"data row8 col13\" >0</td>\n",
              "      <td id=\"T_ec790_row8_col14\" class=\"data row8 col14\" >0</td>\n",
              "      <td id=\"T_ec790_row8_col15\" class=\"data row8 col15\" >192</td>\n",
              "      <td id=\"T_ec790_row8_col16\" class=\"data row8 col16\" >253</td>\n",
              "      <td id=\"T_ec790_row8_col17\" class=\"data row8 col17\" >253</td>\n",
              "      <td id=\"T_ec790_row8_col18\" class=\"data row8 col18\" >156</td>\n",
              "      <td id=\"T_ec790_row8_col19\" class=\"data row8 col19\" >0</td>\n",
              "      <td id=\"T_ec790_row8_col20\" class=\"data row8 col20\" >0</td>\n",
              "      <td id=\"T_ec790_row8_col21\" class=\"data row8 col21\" >0</td>\n",
              "      <td id=\"T_ec790_row8_col22\" class=\"data row8 col22\" >0</td>\n",
              "      <td id=\"T_ec790_row8_col23\" class=\"data row8 col23\" >0</td>\n",
              "      <td id=\"T_ec790_row8_col24\" class=\"data row8 col24\" >0</td>\n",
              "      <td id=\"T_ec790_row8_col25\" class=\"data row8 col25\" >0</td>\n",
              "      <td id=\"T_ec790_row8_col26\" class=\"data row8 col26\" >0</td>\n",
              "    </tr>\n",
              "    <tr>\n",
              "      <th id=\"T_ec790_level0_row9\" class=\"row_heading level0 row9\" >9</th>\n",
              "      <td id=\"T_ec790_row9_col0\" class=\"data row9 col0\" >0</td>\n",
              "      <td id=\"T_ec790_row9_col1\" class=\"data row9 col1\" >0</td>\n",
              "      <td id=\"T_ec790_row9_col2\" class=\"data row9 col2\" >0</td>\n",
              "      <td id=\"T_ec790_row9_col3\" class=\"data row9 col3\" >0</td>\n",
              "      <td id=\"T_ec790_row9_col4\" class=\"data row9 col4\" >0</td>\n",
              "      <td id=\"T_ec790_row9_col5\" class=\"data row9 col5\" >3</td>\n",
              "      <td id=\"T_ec790_row9_col6\" class=\"data row9 col6\" >20</td>\n",
              "      <td id=\"T_ec790_row9_col7\" class=\"data row9 col7\" >20</td>\n",
              "      <td id=\"T_ec790_row9_col8\" class=\"data row9 col8\" >15</td>\n",
              "      <td id=\"T_ec790_row9_col9\" class=\"data row9 col9\" >0</td>\n",
              "      <td id=\"T_ec790_row9_col10\" class=\"data row9 col10\" >0</td>\n",
              "      <td id=\"T_ec790_row9_col11\" class=\"data row9 col11\" >0</td>\n",
              "      <td id=\"T_ec790_row9_col12\" class=\"data row9 col12\" >0</td>\n",
              "      <td id=\"T_ec790_row9_col13\" class=\"data row9 col13\" >0</td>\n",
              "      <td id=\"T_ec790_row9_col14\" class=\"data row9 col14\" >43</td>\n",
              "      <td id=\"T_ec790_row9_col15\" class=\"data row9 col15\" >224</td>\n",
              "      <td id=\"T_ec790_row9_col16\" class=\"data row9 col16\" >253</td>\n",
              "      <td id=\"T_ec790_row9_col17\" class=\"data row9 col17\" >245</td>\n",
              "      <td id=\"T_ec790_row9_col18\" class=\"data row9 col18\" >74</td>\n",
              "      <td id=\"T_ec790_row9_col19\" class=\"data row9 col19\" >0</td>\n",
              "      <td id=\"T_ec790_row9_col20\" class=\"data row9 col20\" >0</td>\n",
              "      <td id=\"T_ec790_row9_col21\" class=\"data row9 col21\" >0</td>\n",
              "      <td id=\"T_ec790_row9_col22\" class=\"data row9 col22\" >0</td>\n",
              "      <td id=\"T_ec790_row9_col23\" class=\"data row9 col23\" >0</td>\n",
              "      <td id=\"T_ec790_row9_col24\" class=\"data row9 col24\" >0</td>\n",
              "      <td id=\"T_ec790_row9_col25\" class=\"data row9 col25\" >0</td>\n",
              "      <td id=\"T_ec790_row9_col26\" class=\"data row9 col26\" >0</td>\n",
              "    </tr>\n",
              "    <tr>\n",
              "      <th id=\"T_ec790_level0_row10\" class=\"row_heading level0 row10\" >10</th>\n",
              "      <td id=\"T_ec790_row10_col0\" class=\"data row10 col0\" >0</td>\n",
              "      <td id=\"T_ec790_row10_col1\" class=\"data row10 col1\" >0</td>\n",
              "      <td id=\"T_ec790_row10_col2\" class=\"data row10 col2\" >0</td>\n",
              "      <td id=\"T_ec790_row10_col3\" class=\"data row10 col3\" >0</td>\n",
              "      <td id=\"T_ec790_row10_col4\" class=\"data row10 col4\" >0</td>\n",
              "      <td id=\"T_ec790_row10_col5\" class=\"data row10 col5\" >0</td>\n",
              "      <td id=\"T_ec790_row10_col6\" class=\"data row10 col6\" >0</td>\n",
              "      <td id=\"T_ec790_row10_col7\" class=\"data row10 col7\" >0</td>\n",
              "      <td id=\"T_ec790_row10_col8\" class=\"data row10 col8\" >0</td>\n",
              "      <td id=\"T_ec790_row10_col9\" class=\"data row10 col9\" >0</td>\n",
              "      <td id=\"T_ec790_row10_col10\" class=\"data row10 col10\" >0</td>\n",
              "      <td id=\"T_ec790_row10_col11\" class=\"data row10 col11\" >0</td>\n",
              "      <td id=\"T_ec790_row10_col12\" class=\"data row10 col12\" >0</td>\n",
              "      <td id=\"T_ec790_row10_col13\" class=\"data row10 col13\" >0</td>\n",
              "      <td id=\"T_ec790_row10_col14\" class=\"data row10 col14\" >249</td>\n",
              "      <td id=\"T_ec790_row10_col15\" class=\"data row10 col15\" >253</td>\n",
              "      <td id=\"T_ec790_row10_col16\" class=\"data row10 col16\" >245</td>\n",
              "      <td id=\"T_ec790_row10_col17\" class=\"data row10 col17\" >126</td>\n",
              "      <td id=\"T_ec790_row10_col18\" class=\"data row10 col18\" >0</td>\n",
              "      <td id=\"T_ec790_row10_col19\" class=\"data row10 col19\" >0</td>\n",
              "      <td id=\"T_ec790_row10_col20\" class=\"data row10 col20\" >0</td>\n",
              "      <td id=\"T_ec790_row10_col21\" class=\"data row10 col21\" >0</td>\n",
              "      <td id=\"T_ec790_row10_col22\" class=\"data row10 col22\" >0</td>\n",
              "      <td id=\"T_ec790_row10_col23\" class=\"data row10 col23\" >0</td>\n",
              "      <td id=\"T_ec790_row10_col24\" class=\"data row10 col24\" >0</td>\n",
              "      <td id=\"T_ec790_row10_col25\" class=\"data row10 col25\" >0</td>\n",
              "      <td id=\"T_ec790_row10_col26\" class=\"data row10 col26\" >0</td>\n",
              "    </tr>\n",
              "    <tr>\n",
              "      <th id=\"T_ec790_level0_row11\" class=\"row_heading level0 row11\" >11</th>\n",
              "      <td id=\"T_ec790_row11_col0\" class=\"data row11 col0\" >0</td>\n",
              "      <td id=\"T_ec790_row11_col1\" class=\"data row11 col1\" >0</td>\n",
              "      <td id=\"T_ec790_row11_col2\" class=\"data row11 col2\" >0</td>\n",
              "      <td id=\"T_ec790_row11_col3\" class=\"data row11 col3\" >0</td>\n",
              "      <td id=\"T_ec790_row11_col4\" class=\"data row11 col4\" >0</td>\n",
              "      <td id=\"T_ec790_row11_col5\" class=\"data row11 col5\" >0</td>\n",
              "      <td id=\"T_ec790_row11_col6\" class=\"data row11 col6\" >0</td>\n",
              "      <td id=\"T_ec790_row11_col7\" class=\"data row11 col7\" >0</td>\n",
              "      <td id=\"T_ec790_row11_col8\" class=\"data row11 col8\" >0</td>\n",
              "      <td id=\"T_ec790_row11_col9\" class=\"data row11 col9\" >0</td>\n",
              "      <td id=\"T_ec790_row11_col10\" class=\"data row11 col10\" >0</td>\n",
              "      <td id=\"T_ec790_row11_col11\" class=\"data row11 col11\" >14</td>\n",
              "      <td id=\"T_ec790_row11_col12\" class=\"data row11 col12\" >101</td>\n",
              "      <td id=\"T_ec790_row11_col13\" class=\"data row11 col13\" >223</td>\n",
              "      <td id=\"T_ec790_row11_col14\" class=\"data row11 col14\" >253</td>\n",
              "      <td id=\"T_ec790_row11_col15\" class=\"data row11 col15\" >248</td>\n",
              "      <td id=\"T_ec790_row11_col16\" class=\"data row11 col16\" >124</td>\n",
              "      <td id=\"T_ec790_row11_col17\" class=\"data row11 col17\" >0</td>\n",
              "      <td id=\"T_ec790_row11_col18\" class=\"data row11 col18\" >0</td>\n",
              "      <td id=\"T_ec790_row11_col19\" class=\"data row11 col19\" >0</td>\n",
              "      <td id=\"T_ec790_row11_col20\" class=\"data row11 col20\" >0</td>\n",
              "      <td id=\"T_ec790_row11_col21\" class=\"data row11 col21\" >0</td>\n",
              "      <td id=\"T_ec790_row11_col22\" class=\"data row11 col22\" >0</td>\n",
              "      <td id=\"T_ec790_row11_col23\" class=\"data row11 col23\" >0</td>\n",
              "      <td id=\"T_ec790_row11_col24\" class=\"data row11 col24\" >0</td>\n",
              "      <td id=\"T_ec790_row11_col25\" class=\"data row11 col25\" >0</td>\n",
              "      <td id=\"T_ec790_row11_col26\" class=\"data row11 col26\" >0</td>\n",
              "    </tr>\n",
              "    <tr>\n",
              "      <th id=\"T_ec790_level0_row12\" class=\"row_heading level0 row12\" >12</th>\n",
              "      <td id=\"T_ec790_row12_col0\" class=\"data row12 col0\" >0</td>\n",
              "      <td id=\"T_ec790_row12_col1\" class=\"data row12 col1\" >0</td>\n",
              "      <td id=\"T_ec790_row12_col2\" class=\"data row12 col2\" >0</td>\n",
              "      <td id=\"T_ec790_row12_col3\" class=\"data row12 col3\" >0</td>\n",
              "      <td id=\"T_ec790_row12_col4\" class=\"data row12 col4\" >0</td>\n",
              "      <td id=\"T_ec790_row12_col5\" class=\"data row12 col5\" >0</td>\n",
              "      <td id=\"T_ec790_row12_col6\" class=\"data row12 col6\" >0</td>\n",
              "      <td id=\"T_ec790_row12_col7\" class=\"data row12 col7\" >0</td>\n",
              "      <td id=\"T_ec790_row12_col8\" class=\"data row12 col8\" >0</td>\n",
              "      <td id=\"T_ec790_row12_col9\" class=\"data row12 col9\" >11</td>\n",
              "      <td id=\"T_ec790_row12_col10\" class=\"data row12 col10\" >166</td>\n",
              "      <td id=\"T_ec790_row12_col11\" class=\"data row12 col11\" >239</td>\n",
              "      <td id=\"T_ec790_row12_col12\" class=\"data row12 col12\" >253</td>\n",
              "      <td id=\"T_ec790_row12_col13\" class=\"data row12 col13\" >253</td>\n",
              "      <td id=\"T_ec790_row12_col14\" class=\"data row12 col14\" >253</td>\n",
              "      <td id=\"T_ec790_row12_col15\" class=\"data row12 col15\" >187</td>\n",
              "      <td id=\"T_ec790_row12_col16\" class=\"data row12 col16\" >30</td>\n",
              "      <td id=\"T_ec790_row12_col17\" class=\"data row12 col17\" >0</td>\n",
              "      <td id=\"T_ec790_row12_col18\" class=\"data row12 col18\" >0</td>\n",
              "      <td id=\"T_ec790_row12_col19\" class=\"data row12 col19\" >0</td>\n",
              "      <td id=\"T_ec790_row12_col20\" class=\"data row12 col20\" >0</td>\n",
              "      <td id=\"T_ec790_row12_col21\" class=\"data row12 col21\" >0</td>\n",
              "      <td id=\"T_ec790_row12_col22\" class=\"data row12 col22\" >0</td>\n",
              "      <td id=\"T_ec790_row12_col23\" class=\"data row12 col23\" >0</td>\n",
              "      <td id=\"T_ec790_row12_col24\" class=\"data row12 col24\" >0</td>\n",
              "      <td id=\"T_ec790_row12_col25\" class=\"data row12 col25\" >0</td>\n",
              "      <td id=\"T_ec790_row12_col26\" class=\"data row12 col26\" >0</td>\n",
              "    </tr>\n",
              "    <tr>\n",
              "      <th id=\"T_ec790_level0_row13\" class=\"row_heading level0 row13\" >13</th>\n",
              "      <td id=\"T_ec790_row13_col0\" class=\"data row13 col0\" >0</td>\n",
              "      <td id=\"T_ec790_row13_col1\" class=\"data row13 col1\" >0</td>\n",
              "      <td id=\"T_ec790_row13_col2\" class=\"data row13 col2\" >0</td>\n",
              "      <td id=\"T_ec790_row13_col3\" class=\"data row13 col3\" >0</td>\n",
              "      <td id=\"T_ec790_row13_col4\" class=\"data row13 col4\" >0</td>\n",
              "      <td id=\"T_ec790_row13_col5\" class=\"data row13 col5\" >0</td>\n",
              "      <td id=\"T_ec790_row13_col6\" class=\"data row13 col6\" >0</td>\n",
              "      <td id=\"T_ec790_row13_col7\" class=\"data row13 col7\" >0</td>\n",
              "      <td id=\"T_ec790_row13_col8\" class=\"data row13 col8\" >0</td>\n",
              "      <td id=\"T_ec790_row13_col9\" class=\"data row13 col9\" >16</td>\n",
              "      <td id=\"T_ec790_row13_col10\" class=\"data row13 col10\" >248</td>\n",
              "      <td id=\"T_ec790_row13_col11\" class=\"data row13 col11\" >250</td>\n",
              "      <td id=\"T_ec790_row13_col12\" class=\"data row13 col12\" >253</td>\n",
              "      <td id=\"T_ec790_row13_col13\" class=\"data row13 col13\" >253</td>\n",
              "      <td id=\"T_ec790_row13_col14\" class=\"data row13 col14\" >253</td>\n",
              "      <td id=\"T_ec790_row13_col15\" class=\"data row13 col15\" >253</td>\n",
              "      <td id=\"T_ec790_row13_col16\" class=\"data row13 col16\" >232</td>\n",
              "      <td id=\"T_ec790_row13_col17\" class=\"data row13 col17\" >213</td>\n",
              "      <td id=\"T_ec790_row13_col18\" class=\"data row13 col18\" >111</td>\n",
              "      <td id=\"T_ec790_row13_col19\" class=\"data row13 col19\" >2</td>\n",
              "      <td id=\"T_ec790_row13_col20\" class=\"data row13 col20\" >0</td>\n",
              "      <td id=\"T_ec790_row13_col21\" class=\"data row13 col21\" >0</td>\n",
              "      <td id=\"T_ec790_row13_col22\" class=\"data row13 col22\" >0</td>\n",
              "      <td id=\"T_ec790_row13_col23\" class=\"data row13 col23\" >0</td>\n",
              "      <td id=\"T_ec790_row13_col24\" class=\"data row13 col24\" >0</td>\n",
              "      <td id=\"T_ec790_row13_col25\" class=\"data row13 col25\" >0</td>\n",
              "      <td id=\"T_ec790_row13_col26\" class=\"data row13 col26\" >0</td>\n",
              "    </tr>\n",
              "    <tr>\n",
              "      <th id=\"T_ec790_level0_row14\" class=\"row_heading level0 row14\" >14</th>\n",
              "      <td id=\"T_ec790_row14_col0\" class=\"data row14 col0\" >0</td>\n",
              "      <td id=\"T_ec790_row14_col1\" class=\"data row14 col1\" >0</td>\n",
              "      <td id=\"T_ec790_row14_col2\" class=\"data row14 col2\" >0</td>\n",
              "      <td id=\"T_ec790_row14_col3\" class=\"data row14 col3\" >0</td>\n",
              "      <td id=\"T_ec790_row14_col4\" class=\"data row14 col4\" >0</td>\n",
              "      <td id=\"T_ec790_row14_col5\" class=\"data row14 col5\" >0</td>\n",
              "      <td id=\"T_ec790_row14_col6\" class=\"data row14 col6\" >0</td>\n",
              "      <td id=\"T_ec790_row14_col7\" class=\"data row14 col7\" >0</td>\n",
              "      <td id=\"T_ec790_row14_col8\" class=\"data row14 col8\" >0</td>\n",
              "      <td id=\"T_ec790_row14_col9\" class=\"data row14 col9\" >0</td>\n",
              "      <td id=\"T_ec790_row14_col10\" class=\"data row14 col10\" >0</td>\n",
              "      <td id=\"T_ec790_row14_col11\" class=\"data row14 col11\" >43</td>\n",
              "      <td id=\"T_ec790_row14_col12\" class=\"data row14 col12\" >98</td>\n",
              "      <td id=\"T_ec790_row14_col13\" class=\"data row14 col13\" >98</td>\n",
              "      <td id=\"T_ec790_row14_col14\" class=\"data row14 col14\" >208</td>\n",
              "      <td id=\"T_ec790_row14_col15\" class=\"data row14 col15\" >253</td>\n",
              "      <td id=\"T_ec790_row14_col16\" class=\"data row14 col16\" >253</td>\n",
              "      <td id=\"T_ec790_row14_col17\" class=\"data row14 col17\" >253</td>\n",
              "      <td id=\"T_ec790_row14_col18\" class=\"data row14 col18\" >253</td>\n",
              "      <td id=\"T_ec790_row14_col19\" class=\"data row14 col19\" >187</td>\n",
              "      <td id=\"T_ec790_row14_col20\" class=\"data row14 col20\" >22</td>\n",
              "      <td id=\"T_ec790_row14_col21\" class=\"data row14 col21\" >0</td>\n",
              "      <td id=\"T_ec790_row14_col22\" class=\"data row14 col22\" >0</td>\n",
              "      <td id=\"T_ec790_row14_col23\" class=\"data row14 col23\" >0</td>\n",
              "      <td id=\"T_ec790_row14_col24\" class=\"data row14 col24\" >0</td>\n",
              "      <td id=\"T_ec790_row14_col25\" class=\"data row14 col25\" >0</td>\n",
              "      <td id=\"T_ec790_row14_col26\" class=\"data row14 col26\" >0</td>\n",
              "    </tr>\n",
              "    <tr>\n",
              "      <th id=\"T_ec790_level0_row15\" class=\"row_heading level0 row15\" >15</th>\n",
              "      <td id=\"T_ec790_row15_col0\" class=\"data row15 col0\" >0</td>\n",
              "      <td id=\"T_ec790_row15_col1\" class=\"data row15 col1\" >0</td>\n",
              "      <td id=\"T_ec790_row15_col2\" class=\"data row15 col2\" >0</td>\n",
              "      <td id=\"T_ec790_row15_col3\" class=\"data row15 col3\" >0</td>\n",
              "      <td id=\"T_ec790_row15_col4\" class=\"data row15 col4\" >0</td>\n",
              "      <td id=\"T_ec790_row15_col5\" class=\"data row15 col5\" >0</td>\n",
              "      <td id=\"T_ec790_row15_col6\" class=\"data row15 col6\" >0</td>\n",
              "      <td id=\"T_ec790_row15_col7\" class=\"data row15 col7\" >0</td>\n",
              "      <td id=\"T_ec790_row15_col8\" class=\"data row15 col8\" >0</td>\n",
              "      <td id=\"T_ec790_row15_col9\" class=\"data row15 col9\" >0</td>\n",
              "      <td id=\"T_ec790_row15_col10\" class=\"data row15 col10\" >0</td>\n",
              "      <td id=\"T_ec790_row15_col11\" class=\"data row15 col11\" >0</td>\n",
              "      <td id=\"T_ec790_row15_col12\" class=\"data row15 col12\" >0</td>\n",
              "      <td id=\"T_ec790_row15_col13\" class=\"data row15 col13\" >0</td>\n",
              "      <td id=\"T_ec790_row15_col14\" class=\"data row15 col14\" >9</td>\n",
              "      <td id=\"T_ec790_row15_col15\" class=\"data row15 col15\" >51</td>\n",
              "      <td id=\"T_ec790_row15_col16\" class=\"data row15 col16\" >119</td>\n",
              "      <td id=\"T_ec790_row15_col17\" class=\"data row15 col17\" >253</td>\n",
              "      <td id=\"T_ec790_row15_col18\" class=\"data row15 col18\" >253</td>\n",
              "      <td id=\"T_ec790_row15_col19\" class=\"data row15 col19\" >253</td>\n",
              "      <td id=\"T_ec790_row15_col20\" class=\"data row15 col20\" >76</td>\n",
              "      <td id=\"T_ec790_row15_col21\" class=\"data row15 col21\" >0</td>\n",
              "      <td id=\"T_ec790_row15_col22\" class=\"data row15 col22\" >0</td>\n",
              "      <td id=\"T_ec790_row15_col23\" class=\"data row15 col23\" >0</td>\n",
              "      <td id=\"T_ec790_row15_col24\" class=\"data row15 col24\" >0</td>\n",
              "      <td id=\"T_ec790_row15_col25\" class=\"data row15 col25\" >0</td>\n",
              "      <td id=\"T_ec790_row15_col26\" class=\"data row15 col26\" >0</td>\n",
              "    </tr>\n",
              "    <tr>\n",
              "      <th id=\"T_ec790_level0_row16\" class=\"row_heading level0 row16\" >16</th>\n",
              "      <td id=\"T_ec790_row16_col0\" class=\"data row16 col0\" >0</td>\n",
              "      <td id=\"T_ec790_row16_col1\" class=\"data row16 col1\" >0</td>\n",
              "      <td id=\"T_ec790_row16_col2\" class=\"data row16 col2\" >0</td>\n",
              "      <td id=\"T_ec790_row16_col3\" class=\"data row16 col3\" >0</td>\n",
              "      <td id=\"T_ec790_row16_col4\" class=\"data row16 col4\" >0</td>\n",
              "      <td id=\"T_ec790_row16_col5\" class=\"data row16 col5\" >0</td>\n",
              "      <td id=\"T_ec790_row16_col6\" class=\"data row16 col6\" >0</td>\n",
              "      <td id=\"T_ec790_row16_col7\" class=\"data row16 col7\" >0</td>\n",
              "      <td id=\"T_ec790_row16_col8\" class=\"data row16 col8\" >0</td>\n",
              "      <td id=\"T_ec790_row16_col9\" class=\"data row16 col9\" >0</td>\n",
              "      <td id=\"T_ec790_row16_col10\" class=\"data row16 col10\" >0</td>\n",
              "      <td id=\"T_ec790_row16_col11\" class=\"data row16 col11\" >0</td>\n",
              "      <td id=\"T_ec790_row16_col12\" class=\"data row16 col12\" >0</td>\n",
              "      <td id=\"T_ec790_row16_col13\" class=\"data row16 col13\" >0</td>\n",
              "      <td id=\"T_ec790_row16_col14\" class=\"data row16 col14\" >0</td>\n",
              "      <td id=\"T_ec790_row16_col15\" class=\"data row16 col15\" >0</td>\n",
              "      <td id=\"T_ec790_row16_col16\" class=\"data row16 col16\" >1</td>\n",
              "      <td id=\"T_ec790_row16_col17\" class=\"data row16 col17\" >183</td>\n",
              "      <td id=\"T_ec790_row16_col18\" class=\"data row16 col18\" >253</td>\n",
              "      <td id=\"T_ec790_row16_col19\" class=\"data row16 col19\" >253</td>\n",
              "      <td id=\"T_ec790_row16_col20\" class=\"data row16 col20\" >139</td>\n",
              "      <td id=\"T_ec790_row16_col21\" class=\"data row16 col21\" >0</td>\n",
              "      <td id=\"T_ec790_row16_col22\" class=\"data row16 col22\" >0</td>\n",
              "      <td id=\"T_ec790_row16_col23\" class=\"data row16 col23\" >0</td>\n",
              "      <td id=\"T_ec790_row16_col24\" class=\"data row16 col24\" >0</td>\n",
              "      <td id=\"T_ec790_row16_col25\" class=\"data row16 col25\" >0</td>\n",
              "      <td id=\"T_ec790_row16_col26\" class=\"data row16 col26\" >0</td>\n",
              "    </tr>\n",
              "    <tr>\n",
              "      <th id=\"T_ec790_level0_row17\" class=\"row_heading level0 row17\" >17</th>\n",
              "      <td id=\"T_ec790_row17_col0\" class=\"data row17 col0\" >0</td>\n",
              "      <td id=\"T_ec790_row17_col1\" class=\"data row17 col1\" >0</td>\n",
              "      <td id=\"T_ec790_row17_col2\" class=\"data row17 col2\" >0</td>\n",
              "      <td id=\"T_ec790_row17_col3\" class=\"data row17 col3\" >0</td>\n",
              "      <td id=\"T_ec790_row17_col4\" class=\"data row17 col4\" >0</td>\n",
              "      <td id=\"T_ec790_row17_col5\" class=\"data row17 col5\" >0</td>\n",
              "      <td id=\"T_ec790_row17_col6\" class=\"data row17 col6\" >0</td>\n",
              "      <td id=\"T_ec790_row17_col7\" class=\"data row17 col7\" >0</td>\n",
              "      <td id=\"T_ec790_row17_col8\" class=\"data row17 col8\" >0</td>\n",
              "      <td id=\"T_ec790_row17_col9\" class=\"data row17 col9\" >0</td>\n",
              "      <td id=\"T_ec790_row17_col10\" class=\"data row17 col10\" >0</td>\n",
              "      <td id=\"T_ec790_row17_col11\" class=\"data row17 col11\" >0</td>\n",
              "      <td id=\"T_ec790_row17_col12\" class=\"data row17 col12\" >0</td>\n",
              "      <td id=\"T_ec790_row17_col13\" class=\"data row17 col13\" >0</td>\n",
              "      <td id=\"T_ec790_row17_col14\" class=\"data row17 col14\" >0</td>\n",
              "      <td id=\"T_ec790_row17_col15\" class=\"data row17 col15\" >0</td>\n",
              "      <td id=\"T_ec790_row17_col16\" class=\"data row17 col16\" >0</td>\n",
              "      <td id=\"T_ec790_row17_col17\" class=\"data row17 col17\" >182</td>\n",
              "      <td id=\"T_ec790_row17_col18\" class=\"data row17 col18\" >253</td>\n",
              "      <td id=\"T_ec790_row17_col19\" class=\"data row17 col19\" >253</td>\n",
              "      <td id=\"T_ec790_row17_col20\" class=\"data row17 col20\" >104</td>\n",
              "      <td id=\"T_ec790_row17_col21\" class=\"data row17 col21\" >0</td>\n",
              "      <td id=\"T_ec790_row17_col22\" class=\"data row17 col22\" >0</td>\n",
              "      <td id=\"T_ec790_row17_col23\" class=\"data row17 col23\" >0</td>\n",
              "      <td id=\"T_ec790_row17_col24\" class=\"data row17 col24\" >0</td>\n",
              "      <td id=\"T_ec790_row17_col25\" class=\"data row17 col25\" >0</td>\n",
              "      <td id=\"T_ec790_row17_col26\" class=\"data row17 col26\" >0</td>\n",
              "    </tr>\n",
              "    <tr>\n",
              "      <th id=\"T_ec790_level0_row18\" class=\"row_heading level0 row18\" >18</th>\n",
              "      <td id=\"T_ec790_row18_col0\" class=\"data row18 col0\" >0</td>\n",
              "      <td id=\"T_ec790_row18_col1\" class=\"data row18 col1\" >0</td>\n",
              "      <td id=\"T_ec790_row18_col2\" class=\"data row18 col2\" >0</td>\n",
              "      <td id=\"T_ec790_row18_col3\" class=\"data row18 col3\" >0</td>\n",
              "      <td id=\"T_ec790_row18_col4\" class=\"data row18 col4\" >0</td>\n",
              "      <td id=\"T_ec790_row18_col5\" class=\"data row18 col5\" >0</td>\n",
              "      <td id=\"T_ec790_row18_col6\" class=\"data row18 col6\" >0</td>\n",
              "      <td id=\"T_ec790_row18_col7\" class=\"data row18 col7\" >0</td>\n",
              "      <td id=\"T_ec790_row18_col8\" class=\"data row18 col8\" >0</td>\n",
              "      <td id=\"T_ec790_row18_col9\" class=\"data row18 col9\" >0</td>\n",
              "      <td id=\"T_ec790_row18_col10\" class=\"data row18 col10\" >0</td>\n",
              "      <td id=\"T_ec790_row18_col11\" class=\"data row18 col11\" >0</td>\n",
              "      <td id=\"T_ec790_row18_col12\" class=\"data row18 col12\" >0</td>\n",
              "      <td id=\"T_ec790_row18_col13\" class=\"data row18 col13\" >0</td>\n",
              "      <td id=\"T_ec790_row18_col14\" class=\"data row18 col14\" >0</td>\n",
              "      <td id=\"T_ec790_row18_col15\" class=\"data row18 col15\" >0</td>\n",
              "      <td id=\"T_ec790_row18_col16\" class=\"data row18 col16\" >85</td>\n",
              "      <td id=\"T_ec790_row18_col17\" class=\"data row18 col17\" >249</td>\n",
              "      <td id=\"T_ec790_row18_col18\" class=\"data row18 col18\" >253</td>\n",
              "      <td id=\"T_ec790_row18_col19\" class=\"data row18 col19\" >253</td>\n",
              "      <td id=\"T_ec790_row18_col20\" class=\"data row18 col20\" >36</td>\n",
              "      <td id=\"T_ec790_row18_col21\" class=\"data row18 col21\" >0</td>\n",
              "      <td id=\"T_ec790_row18_col22\" class=\"data row18 col22\" >0</td>\n",
              "      <td id=\"T_ec790_row18_col23\" class=\"data row18 col23\" >0</td>\n",
              "      <td id=\"T_ec790_row18_col24\" class=\"data row18 col24\" >0</td>\n",
              "      <td id=\"T_ec790_row18_col25\" class=\"data row18 col25\" >0</td>\n",
              "      <td id=\"T_ec790_row18_col26\" class=\"data row18 col26\" >0</td>\n",
              "    </tr>\n",
              "    <tr>\n",
              "      <th id=\"T_ec790_level0_row19\" class=\"row_heading level0 row19\" >19</th>\n",
              "      <td id=\"T_ec790_row19_col0\" class=\"data row19 col0\" >0</td>\n",
              "      <td id=\"T_ec790_row19_col1\" class=\"data row19 col1\" >0</td>\n",
              "      <td id=\"T_ec790_row19_col2\" class=\"data row19 col2\" >0</td>\n",
              "      <td id=\"T_ec790_row19_col3\" class=\"data row19 col3\" >0</td>\n",
              "      <td id=\"T_ec790_row19_col4\" class=\"data row19 col4\" >0</td>\n",
              "      <td id=\"T_ec790_row19_col5\" class=\"data row19 col5\" >0</td>\n",
              "      <td id=\"T_ec790_row19_col6\" class=\"data row19 col6\" >0</td>\n",
              "      <td id=\"T_ec790_row19_col7\" class=\"data row19 col7\" >0</td>\n",
              "      <td id=\"T_ec790_row19_col8\" class=\"data row19 col8\" >0</td>\n",
              "      <td id=\"T_ec790_row19_col9\" class=\"data row19 col9\" >0</td>\n",
              "      <td id=\"T_ec790_row19_col10\" class=\"data row19 col10\" >0</td>\n",
              "      <td id=\"T_ec790_row19_col11\" class=\"data row19 col11\" >0</td>\n",
              "      <td id=\"T_ec790_row19_col12\" class=\"data row19 col12\" >0</td>\n",
              "      <td id=\"T_ec790_row19_col13\" class=\"data row19 col13\" >0</td>\n",
              "      <td id=\"T_ec790_row19_col14\" class=\"data row19 col14\" >0</td>\n",
              "      <td id=\"T_ec790_row19_col15\" class=\"data row19 col15\" >60</td>\n",
              "      <td id=\"T_ec790_row19_col16\" class=\"data row19 col16\" >214</td>\n",
              "      <td id=\"T_ec790_row19_col17\" class=\"data row19 col17\" >253</td>\n",
              "      <td id=\"T_ec790_row19_col18\" class=\"data row19 col18\" >253</td>\n",
              "      <td id=\"T_ec790_row19_col19\" class=\"data row19 col19\" >173</td>\n",
              "      <td id=\"T_ec790_row19_col20\" class=\"data row19 col20\" >11</td>\n",
              "      <td id=\"T_ec790_row19_col21\" class=\"data row19 col21\" >0</td>\n",
              "      <td id=\"T_ec790_row19_col22\" class=\"data row19 col22\" >0</td>\n",
              "      <td id=\"T_ec790_row19_col23\" class=\"data row19 col23\" >0</td>\n",
              "      <td id=\"T_ec790_row19_col24\" class=\"data row19 col24\" >0</td>\n",
              "      <td id=\"T_ec790_row19_col25\" class=\"data row19 col25\" >0</td>\n",
              "      <td id=\"T_ec790_row19_col26\" class=\"data row19 col26\" >0</td>\n",
              "    </tr>\n",
              "    <tr>\n",
              "      <th id=\"T_ec790_level0_row20\" class=\"row_heading level0 row20\" >20</th>\n",
              "      <td id=\"T_ec790_row20_col0\" class=\"data row20 col0\" >0</td>\n",
              "      <td id=\"T_ec790_row20_col1\" class=\"data row20 col1\" >0</td>\n",
              "      <td id=\"T_ec790_row20_col2\" class=\"data row20 col2\" >0</td>\n",
              "      <td id=\"T_ec790_row20_col3\" class=\"data row20 col3\" >0</td>\n",
              "      <td id=\"T_ec790_row20_col4\" class=\"data row20 col4\" >0</td>\n",
              "      <td id=\"T_ec790_row20_col5\" class=\"data row20 col5\" >0</td>\n",
              "      <td id=\"T_ec790_row20_col6\" class=\"data row20 col6\" >0</td>\n",
              "      <td id=\"T_ec790_row20_col7\" class=\"data row20 col7\" >0</td>\n",
              "      <td id=\"T_ec790_row20_col8\" class=\"data row20 col8\" >0</td>\n",
              "      <td id=\"T_ec790_row20_col9\" class=\"data row20 col9\" >0</td>\n",
              "      <td id=\"T_ec790_row20_col10\" class=\"data row20 col10\" >0</td>\n",
              "      <td id=\"T_ec790_row20_col11\" class=\"data row20 col11\" >0</td>\n",
              "      <td id=\"T_ec790_row20_col12\" class=\"data row20 col12\" >0</td>\n",
              "      <td id=\"T_ec790_row20_col13\" class=\"data row20 col13\" >0</td>\n",
              "      <td id=\"T_ec790_row20_col14\" class=\"data row20 col14\" >98</td>\n",
              "      <td id=\"T_ec790_row20_col15\" class=\"data row20 col15\" >247</td>\n",
              "      <td id=\"T_ec790_row20_col16\" class=\"data row20 col16\" >253</td>\n",
              "      <td id=\"T_ec790_row20_col17\" class=\"data row20 col17\" >253</td>\n",
              "      <td id=\"T_ec790_row20_col18\" class=\"data row20 col18\" >226</td>\n",
              "      <td id=\"T_ec790_row20_col19\" class=\"data row20 col19\" >9</td>\n",
              "      <td id=\"T_ec790_row20_col20\" class=\"data row20 col20\" >0</td>\n",
              "      <td id=\"T_ec790_row20_col21\" class=\"data row20 col21\" >0</td>\n",
              "      <td id=\"T_ec790_row20_col22\" class=\"data row20 col22\" >0</td>\n",
              "      <td id=\"T_ec790_row20_col23\" class=\"data row20 col23\" >0</td>\n",
              "      <td id=\"T_ec790_row20_col24\" class=\"data row20 col24\" >0</td>\n",
              "      <td id=\"T_ec790_row20_col25\" class=\"data row20 col25\" >0</td>\n",
              "      <td id=\"T_ec790_row20_col26\" class=\"data row20 col26\" >0</td>\n",
              "    </tr>\n",
              "    <tr>\n",
              "      <th id=\"T_ec790_level0_row21\" class=\"row_heading level0 row21\" >21</th>\n",
              "      <td id=\"T_ec790_row21_col0\" class=\"data row21 col0\" >0</td>\n",
              "      <td id=\"T_ec790_row21_col1\" class=\"data row21 col1\" >0</td>\n",
              "      <td id=\"T_ec790_row21_col2\" class=\"data row21 col2\" >0</td>\n",
              "      <td id=\"T_ec790_row21_col3\" class=\"data row21 col3\" >0</td>\n",
              "      <td id=\"T_ec790_row21_col4\" class=\"data row21 col4\" >0</td>\n",
              "      <td id=\"T_ec790_row21_col5\" class=\"data row21 col5\" >0</td>\n",
              "      <td id=\"T_ec790_row21_col6\" class=\"data row21 col6\" >0</td>\n",
              "      <td id=\"T_ec790_row21_col7\" class=\"data row21 col7\" >0</td>\n",
              "      <td id=\"T_ec790_row21_col8\" class=\"data row21 col8\" >0</td>\n",
              "      <td id=\"T_ec790_row21_col9\" class=\"data row21 col9\" >0</td>\n",
              "      <td id=\"T_ec790_row21_col10\" class=\"data row21 col10\" >0</td>\n",
              "      <td id=\"T_ec790_row21_col11\" class=\"data row21 col11\" >0</td>\n",
              "      <td id=\"T_ec790_row21_col12\" class=\"data row21 col12\" >42</td>\n",
              "      <td id=\"T_ec790_row21_col13\" class=\"data row21 col13\" >150</td>\n",
              "      <td id=\"T_ec790_row21_col14\" class=\"data row21 col14\" >252</td>\n",
              "      <td id=\"T_ec790_row21_col15\" class=\"data row21 col15\" >253</td>\n",
              "      <td id=\"T_ec790_row21_col16\" class=\"data row21 col16\" >253</td>\n",
              "      <td id=\"T_ec790_row21_col17\" class=\"data row21 col17\" >233</td>\n",
              "      <td id=\"T_ec790_row21_col18\" class=\"data row21 col18\" >53</td>\n",
              "      <td id=\"T_ec790_row21_col19\" class=\"data row21 col19\" >0</td>\n",
              "      <td id=\"T_ec790_row21_col20\" class=\"data row21 col20\" >0</td>\n",
              "      <td id=\"T_ec790_row21_col21\" class=\"data row21 col21\" >0</td>\n",
              "      <td id=\"T_ec790_row21_col22\" class=\"data row21 col22\" >0</td>\n",
              "      <td id=\"T_ec790_row21_col23\" class=\"data row21 col23\" >0</td>\n",
              "      <td id=\"T_ec790_row21_col24\" class=\"data row21 col24\" >0</td>\n",
              "      <td id=\"T_ec790_row21_col25\" class=\"data row21 col25\" >0</td>\n",
              "      <td id=\"T_ec790_row21_col26\" class=\"data row21 col26\" >0</td>\n",
              "    </tr>\n",
              "    <tr>\n",
              "      <th id=\"T_ec790_level0_row22\" class=\"row_heading level0 row22\" >22</th>\n",
              "      <td id=\"T_ec790_row22_col0\" class=\"data row22 col0\" >0</td>\n",
              "      <td id=\"T_ec790_row22_col1\" class=\"data row22 col1\" >0</td>\n",
              "      <td id=\"T_ec790_row22_col2\" class=\"data row22 col2\" >0</td>\n",
              "      <td id=\"T_ec790_row22_col3\" class=\"data row22 col3\" >0</td>\n",
              "      <td id=\"T_ec790_row22_col4\" class=\"data row22 col4\" >0</td>\n",
              "      <td id=\"T_ec790_row22_col5\" class=\"data row22 col5\" >0</td>\n",
              "      <td id=\"T_ec790_row22_col6\" class=\"data row22 col6\" >42</td>\n",
              "      <td id=\"T_ec790_row22_col7\" class=\"data row22 col7\" >115</td>\n",
              "      <td id=\"T_ec790_row22_col8\" class=\"data row22 col8\" >42</td>\n",
              "      <td id=\"T_ec790_row22_col9\" class=\"data row22 col9\" >60</td>\n",
              "      <td id=\"T_ec790_row22_col10\" class=\"data row22 col10\" >115</td>\n",
              "      <td id=\"T_ec790_row22_col11\" class=\"data row22 col11\" >159</td>\n",
              "      <td id=\"T_ec790_row22_col12\" class=\"data row22 col12\" >240</td>\n",
              "      <td id=\"T_ec790_row22_col13\" class=\"data row22 col13\" >253</td>\n",
              "      <td id=\"T_ec790_row22_col14\" class=\"data row22 col14\" >253</td>\n",
              "      <td id=\"T_ec790_row22_col15\" class=\"data row22 col15\" >250</td>\n",
              "      <td id=\"T_ec790_row22_col16\" class=\"data row22 col16\" >175</td>\n",
              "      <td id=\"T_ec790_row22_col17\" class=\"data row22 col17\" >25</td>\n",
              "      <td id=\"T_ec790_row22_col18\" class=\"data row22 col18\" >0</td>\n",
              "      <td id=\"T_ec790_row22_col19\" class=\"data row22 col19\" >0</td>\n",
              "      <td id=\"T_ec790_row22_col20\" class=\"data row22 col20\" >0</td>\n",
              "      <td id=\"T_ec790_row22_col21\" class=\"data row22 col21\" >0</td>\n",
              "      <td id=\"T_ec790_row22_col22\" class=\"data row22 col22\" >0</td>\n",
              "      <td id=\"T_ec790_row22_col23\" class=\"data row22 col23\" >0</td>\n",
              "      <td id=\"T_ec790_row22_col24\" class=\"data row22 col24\" >0</td>\n",
              "      <td id=\"T_ec790_row22_col25\" class=\"data row22 col25\" >0</td>\n",
              "      <td id=\"T_ec790_row22_col26\" class=\"data row22 col26\" >0</td>\n",
              "    </tr>\n",
              "    <tr>\n",
              "      <th id=\"T_ec790_level0_row23\" class=\"row_heading level0 row23\" >23</th>\n",
              "      <td id=\"T_ec790_row23_col0\" class=\"data row23 col0\" >0</td>\n",
              "      <td id=\"T_ec790_row23_col1\" class=\"data row23 col1\" >0</td>\n",
              "      <td id=\"T_ec790_row23_col2\" class=\"data row23 col2\" >0</td>\n",
              "      <td id=\"T_ec790_row23_col3\" class=\"data row23 col3\" >0</td>\n",
              "      <td id=\"T_ec790_row23_col4\" class=\"data row23 col4\" >0</td>\n",
              "      <td id=\"T_ec790_row23_col5\" class=\"data row23 col5\" >0</td>\n",
              "      <td id=\"T_ec790_row23_col6\" class=\"data row23 col6\" >187</td>\n",
              "      <td id=\"T_ec790_row23_col7\" class=\"data row23 col7\" >253</td>\n",
              "      <td id=\"T_ec790_row23_col8\" class=\"data row23 col8\" >253</td>\n",
              "      <td id=\"T_ec790_row23_col9\" class=\"data row23 col9\" >253</td>\n",
              "      <td id=\"T_ec790_row23_col10\" class=\"data row23 col10\" >253</td>\n",
              "      <td id=\"T_ec790_row23_col11\" class=\"data row23 col11\" >253</td>\n",
              "      <td id=\"T_ec790_row23_col12\" class=\"data row23 col12\" >253</td>\n",
              "      <td id=\"T_ec790_row23_col13\" class=\"data row23 col13\" >253</td>\n",
              "      <td id=\"T_ec790_row23_col14\" class=\"data row23 col14\" >197</td>\n",
              "      <td id=\"T_ec790_row23_col15\" class=\"data row23 col15\" >86</td>\n",
              "      <td id=\"T_ec790_row23_col16\" class=\"data row23 col16\" >0</td>\n",
              "      <td id=\"T_ec790_row23_col17\" class=\"data row23 col17\" >0</td>\n",
              "      <td id=\"T_ec790_row23_col18\" class=\"data row23 col18\" >0</td>\n",
              "      <td id=\"T_ec790_row23_col19\" class=\"data row23 col19\" >0</td>\n",
              "      <td id=\"T_ec790_row23_col20\" class=\"data row23 col20\" >0</td>\n",
              "      <td id=\"T_ec790_row23_col21\" class=\"data row23 col21\" >0</td>\n",
              "      <td id=\"T_ec790_row23_col22\" class=\"data row23 col22\" >0</td>\n",
              "      <td id=\"T_ec790_row23_col23\" class=\"data row23 col23\" >0</td>\n",
              "      <td id=\"T_ec790_row23_col24\" class=\"data row23 col24\" >0</td>\n",
              "      <td id=\"T_ec790_row23_col25\" class=\"data row23 col25\" >0</td>\n",
              "      <td id=\"T_ec790_row23_col26\" class=\"data row23 col26\" >0</td>\n",
              "    </tr>\n",
              "    <tr>\n",
              "      <th id=\"T_ec790_level0_row24\" class=\"row_heading level0 row24\" >24</th>\n",
              "      <td id=\"T_ec790_row24_col0\" class=\"data row24 col0\" >0</td>\n",
              "      <td id=\"T_ec790_row24_col1\" class=\"data row24 col1\" >0</td>\n",
              "      <td id=\"T_ec790_row24_col2\" class=\"data row24 col2\" >0</td>\n",
              "      <td id=\"T_ec790_row24_col3\" class=\"data row24 col3\" >0</td>\n",
              "      <td id=\"T_ec790_row24_col4\" class=\"data row24 col4\" >0</td>\n",
              "      <td id=\"T_ec790_row24_col5\" class=\"data row24 col5\" >0</td>\n",
              "      <td id=\"T_ec790_row24_col6\" class=\"data row24 col6\" >103</td>\n",
              "      <td id=\"T_ec790_row24_col7\" class=\"data row24 col7\" >253</td>\n",
              "      <td id=\"T_ec790_row24_col8\" class=\"data row24 col8\" >253</td>\n",
              "      <td id=\"T_ec790_row24_col9\" class=\"data row24 col9\" >253</td>\n",
              "      <td id=\"T_ec790_row24_col10\" class=\"data row24 col10\" >253</td>\n",
              "      <td id=\"T_ec790_row24_col11\" class=\"data row24 col11\" >253</td>\n",
              "      <td id=\"T_ec790_row24_col12\" class=\"data row24 col12\" >232</td>\n",
              "      <td id=\"T_ec790_row24_col13\" class=\"data row24 col13\" >67</td>\n",
              "      <td id=\"T_ec790_row24_col14\" class=\"data row24 col14\" >1</td>\n",
              "      <td id=\"T_ec790_row24_col15\" class=\"data row24 col15\" >0</td>\n",
              "      <td id=\"T_ec790_row24_col16\" class=\"data row24 col16\" >0</td>\n",
              "      <td id=\"T_ec790_row24_col17\" class=\"data row24 col17\" >0</td>\n",
              "      <td id=\"T_ec790_row24_col18\" class=\"data row24 col18\" >0</td>\n",
              "      <td id=\"T_ec790_row24_col19\" class=\"data row24 col19\" >0</td>\n",
              "      <td id=\"T_ec790_row24_col20\" class=\"data row24 col20\" >0</td>\n",
              "      <td id=\"T_ec790_row24_col21\" class=\"data row24 col21\" >0</td>\n",
              "      <td id=\"T_ec790_row24_col22\" class=\"data row24 col22\" >0</td>\n",
              "      <td id=\"T_ec790_row24_col23\" class=\"data row24 col23\" >0</td>\n",
              "      <td id=\"T_ec790_row24_col24\" class=\"data row24 col24\" >0</td>\n",
              "      <td id=\"T_ec790_row24_col25\" class=\"data row24 col25\" >0</td>\n",
              "      <td id=\"T_ec790_row24_col26\" class=\"data row24 col26\" >0</td>\n",
              "    </tr>\n",
              "    <tr>\n",
              "      <th id=\"T_ec790_level0_row25\" class=\"row_heading level0 row25\" >25</th>\n",
              "      <td id=\"T_ec790_row25_col0\" class=\"data row25 col0\" >0</td>\n",
              "      <td id=\"T_ec790_row25_col1\" class=\"data row25 col1\" >0</td>\n",
              "      <td id=\"T_ec790_row25_col2\" class=\"data row25 col2\" >0</td>\n",
              "      <td id=\"T_ec790_row25_col3\" class=\"data row25 col3\" >0</td>\n",
              "      <td id=\"T_ec790_row25_col4\" class=\"data row25 col4\" >0</td>\n",
              "      <td id=\"T_ec790_row25_col5\" class=\"data row25 col5\" >0</td>\n",
              "      <td id=\"T_ec790_row25_col6\" class=\"data row25 col6\" >0</td>\n",
              "      <td id=\"T_ec790_row25_col7\" class=\"data row25 col7\" >0</td>\n",
              "      <td id=\"T_ec790_row25_col8\" class=\"data row25 col8\" >0</td>\n",
              "      <td id=\"T_ec790_row25_col9\" class=\"data row25 col9\" >0</td>\n",
              "      <td id=\"T_ec790_row25_col10\" class=\"data row25 col10\" >0</td>\n",
              "      <td id=\"T_ec790_row25_col11\" class=\"data row25 col11\" >0</td>\n",
              "      <td id=\"T_ec790_row25_col12\" class=\"data row25 col12\" >0</td>\n",
              "      <td id=\"T_ec790_row25_col13\" class=\"data row25 col13\" >0</td>\n",
              "      <td id=\"T_ec790_row25_col14\" class=\"data row25 col14\" >0</td>\n",
              "      <td id=\"T_ec790_row25_col15\" class=\"data row25 col15\" >0</td>\n",
              "      <td id=\"T_ec790_row25_col16\" class=\"data row25 col16\" >0</td>\n",
              "      <td id=\"T_ec790_row25_col17\" class=\"data row25 col17\" >0</td>\n",
              "      <td id=\"T_ec790_row25_col18\" class=\"data row25 col18\" >0</td>\n",
              "      <td id=\"T_ec790_row25_col19\" class=\"data row25 col19\" >0</td>\n",
              "      <td id=\"T_ec790_row25_col20\" class=\"data row25 col20\" >0</td>\n",
              "      <td id=\"T_ec790_row25_col21\" class=\"data row25 col21\" >0</td>\n",
              "      <td id=\"T_ec790_row25_col22\" class=\"data row25 col22\" >0</td>\n",
              "      <td id=\"T_ec790_row25_col23\" class=\"data row25 col23\" >0</td>\n",
              "      <td id=\"T_ec790_row25_col24\" class=\"data row25 col24\" >0</td>\n",
              "      <td id=\"T_ec790_row25_col25\" class=\"data row25 col25\" >0</td>\n",
              "      <td id=\"T_ec790_row25_col26\" class=\"data row25 col26\" >0</td>\n",
              "    </tr>\n",
              "    <tr>\n",
              "      <th id=\"T_ec790_level0_row26\" class=\"row_heading level0 row26\" >26</th>\n",
              "      <td id=\"T_ec790_row26_col0\" class=\"data row26 col0\" >0</td>\n",
              "      <td id=\"T_ec790_row26_col1\" class=\"data row26 col1\" >0</td>\n",
              "      <td id=\"T_ec790_row26_col2\" class=\"data row26 col2\" >0</td>\n",
              "      <td id=\"T_ec790_row26_col3\" class=\"data row26 col3\" >0</td>\n",
              "      <td id=\"T_ec790_row26_col4\" class=\"data row26 col4\" >0</td>\n",
              "      <td id=\"T_ec790_row26_col5\" class=\"data row26 col5\" >0</td>\n",
              "      <td id=\"T_ec790_row26_col6\" class=\"data row26 col6\" >0</td>\n",
              "      <td id=\"T_ec790_row26_col7\" class=\"data row26 col7\" >0</td>\n",
              "      <td id=\"T_ec790_row26_col8\" class=\"data row26 col8\" >0</td>\n",
              "      <td id=\"T_ec790_row26_col9\" class=\"data row26 col9\" >0</td>\n",
              "      <td id=\"T_ec790_row26_col10\" class=\"data row26 col10\" >0</td>\n",
              "      <td id=\"T_ec790_row26_col11\" class=\"data row26 col11\" >0</td>\n",
              "      <td id=\"T_ec790_row26_col12\" class=\"data row26 col12\" >0</td>\n",
              "      <td id=\"T_ec790_row26_col13\" class=\"data row26 col13\" >0</td>\n",
              "      <td id=\"T_ec790_row26_col14\" class=\"data row26 col14\" >0</td>\n",
              "      <td id=\"T_ec790_row26_col15\" class=\"data row26 col15\" >0</td>\n",
              "      <td id=\"T_ec790_row26_col16\" class=\"data row26 col16\" >0</td>\n",
              "      <td id=\"T_ec790_row26_col17\" class=\"data row26 col17\" >0</td>\n",
              "      <td id=\"T_ec790_row26_col18\" class=\"data row26 col18\" >0</td>\n",
              "      <td id=\"T_ec790_row26_col19\" class=\"data row26 col19\" >0</td>\n",
              "      <td id=\"T_ec790_row26_col20\" class=\"data row26 col20\" >0</td>\n",
              "      <td id=\"T_ec790_row26_col21\" class=\"data row26 col21\" >0</td>\n",
              "      <td id=\"T_ec790_row26_col22\" class=\"data row26 col22\" >0</td>\n",
              "      <td id=\"T_ec790_row26_col23\" class=\"data row26 col23\" >0</td>\n",
              "      <td id=\"T_ec790_row26_col24\" class=\"data row26 col24\" >0</td>\n",
              "      <td id=\"T_ec790_row26_col25\" class=\"data row26 col25\" >0</td>\n",
              "      <td id=\"T_ec790_row26_col26\" class=\"data row26 col26\" >0</td>\n",
              "    </tr>\n",
              "  </tbody>\n",
              "</table>\n"
            ]
          },
          "metadata": {},
          "execution_count": 11
        }
      ],
      "source": [
        "#hide_output\n",
        "im4_t = tensor(im4)\n",
        "df = pd.DataFrame(im4_t[0:27,0:27])\n",
        "df.style.set_properties(**{'font-size':'6pt'}).background_gradient('Greys')"
      ]
    },
    {
      "cell_type": "code",
      "execution_count": null,
      "metadata": {
        "id": "MjEH-hyAUSct",
        "colab": {
          "base_uri": "https://localhost:8080/"
        },
        "outputId": "c5a88ecb-e9e6-416e-de1c-9289ff7ecd81"
      },
      "outputs": [
        {
          "output_type": "execute_result",
          "data": {
            "text/plain": [
              "(6265, 6131)"
            ]
          },
          "metadata": {},
          "execution_count": 12
        }
      ],
      "source": [
        "three_tensors = [tensor(Image.open(o)) for o in fours]\n",
        "seven_tensors = [tensor(Image.open(o)) for o in sevens]\n",
        "\n",
        "len(seven_tensors), len(three_tensors)"
      ]
    },
    {
      "cell_type": "markdown",
      "metadata": {
        "id": "c7dR_RZWUSct"
      },
      "source": [
        "We'll also check that one of the images looks okay. Since we now have tensors (which Jupyter by default will print as values), rather than PIL images (which Jupyter by default will display as images), we need to use fastai's `show_image` function to display it:"
      ]
    },
    {
      "cell_type": "code",
      "execution_count": null,
      "metadata": {
        "id": "TmiFYbq1USct",
        "colab": {
          "base_uri": "https://localhost:8080/",
          "height": 114
        },
        "outputId": "b1f5031d-c073-405c-93e6-06bd31d71eeb"
      },
      "outputs": [
        {
          "output_type": "display_data",
          "data": {
            "text/plain": [
              "<Figure size 100x100 with 1 Axes>"
            ],
            "image/png": "[encoded data removed]"
          },
          "metadata": {}
        }
      ],
      "source": [
        "show_image(seven_tensors[6264]);"
      ]
    },
    {
      "cell_type": "code",
      "execution_count": null,
      "metadata": {
        "id": "8-xkuwHTUScu",
        "colab": {
          "base_uri": "https://localhost:8080/"
        },
        "outputId": "8f0dbbf2-999e-4aa6-84f1-81bf1fd5d0b8"
      },
      "outputs": [
        {
          "output_type": "execute_result",
          "data": {
            "text/plain": [
              "torch.Size([6265, 28, 28])"
            ]
          },
          "metadata": {},
          "execution_count": 14
        }
      ],
      "source": [
        "stacked_sevens = torch.stack(seven_tensors).float()/255\n",
        "stacked_threes = torch.stack(three_tensors).float()/255\n",
        "stacked_sevens.shape"
      ]
    },
    {
      "cell_type": "code",
      "execution_count": null,
      "metadata": {
        "id": "l1g3FY8OUSc0",
        "colab": {
          "base_uri": "https://localhost:8080/"
        },
        "outputId": "7d2b5d85-f29d-416d-84a8-9c7e1ffaf339"
      },
      "outputs": [
        {
          "output_type": "execute_result",
          "data": {
            "text/plain": [
              "3"
            ]
          },
          "metadata": {},
          "execution_count": 15
        }
      ],
      "source": [
        "len(stacked_sevens.shape)"
      ]
    },
    {
      "cell_type": "markdown",
      "metadata": {
        "id": "ldkmtxeoUSc1"
      },
      "source": [
        "We can also get a tensor's rank directly with `ndim`:"
      ]
    },
    {
      "cell_type": "code",
      "execution_count": null,
      "metadata": {
        "id": "XhZCsQJVUSc1",
        "colab": {
          "base_uri": "https://localhost:8080/"
        },
        "outputId": "09503880-64db-4407-8c10-651ce0a09c86"
      },
      "outputs": [
        {
          "output_type": "execute_result",
          "data": {
            "text/plain": [
              "3"
            ]
          },
          "metadata": {},
          "execution_count": 16
        }
      ],
      "source": [
        "stacked_sevens.ndim"
      ]
    },
    {
      "cell_type": "code",
      "execution_count": null,
      "metadata": {
        "id": "xmY0l4oKUSc2",
        "colab": {
          "base_uri": "https://localhost:8080/",
          "height": 114
        },
        "outputId": "7a0db832-0e1e-4a28-b61a-78e351a00d3a"
      },
      "outputs": [
        {
          "output_type": "display_data",
          "data": {
            "text/plain": [
              "<Figure size 100x100 with 1 Axes>"
            ],
            "image/png": "[encoded data removed]"
          },
          "metadata": {}
        }
      ],
      "source": [
        "mean3 = stacked_threes.mean(0)\n",
        "show_image(mean3);"
      ]
    },
    {
      "cell_type": "code",
      "execution_count": null,
      "metadata": {
        "id": "uI7V056rUSc2",
        "colab": {
          "base_uri": "https://localhost:8080/",
          "height": 114
        },
        "outputId": "949ad73d-db89-462b-afb3-b99fec8831da"
      },
      "outputs": [
        {
          "output_type": "display_data",
          "data": {
            "text/plain": [
              "<Figure size 100x100 with 1 Axes>"
            ],
            "image/png": "[encoded data removed]"
          },
          "metadata": {}
        }
      ],
      "source": [
        "mean7 = stacked_sevens.mean(0)\n",
        "show_image(mean7);"
      ]
    },
    {
      "cell_type": "code",
      "execution_count": null,
      "metadata": {
        "id": "-GDhJKYCUSc2",
        "colab": {
          "base_uri": "https://localhost:8080/",
          "height": 114
        },
        "outputId": "fa161b2b-9c62-492b-ecfe-ca95eb0f04d7"
      },
      "outputs": [
        {
          "output_type": "display_data",
          "data": {
            "text/plain": [
              "<Figure size 100x100 with 1 Axes>"
            ],
            "image/png": "[encoded data removed]"
          },
          "metadata": {}
        }
      ],
      "source": [
        "a_3 = stacked_threes[1]\n",
        "show_image(a_3);"
      ]
    },
    {
      "cell_type": "markdown",
      "metadata": {
        "id": "xOVEoR3BUSc3"
      },
      "source": [
        "Let's try both of these now:"
      ]
    },
    {
      "cell_type": "code",
      "execution_count": null,
      "metadata": {
        "id": "scTEEGCWUSc3",
        "colab": {
          "base_uri": "https://localhost:8080/"
        },
        "outputId": "6592dcb9-d901-44f1-9604-af99ac144411"
      },
      "outputs": [
        {
          "output_type": "execute_result",
          "data": {
            "text/plain": [
              "(tensor(0.1114), tensor(0.2021))"
            ]
          },
          "metadata": {},
          "execution_count": 20
        }
      ],
      "source": [
        "sqrt3 = (a_3 - mean3).abs().mean()\n",
        "abs3 = ((a_3 - mean3)**2).mean().sqrt()\n",
        "sqrt3, abs3"
      ]
    },
    {
      "cell_type": "code",
      "execution_count": null,
      "metadata": {
        "id": "F_uCePs9USc4",
        "colab": {
          "base_uri": "https://localhost:8080/"
        },
        "outputId": "f09b2f6d-fa27-49af-b25c-d51393609461"
      },
      "outputs": [
        {
          "output_type": "execute_result",
          "data": {
            "text/plain": [
              "(tensor(0.1586), tensor(0.3021))"
            ]
          },
          "metadata": {},
          "execution_count": 21
        }
      ],
      "source": [
        "dist_7_abs = (a_3 - mean7).abs().mean()\n",
        "dist_7_sqr = ((a_3 - mean7)**2).mean().sqrt()\n",
        "dist_7_abs,dist_7_sqr"
      ]
    },
    {
      "cell_type": "code",
      "execution_count": null,
      "metadata": {
        "id": "-_C_dNATUSc5",
        "colab": {
          "base_uri": "https://localhost:8080/"
        },
        "outputId": "335ba3c9-48fb-4cdc-ca03-5a13c67faa45"
      },
      "outputs": [
        {
          "output_type": "execute_result",
          "data": {
            "text/plain": [
              "(tensor(0.1586), tensor(0.3021))"
            ]
          },
          "metadata": {},
          "execution_count": 22
        }
      ],
      "source": [
        "F.l1_loss(a_3.float(),mean7), F.mse_loss(a_3,mean7).sqrt()"
      ]
    },
    {
      "cell_type": "markdown",
      "metadata": {
        "id": "lXaYqenHUSc7"
      },
      "source": [
        "To create an array or tensor, pass a list (or list of lists, or list of lists of lists, etc.) to `array()` or `tensor()`:"
      ]
    },
    {
      "cell_type": "code",
      "execution_count": null,
      "metadata": {
        "id": "6_kcqoIdUSc7"
      },
      "outputs": [],
      "source": [
        "data = [[1,2], [3,4], [5,6]]\n",
        "arr = array (data)\n",
        "tns = tensor(data)"
      ]
    },
    {
      "cell_type": "code",
      "execution_count": null,
      "metadata": {
        "id": "5EiT2hiCUSc7",
        "colab": {
          "base_uri": "https://localhost:8080/"
        },
        "outputId": "2276d236-5dd8-448a-9e86-c3e319cd4bf0"
      },
      "outputs": [
        {
          "output_type": "execute_result",
          "data": {
            "text/plain": [
              "array([[1, 2],\n",
              "       [3, 4],\n",
              "       [5, 6]])"
            ]
          },
          "metadata": {},
          "execution_count": 24
        }
      ],
      "source": [
        "arr  # numpy"
      ]
    },
    {
      "cell_type": "code",
      "execution_count": null,
      "metadata": {
        "id": "BzMQnkOhUSc8",
        "colab": {
          "base_uri": "https://localhost:8080/"
        },
        "outputId": "9344f543-1474-4a85-decc-17aa5c3309ea"
      },
      "outputs": [
        {
          "output_type": "execute_result",
          "data": {
            "text/plain": [
              "tensor([[1, 2],\n",
              "        [3, 4],\n",
              "        [5, 6]])"
            ]
          },
          "metadata": {},
          "execution_count": 25
        }
      ],
      "source": [
        "tns  # pytorch"
      ]
    },
    {
      "cell_type": "code",
      "execution_count": null,
      "metadata": {
        "id": "6mnT0xNbUSdA",
        "colab": {
          "base_uri": "https://localhost:8080/"
        },
        "outputId": "090bef46-8c89-4cec-8db8-4552f329461b"
      },
      "outputs": [
        {
          "output_type": "execute_result",
          "data": {
            "text/plain": [
              "tensor([5, 6])"
            ]
          },
          "metadata": {},
          "execution_count": 26
        }
      ],
      "source": [
        "tns[2]"
      ]
    },
    {
      "cell_type": "code",
      "execution_count": null,
      "metadata": {
        "id": "Lvf4xkIHUSdB",
        "colab": {
          "base_uri": "https://localhost:8080/"
        },
        "outputId": "bff91e51-8271-4b7d-e8fb-9278dc8ba9cf"
      },
      "outputs": [
        {
          "output_type": "execute_result",
          "data": {
            "text/plain": [
              "tensor([1, 3, 5])"
            ]
          },
          "metadata": {},
          "execution_count": 27
        }
      ],
      "source": [
        "tns[:,0]"
      ]
    },
    {
      "cell_type": "code",
      "execution_count": null,
      "metadata": {
        "id": "x2pSHO72USdB",
        "colab": {
          "base_uri": "https://localhost:8080/"
        },
        "outputId": "8ce6a679-705d-4742-9c52-5cb4f90a1e95"
      },
      "outputs": [
        {
          "output_type": "execute_result",
          "data": {
            "text/plain": [
              "tensor([4])"
            ]
          },
          "metadata": {},
          "execution_count": 28
        }
      ],
      "source": [
        "tns[1,1:3]"
      ]
    },
    {
      "cell_type": "code",
      "execution_count": null,
      "metadata": {
        "id": "O080CPLnUSdC",
        "colab": {
          "base_uri": "https://localhost:8080/"
        },
        "outputId": "60840beb-ea5f-4abf-94b9-24c38df27e9c"
      },
      "outputs": [
        {
          "output_type": "execute_result",
          "data": {
            "text/plain": [
              "tensor([[2, 3],\n",
              "        [4, 5],\n",
              "        [6, 7]])"
            ]
          },
          "metadata": {},
          "execution_count": 29
        }
      ],
      "source": [
        "tns+1"
      ]
    },
    {
      "cell_type": "markdown",
      "metadata": {
        "id": "9nIW_CtPUSdC"
      },
      "source": [
        "Tensors have a type:"
      ]
    },
    {
      "cell_type": "code",
      "execution_count": null,
      "metadata": {
        "id": "Cqww4wBjUSdD",
        "colab": {
          "base_uri": "https://localhost:8080/",
          "height": 36
        },
        "outputId": "2fb19b50-6256-4272-f24c-b86a1896cd8d"
      },
      "outputs": [
        {
          "output_type": "execute_result",
          "data": {
            "text/plain": [
              "'torch.LongTensor'"
            ],
            "application/vnd.google.colaboratory.intrinsic+json": {
              "type": "string"
            }
          },
          "metadata": {},
          "execution_count": 30
        }
      ],
      "source": [
        "tns.type()"
      ]
    },
    {
      "cell_type": "markdown",
      "metadata": {
        "id": "ssNmA5XaUSdE"
      },
      "source": [
        "And will automatically change type as needed, for example from `int` to `float`:"
      ]
    },
    {
      "cell_type": "code",
      "execution_count": null,
      "metadata": {
        "id": "FNBB1J3QUSdE",
        "colab": {
          "base_uri": "https://localhost:8080/"
        },
        "outputId": "b2789b11-e139-40fa-f004-d8b18d0f227d"
      },
      "outputs": [
        {
          "output_type": "execute_result",
          "data": {
            "text/plain": [
              "tensor([[1.5000, 3.0000],\n",
              "        [4.5000, 6.0000],\n",
              "        [7.5000, 9.0000]])"
            ]
          },
          "metadata": {},
          "execution_count": 31
        }
      ],
      "source": [
        "tns*1.5"
      ]
    },
    {
      "cell_type": "code",
      "execution_count": null,
      "metadata": {
        "id": "09La2Cw7USdF",
        "colab": {
          "base_uri": "https://localhost:8080/"
        },
        "outputId": "129e244b-8505-4407-aa2c-ec53b4201e4d"
      },
      "outputs": [
        {
          "output_type": "execute_result",
          "data": {
            "text/plain": [
              "(torch.Size([1010, 28, 28]), torch.Size([1028, 28, 28]))"
            ]
          },
          "metadata": {},
          "execution_count": 32
        }
      ],
      "source": [
        "valid_3_tens = torch.stack([tensor(Image.open(o))\n",
        "                            for o in (path/'valid'/'3').ls()])\n",
        "valid_3_tens = valid_3_tens.float()/255\n",
        "\n",
        "valid_7_tens = torch.stack([tensor(Image.open(o))\n",
        "  for o in (path/'valid'/'7').ls()])\n",
        "valid_7_tens = valid_7_tens.float()/255\n",
        "\n",
        "\n",
        "valid_3_tens.shape,valid_7_tens.shape"
      ]
    },
    {
      "cell_type": "code",
      "execution_count": null,
      "metadata": {
        "id": "WDKZ91GWUSdG",
        "colab": {
          "base_uri": "https://localhost:8080/"
        },
        "outputId": "aa65d831-f8c0-4a33-c9c8-d69e1be0403d"
      },
      "outputs": [
        {
          "output_type": "execute_result",
          "data": {
            "text/plain": [
              "tensor(0.1114)"
            ]
          },
          "metadata": {},
          "execution_count": 33
        }
      ],
      "source": [
        "def mnist_distance(a,b): return (a-b).abs().mean((-1,-2))\n",
        "mnist_distance(a_3, mean3)"
      ]
    },
    {
      "cell_type": "code",
      "execution_count": null,
      "metadata": {
        "id": "Mz8gCrR3USdG",
        "colab": {
          "base_uri": "https://localhost:8080/"
        },
        "outputId": "95bd17e9-ce2e-49f6-cae4-cd70d2e33cba"
      },
      "outputs": [
        {
          "output_type": "execute_result",
          "data": {
            "text/plain": [
              "(tensor([0.0931, 0.0966, 0.0982,  ..., 0.0874, 0.1026, 0.0939]),\n",
              " torch.Size([1028]))"
            ]
          },
          "metadata": {},
          "execution_count": 34
        }
      ],
      "source": [
        "valid_7_dist = mnist_distance(valid_7_tens, mean7)\n",
        "valid_7_dist, valid_7_dist.shape"
      ]
    },
    {
      "cell_type": "code",
      "execution_count": null,
      "metadata": {
        "id": "1tcKzSgmUSdG",
        "colab": {
          "base_uri": "https://localhost:8080/"
        },
        "outputId": "1f1ea582-0454-4900-acd1-4b487cff0012"
      },
      "outputs": [
        {
          "output_type": "execute_result",
          "data": {
            "text/plain": [
              "tensor([0, 1, 2])"
            ]
          },
          "metadata": {},
          "execution_count": 35
        }
      ],
      "source": [
        "tensor([1,2,3]) - tensor(1)"
      ]
    },
    {
      "cell_type": "code",
      "execution_count": null,
      "metadata": {
        "id": "_R_05qQwUSdH",
        "colab": {
          "base_uri": "https://localhost:8080/"
        },
        "outputId": "95058cd0-309a-4954-8f6c-fa73827fb1e3"
      },
      "outputs": [
        {
          "output_type": "execute_result",
          "data": {
            "text/plain": [
              "torch.Size([1010, 28, 28])"
            ]
          },
          "metadata": {},
          "execution_count": 36
        }
      ],
      "source": [
        "(valid_3_tens-mean3).shape"
      ]
    },
    {
      "cell_type": "code",
      "execution_count": null,
      "metadata": {
        "id": "YAKSWBOSUSdH"
      },
      "outputs": [],
      "source": [
        "def is_3(x): return mnist_distance(x,mean3) > mnist_distance(x,mean7)"
      ]
    },
    {
      "cell_type": "markdown",
      "metadata": {
        "id": "uNEAH5VgUSdI"
      },
      "source": [
        "Let's test it on our example case:"
      ]
    },
    {
      "cell_type": "code",
      "execution_count": null,
      "metadata": {
        "id": "19XqjU-xUSdI",
        "colab": {
          "base_uri": "https://localhost:8080/"
        },
        "outputId": "f329b193-c3fb-48b9-a759-34e5e3ecff4d"
      },
      "outputs": [
        {
          "output_type": "execute_result",
          "data": {
            "text/plain": [
              "(tensor(False), tensor(0.))"
            ]
          },
          "metadata": {},
          "execution_count": 38
        }
      ],
      "source": [
        "is_3(a_3), is_3(a_3).float()"
      ]
    },
    {
      "cell_type": "code",
      "execution_count": null,
      "metadata": {
        "id": "pvsZKf3QUSdI",
        "colab": {
          "base_uri": "https://localhost:8080/"
        },
        "outputId": "491d3aba-fb3a-4365-f3e9-c5df31a0c1ab"
      },
      "outputs": [
        {
          "output_type": "execute_result",
          "data": {
            "text/plain": [
              "tensor([False, False, False,  ...,  True, False, False])"
            ]
          },
          "metadata": {},
          "execution_count": 39
        }
      ],
      "source": [
        "is_3(valid_3_tens)"
      ]
    },
    {
      "cell_type": "code",
      "execution_count": null,
      "metadata": {
        "id": "gGLHCGGxUSdJ",
        "colab": {
          "base_uri": "https://localhost:8080/"
        },
        "outputId": "225ba0bf-b195-4341-c1b1-ae9e7f902836"
      },
      "outputs": [
        {
          "output_type": "execute_result",
          "data": {
            "text/plain": [
              "(tensor(0.0832), tensor(0.0146), tensor(0.0489))"
            ]
          },
          "metadata": {},
          "execution_count": 40
        }
      ],
      "source": [
        "accuracy_3s =      is_3(valid_3_tens).float() .mean()\n",
        "accuracy_7s = (1 - is_3(valid_7_tens).float()).mean()\n",
        "\n",
        "accuracy_3s,accuracy_7s,(accuracy_3s+accuracy_7s)/2"
      ]
    },
    {
      "cell_type": "markdown",
      "metadata": {
        "id": "5qVJEXXqUSdJ"
      },
      "source": [
        "## Stochastic Gradient Descent (SGD)"
      ]
    },
    {
      "cell_type": "code",
      "execution_count": null,
      "metadata": {
        "hide_input": true,
        "id": "Ziki_DgqUSdK",
        "colab": {
          "base_uri": "https://localhost:8080/",
          "height": 126
        },
        "outputId": "722ba9ef-3328-412b-ee09-e8335a6c3de7"
      },
      "outputs": [
        {
          "output_type": "execute_result",
          "data": {
            "image/svg+xml": "<?xml version=\"1.0\" encoding=\"UTF-8\" standalone=\"no\"?>\n<!DOCTYPE svg PUBLIC \"-//W3C//DTD SVG 1.1//EN\"\n \"http://www.w3.org/Graphics/SVG/1.1/DTD/svg11.dtd\">\n<!-- Generated by graphviz version 2.43.0 (0)\n -->\n<!-- Title: G Pages: 1 -->\n<svg width=\"591pt\" height=\"78pt\"\n viewBox=\"0.00 0.00 591.49 78.00\" xmlns=\"http://www.w3.org/2000/svg\" xmlns:xlink=\"http://www.w3.org/1999/xlink\">\n<g id=\"graph0\" class=\"graph\" transform=\"scale(1 1) rotate(0) translate(4 74)\">\n<title>G</title>\n<polygon fill=\"white\" stroke=\"transparent\" points=\"-4,4 -4,-74 587.49,-74 587.49,4 -4,4\"/>\n<!-- init -->\n<g id=\"node1\" class=\"node\">\n<title>init</title>\n<ellipse fill=\"none\" stroke=\"black\" cx=\"27\" cy=\"-18\" rx=\"27\" ry=\"18\"/>\n<text text-anchor=\"middle\" x=\"27\" y=\"-14.3\" font-family=\"Times,serif\" font-size=\"14.00\">init</text>\n</g>\n<!-- predict -->\n<g id=\"node2\" class=\"node\">\n<title>predict</title>\n<ellipse fill=\"none\" stroke=\"black\" cx=\"126.1\" cy=\"-18\" rx=\"35.19\" ry=\"18\"/>\n<text text-anchor=\"middle\" x=\"126.1\" y=\"-14.3\" font-family=\"Times,serif\" font-size=\"14.00\">predict</text>\n</g>\n<!-- init&#45;&gt;predict -->\n<g id=\"edge1\" class=\"edge\">\n<title>init&#45;&gt;predict</title>\n<path fill=\"none\" stroke=\"black\" d=\"M54.02,-18C62.26,-18 71.62,-18 80.78,-18\"/>\n<polygon fill=\"black\" stroke=\"black\" points=\"80.96,-21.5 90.96,-18 80.96,-14.5 80.96,-21.5\"/>\n</g>\n<!-- loss -->\n<g id=\"node3\" class=\"node\">\n<title>loss</title>\n<ellipse fill=\"none\" stroke=\"black\" cx=\"225.19\" cy=\"-52\" rx=\"27\" ry=\"18\"/>\n<text text-anchor=\"middle\" x=\"225.19\" y=\"-48.3\" font-family=\"Times,serif\" font-size=\"14.00\">loss</text>\n</g>\n<!-- predict&#45;&gt;loss -->\n<g id=\"edge2\" class=\"edge\">\n<title>predict&#45;&gt;loss</title>\n<path fill=\"none\" stroke=\"black\" d=\"M155.44,-27.93C166.61,-31.84 179.52,-36.36 191.11,-40.42\"/>\n<polygon fill=\"black\" stroke=\"black\" points=\"190.29,-43.84 200.88,-43.84 192.6,-37.23 190.29,-43.84\"/>\n</g>\n<!-- gradient -->\n<g id=\"node4\" class=\"node\">\n<title>gradient</title>\n<ellipse fill=\"none\" stroke=\"black\" cx=\"361.84\" cy=\"-52\" rx=\"39.79\" ry=\"18\"/>\n<text text-anchor=\"middle\" x=\"361.84\" y=\"-48.3\" font-family=\"Times,serif\" font-size=\"14.00\">gradient</text>\n</g>\n<!-- loss&#45;&gt;gradient -->\n<g id=\"edge3\" class=\"edge\">\n<title>loss&#45;&gt;gradient</title>\n<path fill=\"none\" stroke=\"black\" d=\"M252.47,-52C269.35,-52 291.8,-52 311.88,-52\"/>\n<polygon fill=\"black\" stroke=\"black\" points=\"312.13,-55.5 322.13,-52 312.13,-48.5 312.13,-55.5\"/>\n</g>\n<!-- step -->\n<g id=\"node5\" class=\"node\">\n<title>step</title>\n<ellipse fill=\"none\" stroke=\"black\" cx=\"465.49\" cy=\"-18\" rx=\"27\" ry=\"18\"/>\n<text text-anchor=\"middle\" x=\"465.49\" y=\"-14.3\" font-family=\"Times,serif\" font-size=\"14.00\">step</text>\n</g>\n<!-- gradient&#45;&gt;step -->\n<g id=\"edge4\" class=\"edge\">\n<title>gradient&#45;&gt;step</title>\n<path fill=\"none\" stroke=\"black\" d=\"M394.17,-41.52C405.92,-37.59 419.32,-33.11 431.25,-29.12\"/>\n<polygon fill=\"black\" stroke=\"black\" points=\"432.48,-32.4 440.85,-25.91 430.26,-25.76 432.48,-32.4\"/>\n</g>\n<!-- step&#45;&gt;predict -->\n<g id=\"edge6\" class=\"edge\">\n<title>step&#45;&gt;predict</title>\n<path fill=\"none\" stroke=\"black\" d=\"M438.29,-18C380.72,-18 242.6,-18 171.32,-18\"/>\n<polygon fill=\"black\" stroke=\"black\" points=\"171.3,-14.5 161.3,-18 171.3,-21.5 171.3,-14.5\"/>\n<text text-anchor=\"middle\" x=\"287.19\" y=\"-21.8\" font-family=\"Times,serif\" font-size=\"14.00\">repeat</text>\n</g>\n<!-- stop -->\n<g id=\"node6\" class=\"node\">\n<title>stop</title>\n<ellipse fill=\"none\" stroke=\"black\" cx=\"556.49\" cy=\"-18\" rx=\"27\" ry=\"18\"/>\n<text text-anchor=\"middle\" x=\"556.49\" y=\"-14.3\" font-family=\"Times,serif\" font-size=\"14.00\">stop</text>\n</g>\n<!-- step&#45;&gt;stop -->\n<g id=\"edge5\" class=\"edge\">\n<title>step&#45;&gt;stop</title>\n<path fill=\"none\" stroke=\"black\" d=\"M492.71,-18C501.04,-18 510.4,-18 519.3,-18\"/>\n<polygon fill=\"black\" stroke=\"black\" points=\"519.45,-21.5 529.45,-18 519.45,-14.5 519.45,-21.5\"/>\n</g>\n</g>\n</svg>\n",
            "text/plain": [
              "<graphviz.sources.Source at 0x7b3863a0fa90>"
            ]
          },
          "metadata": {},
          "execution_count": 41
        }
      ],
      "source": [
        "#id gradient_descent\n",
        "#caption The gradient descent process\n",
        "#alt Graph showing the steps for Gradient Descent\n",
        "gv('''\n",
        "init->predict->loss->gradient->step->stop\n",
        "step->predict[label=repeat]\n",
        "''')"
      ]
    },
    {
      "cell_type": "markdown",
      "metadata": {
        "id": "D4GpQbOuUSdL"
      },
      "source": [
        "Before applying these steps to our image classification problem, let's illustrate what they look like in a simpler case. First we will define a very simple function, the quadratic—let's pretend that this is our loss function, and `x` is a weight parameter of the function:"
      ]
    },
    {
      "cell_type": "code",
      "execution_count": null,
      "metadata": {
        "id": "7Odp8q5PUSdL"
      },
      "outputs": [],
      "source": [
        "def f(x): return x**3"
      ]
    },
    {
      "cell_type": "markdown",
      "metadata": {
        "id": "lNrK9YXdUSdL"
      },
      "source": [
        "Here is a graph of that function:"
      ]
    },
    {
      "cell_type": "code",
      "execution_count": null,
      "metadata": {
        "id": "X-fGKM95USdL",
        "colab": {
          "base_uri": "https://localhost:8080/",
          "height": 396
        },
        "outputId": "777b88f5-d5f2-4fee-ac54-b4cd60f9b05d"
      },
      "outputs": [
        {
          "output_type": "display_data",
          "data": {
            "text/plain": [
              "<Figure size 600x400 with 1 Axes>"
            ],
            "image/png": "[encoded data removed]"
          },
          "metadata": {}
        }
      ],
      "source": [
        "plot_function(f, 'x', 'x**3')"
      ]
    },
    {
      "cell_type": "markdown",
      "metadata": {
        "id": "a2-VqLPDUSdL"
      },
      "source": [
        "The sequence of steps we described earlier starts by picking some random value for a parameter, and calculating the value of the loss:"
      ]
    },
    {
      "cell_type": "code",
      "execution_count": null,
      "metadata": {
        "id": "CnGIXPyRUSdM",
        "colab": {
          "base_uri": "https://localhost:8080/",
          "height": 396
        },
        "outputId": "144885ef-11d5-4acd-caed-23cf09ba2828"
      },
      "outputs": [
        {
          "output_type": "display_data",
          "data": {
            "text/plain": [
              "<Figure size 600x400 with 1 Axes>"
            ],
            "image/png": "[encoded data removed]"
          },
          "metadata": {}
        }
      ],
      "source": [
        "plot_function(f, 'x', 'x**3')\n",
        "plt.scatter(-1.5, f(-1.5), color='red');"
      ]
    },
    {
      "cell_type": "markdown",
      "metadata": {
        "id": "hmdNffCaUSdM"
      },
      "source": [
        "Now we look to see what would happen if we increased or decreased our parameter by a little bit—the *adjustment*. This is simply the slope at a particular point:"
      ]
    },
    {
      "cell_type": "markdown",
      "metadata": {
        "id": "ZdkRab0TUSdM"
      },
      "source": [
        "<img alt=\"A graph showing the squared function with the slope at one point\" width=\"400\" src=\"https://github.com/fastai/fastbook/blob/master/images/grad_illustration.svg?raw=1\"/>"
      ]
    },
    {
      "cell_type": "markdown",
      "metadata": {
        "id": "twgiKctJUSdN"
      },
      "source": [
        "We can change our weight by a little in the direction of the slope, calculate our loss and adjustment again, and repeat this a few times. Eventually, we will get to the lowest point on our curve:"
      ]
    },
    {
      "cell_type": "markdown",
      "metadata": {
        "id": "RIqUa06uUSdN"
      },
      "source": [
        "<img alt=\"An illustration of gradient descent\" width=\"400\" src=\"https://github.com/fastai/fastbook/blob/master/images/chapter2_perfect.svg?raw=1\"/>"
      ]
    },
    {
      "cell_type": "markdown",
      "metadata": {
        "id": "Y9wqF8gMUSdN"
      },
      "source": [
        "This basic idea goes all the way back to Isaac Newton, who pointed out that we can optimize arbitrary functions in this way. Regardless of how complicated our functions become, this basic approach of gradient descent will not significantly change. The only minor changes we will see later in this book are some handy ways we can make it faster, by finding better steps."
      ]
    },
    {
      "cell_type": "markdown",
      "metadata": {
        "id": "SkF8fkPjUSdN"
      },
      "source": [
        "### Calculating Gradients"
      ]
    },
    {
      "cell_type": "code",
      "execution_count": null,
      "metadata": {
        "id": "OfOE0J2qUSdO"
      },
      "outputs": [],
      "source": [
        "xt = tensor(7.).requires_grad_()"
      ]
    },
    {
      "cell_type": "code",
      "execution_count": null,
      "metadata": {
        "id": "UOSGUiOFUSdO",
        "colab": {
          "base_uri": "https://localhost:8080/"
        },
        "outputId": "ae3fa53d-3558-4b4a-8389-0d9739cdec16"
      },
      "outputs": [
        {
          "output_type": "execute_result",
          "data": {
            "text/plain": [
              "tensor(343., grad_fn=<PowBackward0>)"
            ]
          },
          "metadata": {},
          "execution_count": 46
        }
      ],
      "source": [
        "yt = f(xt)\n",
        "yt"
      ]
    },
    {
      "cell_type": "markdown",
      "metadata": {
        "id": "DS5KycD-USdP"
      },
      "source": [
        "Finally, we tell PyTorch to calculate the gradients for us:"
      ]
    },
    {
      "cell_type": "code",
      "execution_count": null,
      "metadata": {
        "id": "Jhef0hsfUSdP"
      },
      "outputs": [],
      "source": [
        "yt.backward()"
      ]
    },
    {
      "cell_type": "markdown",
      "metadata": {
        "id": "aUoJ_VoAUSdQ"
      },
      "source": [
        "We can now view the gradients by checking the `grad` attribute of our tensor:"
      ]
    },
    {
      "cell_type": "code",
      "execution_count": null,
      "metadata": {
        "id": "QCgLIgh2USdQ",
        "colab": {
          "base_uri": "https://localhost:8080/"
        },
        "outputId": "2132a20b-0a5d-4857-fc6d-8186aae79c0a"
      },
      "outputs": [
        {
          "output_type": "execute_result",
          "data": {
            "text/plain": [
              "tensor(147.)"
            ]
          },
          "metadata": {},
          "execution_count": 48
        }
      ],
      "source": [
        "xt.grad"
      ]
    },
    {
      "cell_type": "code",
      "execution_count": null,
      "metadata": {
        "id": "gWpzS0K4USdR",
        "colab": {
          "base_uri": "https://localhost:8080/"
        },
        "outputId": "0838dd30-b47a-4ce8-a621-abb7cdbadab4"
      },
      "outputs": [
        {
          "output_type": "execute_result",
          "data": {
            "text/plain": [
              "tensor([8.0000, 9.0000, 0.6000], requires_grad=True)"
            ]
          },
          "metadata": {},
          "execution_count": 49
        }
      ],
      "source": [
        "xt = tensor([8,9,0.6]).requires_grad_()\n",
        "xt"
      ]
    },
    {
      "cell_type": "markdown",
      "metadata": {
        "id": "NLVin_eyUSdR"
      },
      "source": [
        "And we'll add `sum` to our function so it can take a vector (i.e., a rank-1 tensor), and return a scalar (i.e., a rank-0 tensor):"
      ]
    },
    {
      "cell_type": "code",
      "execution_count": null,
      "metadata": {
        "id": "FnmOa87SUSdR",
        "colab": {
          "base_uri": "https://localhost:8080/"
        },
        "outputId": "56611c4f-7bba-432b-be75-572c50631b01"
      },
      "outputs": [
        {
          "output_type": "execute_result",
          "data": {
            "text/plain": [
              "tensor(145.3600, grad_fn=<SumBackward0>)"
            ]
          },
          "metadata": {},
          "execution_count": 50
        }
      ],
      "source": [
        "def f(x): return (x**2).sum()\n",
        "\n",
        "yt = f(xt)\n",
        "yt"
      ]
    },
    {
      "cell_type": "markdown",
      "metadata": {
        "id": "vRB02MmYUSdR"
      },
      "source": [
        "Our gradients are `2*xt`, as we'd expect!"
      ]
    },
    {
      "cell_type": "code",
      "execution_count": null,
      "metadata": {
        "id": "zjrwE0WeUSdR",
        "colab": {
          "base_uri": "https://localhost:8080/"
        },
        "outputId": "bdb968fb-20b8-402d-a42e-e5f09e11a880"
      },
      "outputs": [
        {
          "output_type": "execute_result",
          "data": {
            "text/plain": [
              "tensor([16.0000, 18.0000,  1.2000])"
            ]
          },
          "metadata": {},
          "execution_count": 51
        }
      ],
      "source": [
        "yt.backward()\n",
        "xt.grad"
      ]
    },
    {
      "cell_type": "markdown",
      "metadata": {
        "id": "L25AruIMUSdU"
      },
      "source": [
        "### An End-to-End SGD Example"
      ]
    },
    {
      "cell_type": "code",
      "execution_count": null,
      "metadata": {
        "id": "xCRwDDfOUSdU",
        "colab": {
          "base_uri": "https://localhost:8080/"
        },
        "outputId": "e89602c8-e21b-4a3d-b83a-84bc6fe6795d"
      },
      "outputs": [
        {
          "output_type": "execute_result",
          "data": {
            "text/plain": [
              "tensor([ 0.,  1.,  2.,  3.,  4.,  5.,  6.,  7.,  8.,  9., 10., 11., 12., 13., 14., 15., 16., 17., 18., 19.])"
            ]
          },
          "metadata": {},
          "execution_count": 52
        }
      ],
      "source": [
        "time = torch.arange(0,20).float(); time"
      ]
    },
    {
      "cell_type": "code",
      "execution_count": null,
      "metadata": {
        "id": "D2Vf-sW-USdU",
        "colab": {
          "base_uri": "https://localhost:8080/",
          "height": 434
        },
        "outputId": "27d61c3b-3c76-433f-cd48-0ccb1e669116"
      },
      "outputs": [
        {
          "output_type": "display_data",
          "data": {
            "text/plain": [
              "<Figure size 640x480 with 1 Axes>"
            ],
            "image/png": "[encoded data removed]"
          },
          "metadata": {}
        }
      ],
      "source": [
        "speed = torch.randn(20)*3 + 0.75*(time-9.5)**2 + 1\n",
        "plt.scatter(time,speed);"
      ]
    },
    {
      "cell_type": "code",
      "execution_count": null,
      "metadata": {
        "id": "_S5o66bbUSdV"
      },
      "outputs": [],
      "source": [
        "def f(t, params):\n",
        "    a,b,c = params\n",
        "    return a*(t**2) + (b*t) + c"
      ]
    },
    {
      "cell_type": "code",
      "execution_count": null,
      "metadata": {
        "id": "8kkpdWScUSdW"
      },
      "outputs": [],
      "source": [
        "def mse(preds, targets): return ((preds-targets)**2).mean()"
      ]
    },
    {
      "cell_type": "markdown",
      "metadata": {
        "id": "ajGf-ighUSdW"
      },
      "source": [
        "#### Step 1: Initialize the parameters"
      ]
    },
    {
      "cell_type": "code",
      "execution_count": null,
      "metadata": {
        "id": "NbtmmycuUSdX"
      },
      "outputs": [],
      "source": [
        "params = torch.randn(3).requires_grad_()"
      ]
    },
    {
      "cell_type": "code",
      "execution_count": null,
      "metadata": {
        "id": "-VKQIVwsUSdX"
      },
      "outputs": [],
      "source": [
        "#hide\n",
        "orig_params = params.clone()"
      ]
    },
    {
      "cell_type": "markdown",
      "metadata": {
        "id": "q9PLPKA1USdX"
      },
      "source": [
        "#### Step 2: Calculate the predictions"
      ]
    },
    {
      "cell_type": "code",
      "execution_count": null,
      "metadata": {
        "id": "zxpDKqOoUSdX"
      },
      "outputs": [],
      "source": [
        "preds = f(time, params)"
      ]
    },
    {
      "cell_type": "code",
      "execution_count": null,
      "metadata": {
        "id": "FlL9hyL0USdY"
      },
      "outputs": [],
      "source": [
        "def show_preds(preds, ax=None):\n",
        "    if ax is None: ax=plt.subplots()[1]\n",
        "    ax.scatter(time, speed)\n",
        "    ax.scatter(time, to_np(preds), color='red')\n",
        "    ax.set_ylim(-300,100)"
      ]
    },
    {
      "cell_type": "code",
      "execution_count": null,
      "metadata": {
        "id": "uXWKiM_RUSdY",
        "colab": {
          "base_uri": "https://localhost:8080/",
          "height": 441
        },
        "outputId": "5431e6c0-bc0b-4c8d-b853-5d6bd0684c40"
      },
      "outputs": [
        {
          "output_type": "display_data",
          "data": {
            "text/plain": [
              "<Figure size 640x480 with 1 Axes>"
            ],
            "image/png": "[encoded data removed]"
          },
          "metadata": {}
        }
      ],
      "source": [
        "show_preds(preds)"
      ]
    },
    {
      "cell_type": "markdown",
      "metadata": {
        "id": "_xNfLjmGUSdZ"
      },
      "source": [
        "#### Step 3: Calculate the loss"
      ]
    },
    {
      "cell_type": "code",
      "execution_count": null,
      "metadata": {
        "id": "9WQ1aLRPUSda",
        "colab": {
          "base_uri": "https://localhost:8080/"
        },
        "outputId": "262e033d-c08c-4d6f-bfa8-b11dcf3d390f"
      },
      "outputs": [
        {
          "output_type": "execute_result",
          "data": {
            "text/plain": [
              "tensor(25823.8086, grad_fn=<MeanBackward0>)"
            ]
          },
          "metadata": {},
          "execution_count": 61
        }
      ],
      "source": [
        "loss = mse(preds, speed)\n",
        "loss"
      ]
    },
    {
      "cell_type": "markdown",
      "metadata": {
        "id": "2wih2GmtUSdb"
      },
      "source": [
        "#### Step 4: Calculate the gradients"
      ]
    },
    {
      "cell_type": "code",
      "execution_count": null,
      "metadata": {
        "id": "Ljg85nFOUSdc",
        "colab": {
          "base_uri": "https://localhost:8080/"
        },
        "outputId": "f6c7d46e-f06d-4e0d-db67-04facc51c976"
      },
      "outputs": [
        {
          "output_type": "execute_result",
          "data": {
            "text/plain": [
              "tensor([-53195.8633,  -3419.7148,   -253.8908])"
            ]
          },
          "metadata": {},
          "execution_count": 62
        }
      ],
      "source": [
        "loss.backward()\n",
        "params.grad"
      ]
    },
    {
      "cell_type": "code",
      "execution_count": null,
      "metadata": {
        "id": "QmVNSvbzUSdc",
        "colab": {
          "base_uri": "https://localhost:8080/"
        },
        "outputId": "c8e756bb-9d65-4945-b22e-320379f98547"
      },
      "outputs": [
        {
          "output_type": "execute_result",
          "data": {
            "text/plain": [
              "tensor([-0.5320, -0.0342, -0.0025])"
            ]
          },
          "metadata": {},
          "execution_count": 63
        }
      ],
      "source": [
        "params.grad * 1e-5"
      ]
    },
    {
      "cell_type": "code",
      "execution_count": null,
      "metadata": {
        "id": "TIAEI70jUSdc",
        "colab": {
          "base_uri": "https://localhost:8080/"
        },
        "outputId": "480d2b55-d1e2-429d-b9a9-705dd09ce656"
      },
      "outputs": [
        {
          "output_type": "execute_result",
          "data": {
            "text/plain": [
              "tensor([-0.7658, -0.7506,  1.3525], requires_grad=True)"
            ]
          },
          "metadata": {},
          "execution_count": 64
        }
      ],
      "source": [
        "params"
      ]
    },
    {
      "cell_type": "markdown",
      "metadata": {
        "id": "Syjz6fWwUSdd"
      },
      "source": [
        "#### Step 5: Step the weights."
      ]
    },
    {
      "cell_type": "code",
      "execution_count": null,
      "metadata": {
        "id": "MBNVNT9rUSdd"
      },
      "outputs": [],
      "source": [
        "lr = 1e-5\n",
        "params.data -= lr * params.grad.data\n",
        "params.grad = None"
      ]
    },
    {
      "cell_type": "markdown",
      "metadata": {
        "id": "2nQJm_zkUSdi"
      },
      "source": [
        "Let's see if the loss has improved:"
      ]
    },
    {
      "cell_type": "code",
      "execution_count": null,
      "metadata": {
        "id": "x1ytGMvaUSdj",
        "colab": {
          "base_uri": "https://localhost:8080/"
        },
        "outputId": "085311df-5847-41b8-f3da-5c9f3fd7dc3d"
      },
      "outputs": [
        {
          "output_type": "execute_result",
          "data": {
            "text/plain": [
              "tensor(5435.5356, grad_fn=<MeanBackward0>)"
            ]
          },
          "metadata": {},
          "execution_count": 66
        }
      ],
      "source": [
        "preds = f(time,params)\n",
        "mse(preds, speed)"
      ]
    },
    {
      "cell_type": "code",
      "execution_count": null,
      "metadata": {
        "id": "8zrA-Mq-USdj",
        "colab": {
          "base_uri": "https://localhost:8080/",
          "height": 441
        },
        "outputId": "155344ce-ba2a-46f9-dc9c-044e20fd7b92"
      },
      "outputs": [
        {
          "output_type": "display_data",
          "data": {
            "text/plain": [
              "<Figure size 640x480 with 1 Axes>"
            ],
            "image/png": "[encoded data removed]"
          },
          "metadata": {}
        }
      ],
      "source": [
        "show_preds(preds)"
      ]
    },
    {
      "cell_type": "code",
      "execution_count": null,
      "metadata": {
        "id": "PXIGxNMwUSdk",
        "colab": {
          "base_uri": "https://localhost:8080/"
        },
        "outputId": "3f7e1932-f426-4d9a-99cf-40094714f935"
      },
      "outputs": [
        {
          "output_type": "stream",
          "name": "stdout",
          "text": [
            "5435.53564453125\n"
          ]
        },
        {
          "output_type": "execute_result",
          "data": {
            "text/plain": [
              "tensor([  1.3551,   0.4048,  -1.0133,  -2.8991,  -5.2527,  -8.0740, -11.3631, -15.1200, -19.3446, -24.0370, -29.1972, -34.8251, -40.9207, -47.4842, -54.5153, -62.0143, -69.9810, -78.4155, -87.3177,\n",
              "        -96.6877], grad_fn=<AddBackward0>)"
            ]
          },
          "metadata": {},
          "execution_count": 68
        }
      ],
      "source": [
        "def apply_step(params, prn=True):\n",
        "  for i in range(10):\n",
        "    preds = f(time, params)\n",
        "    loss = mse(preds, speed)\n",
        "    loss.backward()\n",
        "    params.data -= lr * params.grad.data\n",
        "    params.grad = None\n",
        "    if prn: print(loss.item())\n",
        "    return preds\n",
        "\n",
        "apply_step(params)"
      ]
    },
    {
      "cell_type": "markdown",
      "metadata": {
        "id": "yAX_mxY3USdk"
      },
      "source": [
        "#### Step 6: Repeat the process"
      ]
    },
    {
      "cell_type": "code",
      "execution_count": null,
      "metadata": {
        "id": "B-ECgvbLUSdk"
      },
      "outputs": [],
      "source": [
        "for i in range(10): apply_step(params)"
      ]
    },
    {
      "cell_type": "code",
      "execution_count": null,
      "metadata": {
        "id": "7DU3rZdzUSdl"
      },
      "outputs": [],
      "source": [
        "#hide\n",
        "params = orig_params.detach().requires_grad_()"
      ]
    },
    {
      "cell_type": "code",
      "execution_count": null,
      "metadata": {
        "id": "xV0Z1u8EUSdm",
        "colab": {
          "base_uri": "https://localhost:8080/",
          "height": 300
        },
        "outputId": "6ddae78c-6d36-4157-baac-ed8b2f808e61"
      },
      "outputs": [
        {
          "output_type": "display_data",
          "data": {
            "text/plain": [
              "<Figure size 1200x300 with 4 Axes>"
            ],
            "image/png": "[encoded data removed]"
          },
          "metadata": {}
        }
      ],
      "source": [
        "_,axs = plt.subplots(1,4,figsize=(12,3))\n",
        "for ax in axs: show_preds(apply_step(params, False), ax)\n",
        "plt.tight_layout()"
      ]
    },
    {
      "cell_type": "markdown",
      "metadata": {
        "id": "zl5ILb7TUSdn"
      },
      "source": [
        "#### Step 7: stop"
      ]
    },
    {
      "cell_type": "markdown",
      "metadata": {
        "id": "2txYGtEFUSdp"
      },
      "source": [
        "## The MNIST Loss Function"
      ]
    },
    {
      "cell_type": "code",
      "execution_count": null,
      "metadata": {
        "id": "yuAYXMhZUSdp"
      },
      "outputs": [],
      "source": [
        "train_x = torch.cat([stacked_threes, stacked_sevens]).view(-1, 28*28)"
      ]
    },
    {
      "cell_type": "code",
      "execution_count": null,
      "metadata": {
        "id": "D3xpwckXUSdq",
        "colab": {
          "base_uri": "https://localhost:8080/"
        },
        "outputId": "2560a5a8-4eff-4a91-c2fd-fce61377d288"
      },
      "outputs": [
        {
          "output_type": "execute_result",
          "data": {
            "text/plain": [
              "(torch.Size([12396, 784]), torch.Size([12396, 1]))"
            ]
          },
          "metadata": {},
          "execution_count": 74
        }
      ],
      "source": [
        "train_y = tensor([1]*len(fours) + [0]*len(sevens)).unsqueeze(1)\n",
        "train_x.shape,train_y.shape"
      ]
    },
    {
      "cell_type": "code",
      "execution_count": null,
      "metadata": {
        "id": "4nYmE-DFUSdr",
        "colab": {
          "base_uri": "https://localhost:8080/"
        },
        "outputId": "63862d1f-5f6e-46b8-8431-c68c02012f6f"
      },
      "outputs": [
        {
          "output_type": "execute_result",
          "data": {
            "text/plain": [
              "(torch.Size([784]), tensor([1]))"
            ]
          },
          "metadata": {},
          "execution_count": 75
        }
      ],
      "source": [
        "dset = list(zip(train_x,train_y))\n",
        "x,y = dset[0]\n",
        "x.shape,y"
      ]
    },
    {
      "cell_type": "code",
      "execution_count": null,
      "metadata": {
        "id": "BeL50ks4USdr"
      },
      "outputs": [],
      "source": [
        "valid_x = torch.cat([valid_3_tens, valid_7_tens]).view(-1, 28*28)\n",
        "valid_y = tensor([1]*len(valid_3_tens) + [0]*len(valid_7_tens)).unsqueeze(1)\n",
        "valid_dset = list(zip(valid_x,valid_y))"
      ]
    },
    {
      "cell_type": "code",
      "execution_count": null,
      "metadata": {
        "id": "AONrkj83USdr"
      },
      "outputs": [],
      "source": [
        "def init_params(size, std=1.0): return (torch.randn(size)*std).requires_grad_()"
      ]
    },
    {
      "cell_type": "code",
      "execution_count": null,
      "metadata": {
        "id": "-MKhX_1SUSdr"
      },
      "outputs": [],
      "source": [
        "weights = init_params((28*28,1))"
      ]
    },
    {
      "cell_type": "code",
      "execution_count": null,
      "metadata": {
        "id": "BPqSdOXqUSds"
      },
      "outputs": [],
      "source": [
        "bias = init_params(1)"
      ]
    },
    {
      "cell_type": "code",
      "execution_count": null,
      "metadata": {
        "id": "h2DFOxZ_USdt",
        "colab": {
          "base_uri": "https://localhost:8080/"
        },
        "outputId": "4b86f1f3-18fe-456e-a63f-552c1bf5ee71"
      },
      "outputs": [
        {
          "output_type": "execute_result",
          "data": {
            "text/plain": [
              "tensor([20.2336], grad_fn=<AddBackward0>)"
            ]
          },
          "metadata": {},
          "execution_count": 80
        }
      ],
      "source": [
        "(train_x[0]*weights.T).sum() + bias"
      ]
    },
    {
      "cell_type": "code",
      "execution_count": null,
      "metadata": {
        "id": "pFHnlWpLUSdu"
      },
      "outputs": [],
      "source": [
        "def linear1(xb): return xb@weights + bias\n",
        "# preds = linear1(train_x)\n",
        "# preds"
      ]
    },
    {
      "cell_type": "code",
      "execution_count": null,
      "metadata": {
        "id": "LBmkQ2-CUSdu",
        "colab": {
          "base_uri": "https://localhost:8080/"
        },
        "outputId": "767bbb42-24de-478d-c9b0-4787eda1a859"
      },
      "outputs": [
        {
          "output_type": "execute_result",
          "data": {
            "text/plain": [
              "tensor([[ True],\n",
              "        [ True],\n",
              "        [ True],\n",
              "        ...,\n",
              "        [False],\n",
              "        [False],\n",
              "        [False]])"
            ]
          },
          "metadata": {},
          "execution_count": 82
        }
      ],
      "source": [
        "corrects = (preds>0.0).float() == train_y\n",
        "corrects"
      ]
    },
    {
      "cell_type": "code",
      "execution_count": null,
      "metadata": {
        "id": "nSsy6deeUSdv",
        "colab": {
          "base_uri": "https://localhost:8080/"
        },
        "outputId": "206be767-48ee-4882-ce5a-177b9c995064"
      },
      "outputs": [
        {
          "output_type": "execute_result",
          "data": {
            "text/plain": [
              "0.4912068545818329"
            ]
          },
          "metadata": {},
          "execution_count": 83
        }
      ],
      "source": [
        "corrects.float().mean().item()"
      ]
    },
    {
      "cell_type": "code",
      "execution_count": null,
      "metadata": {
        "id": "12YwFb5EUSdv"
      },
      "outputs": [],
      "source": [
        "with torch.no_grad(): weights[0] *= 1.0001"
      ]
    },
    {
      "cell_type": "code",
      "execution_count": null,
      "metadata": {
        "id": "QBMyK0_-USdv",
        "colab": {
          "base_uri": "https://localhost:8080/"
        },
        "outputId": "abd12430-ac2a-480c-e899-4293adaaa316"
      },
      "outputs": [
        {
          "output_type": "execute_result",
          "data": {
            "text/plain": [
              "0.4912068545818329"
            ]
          },
          "metadata": {},
          "execution_count": 85
        }
      ],
      "source": [
        "preds = linear1(train_x)\n",
        "((preds>0.0).float() == train_y).float().mean().item()"
      ]
    },
    {
      "cell_type": "code",
      "execution_count": null,
      "metadata": {
        "id": "VpF8bbdIUSdw"
      },
      "outputs": [],
      "source": [
        "trgts  = tensor([1,0,1])\n",
        "prds   = tensor([0.9, 0.4, 0.2])"
      ]
    },
    {
      "cell_type": "code",
      "execution_count": null,
      "metadata": {
        "id": "t7i567xVUSdx"
      },
      "outputs": [],
      "source": [
        "def mnist_loss(predictions, targets):\n",
        "    return torch.where(targets==1, 1-predictions, predictions).mean()"
      ]
    },
    {
      "cell_type": "code",
      "execution_count": null,
      "metadata": {
        "id": "X-VXPr3LUSdy",
        "colab": {
          "base_uri": "https://localhost:8080/"
        },
        "outputId": "7f72bb85-7607-4803-ae11-a441a55b0fc0"
      },
      "outputs": [
        {
          "output_type": "execute_result",
          "data": {
            "text/plain": [
              "tensor([0.1000, 0.4000, 0.8000])"
            ]
          },
          "metadata": {},
          "execution_count": 88
        }
      ],
      "source": [
        "torch.where(trgts==1, 1-prds, prds)"
      ]
    },
    {
      "cell_type": "code",
      "execution_count": null,
      "metadata": {
        "id": "Oz_0rtg0USdy",
        "colab": {
          "base_uri": "https://localhost:8080/"
        },
        "outputId": "add54475-de21-42b8-97ec-c74f531aedf5"
      },
      "outputs": [
        {
          "output_type": "execute_result",
          "data": {
            "text/plain": [
              "tensor(0.4333)"
            ]
          },
          "metadata": {},
          "execution_count": 89
        }
      ],
      "source": [
        "mnist_loss(prds,trgts)"
      ]
    },
    {
      "cell_type": "code",
      "execution_count": null,
      "metadata": {
        "id": "M3hp_VwXUSdz",
        "colab": {
          "base_uri": "https://localhost:8080/"
        },
        "outputId": "989ed044-01f3-4532-8081-a3b72260001d"
      },
      "outputs": [
        {
          "output_type": "execute_result",
          "data": {
            "text/plain": [
              "tensor(0.2333)"
            ]
          },
          "metadata": {},
          "execution_count": 90
        }
      ],
      "source": [
        "mnist_loss(tensor([0.9, 0.4, 0.8]),trgts)"
      ]
    },
    {
      "cell_type": "code",
      "execution_count": null,
      "metadata": {
        "id": "rSuFS5VgUSd0"
      },
      "outputs": [],
      "source": [
        "def sigmoid(x): return 1/(1+torch.exp(-x))"
      ]
    },
    {
      "cell_type": "code",
      "execution_count": null,
      "metadata": {
        "id": "k_z7_EhCUSd0",
        "colab": {
          "base_uri": "https://localhost:8080/",
          "height": 396
        },
        "outputId": "d4f31716-a4be-48fe-989e-35f5f26561e6"
      },
      "outputs": [
        {
          "output_type": "display_data",
          "data": {
            "text/plain": [
              "<Figure size 600x400 with 1 Axes>"
            ],
            "image/png": "[encoded data removed]"
          },
          "metadata": {}
        }
      ],
      "source": [
        "plot_function(torch.sigmoid, title='Sigmoid', min=-4, max=4)"
      ]
    },
    {
      "cell_type": "code",
      "execution_count": null,
      "metadata": {
        "id": "a3VSHr_vUSd0"
      },
      "outputs": [],
      "source": [
        "def mnist_loss(predictions, targets):\n",
        "    predictions = predictions.sigmoid()\n",
        "    return torch.where(targets==1, 1-predictions, predictions).mean()"
      ]
    },
    {
      "cell_type": "markdown",
      "metadata": {
        "id": "6FcF7Dp2USd1"
      },
      "source": [
        "### SGD and Mini-Batches"
      ]
    },
    {
      "cell_type": "code",
      "execution_count": null,
      "metadata": {
        "id": "7wNBkddzUSd-",
        "colab": {
          "base_uri": "https://localhost:8080/"
        },
        "outputId": "222c8b4c-cf41-4aa7-9d5e-323f697b0d7b"
      },
      "outputs": [
        {
          "output_type": "execute_result",
          "data": {
            "text/plain": [
              "[tensor([3, 2, 5]), tensor([4, 7, 8]), tensor([1, 0, 6])]"
            ]
          },
          "metadata": {},
          "execution_count": 94
        }
      ],
      "source": [
        "coll = range(9)\n",
        "dl = DataLoader(coll, batch_size=3, shuffle=True)\n",
        "list(dl)"
      ]
    },
    {
      "cell_type": "code",
      "execution_count": null,
      "metadata": {
        "id": "Ipa_vIGXUSd-",
        "colab": {
          "base_uri": "https://localhost:8080/"
        },
        "outputId": "43c8f412-3823-417a-cbf8-c2a245c9844e"
      },
      "outputs": [
        {
          "output_type": "execute_result",
          "data": {
            "text/plain": [
              "(#26) [(0, 'a'),(1, 'b'),(2, 'c'),(3, 'd'),(4, 'e'),(5, 'f'),(6, 'g'),(7, 'h'),(8, 'i'),(9, 'j'),(10, 'k'),(11, 'l'),(12, 'm'),(13, 'n'),(14, 'o'),(15, 'p'),(16, 'q'),(17, 'r'),(18, 's'),(19, 't')...]"
            ]
          },
          "metadata": {},
          "execution_count": 95
        }
      ],
      "source": [
        "ds = L(enumerate(string.ascii_lowercase))\n",
        "ds"
      ]
    },
    {
      "cell_type": "code",
      "execution_count": null,
      "metadata": {
        "id": "M-AQFkmZUSd_",
        "colab": {
          "base_uri": "https://localhost:8080/"
        },
        "outputId": "75383976-1b7b-453e-c562-e632c48f9959"
      },
      "outputs": [
        {
          "output_type": "execute_result",
          "data": {
            "text/plain": [
              "[(tensor([17, 18, 10, 22,  8, 14]), ('r', 's', 'k', 'w', 'i', 'o')),\n",
              " (tensor([20, 15,  9, 13, 21, 12]), ('u', 'p', 'j', 'n', 'v', 'm')),\n",
              " (tensor([ 7, 25,  6,  5, 11, 23]), ('h', 'z', 'g', 'f', 'l', 'x')),\n",
              " (tensor([ 1,  3,  0, 24, 19, 16]), ('b', 'd', 'a', 'y', 't', 'q')),\n",
              " (tensor([2, 4]), ('c', 'e'))]"
            ]
          },
          "metadata": {},
          "execution_count": 96
        }
      ],
      "source": [
        "dl = DataLoader(ds, batch_size=6, shuffle=True)\n",
        "list(dl)"
      ]
    },
    {
      "cell_type": "markdown",
      "metadata": {
        "id": "u9uBMG_CUSeA"
      },
      "source": [
        "## Putting It All Together"
      ]
    },
    {
      "cell_type": "markdown",
      "metadata": {
        "id": "H9NIVR0OUSeB"
      },
      "source": [
        "First, let's re-initialize our parameters:"
      ]
    },
    {
      "cell_type": "code",
      "execution_count": null,
      "metadata": {
        "id": "PvOS49M6USeB"
      },
      "outputs": [],
      "source": [
        "weights = init_params((28*28,1))\n",
        "bias = init_params(1)"
      ]
    },
    {
      "cell_type": "markdown",
      "metadata": {
        "id": "aQuagTOFUSeB"
      },
      "source": [
        "A `DataLoader` can be created from a `Dataset`:"
      ]
    },
    {
      "cell_type": "code",
      "execution_count": null,
      "metadata": {
        "id": "mQRXcqZBUSeB",
        "colab": {
          "base_uri": "https://localhost:8080/"
        },
        "outputId": "666a2d9f-2a31-416a-ebbb-d9b807336457"
      },
      "outputs": [
        {
          "output_type": "execute_result",
          "data": {
            "text/plain": [
              "(torch.Size([256, 784]), torch.Size([256, 1]))"
            ]
          },
          "metadata": {},
          "execution_count": 98
        }
      ],
      "source": [
        "dl = DataLoader(dset, batch_size=256)\n",
        "xb,yb = first(dl)\n",
        "xb.shape,yb.shape"
      ]
    },
    {
      "cell_type": "markdown",
      "metadata": {
        "id": "M9w8CvrsUSeB"
      },
      "source": [
        "We'll do the same for the validation set:"
      ]
    },
    {
      "cell_type": "code",
      "execution_count": null,
      "metadata": {
        "id": "E9vfzTYlUSeC"
      },
      "outputs": [],
      "source": [
        "valid_dl = DataLoader(valid_dset, batch_size=256)"
      ]
    },
    {
      "cell_type": "markdown",
      "metadata": {
        "id": "Ue57u39gUSeC"
      },
      "source": [
        "Let's create a mini-batch of size 4 for testing:"
      ]
    },
    {
      "cell_type": "code",
      "execution_count": null,
      "metadata": {
        "id": "3flEeAd5USeC",
        "colab": {
          "base_uri": "https://localhost:8080/"
        },
        "outputId": "302c8a2b-2ead-467b-d19e-bd1986b7a62e"
      },
      "outputs": [
        {
          "output_type": "execute_result",
          "data": {
            "text/plain": [
              "torch.Size([4, 784])"
            ]
          },
          "metadata": {},
          "execution_count": 100
        }
      ],
      "source": [
        "batch = train_x[:4]\n",
        "batch.shape"
      ]
    },
    {
      "cell_type": "code",
      "execution_count": null,
      "metadata": {
        "id": "K81EMqJoUSeC",
        "colab": {
          "base_uri": "https://localhost:8080/"
        },
        "outputId": "f243359f-5d48-4860-d662-6705305e30a6"
      },
      "outputs": [
        {
          "output_type": "execute_result",
          "data": {
            "text/plain": [
              "tensor([[-2.1876],\n",
              "        [-8.3973],\n",
              "        [ 2.5000],\n",
              "        [-4.9473]], grad_fn=<AddBackward0>)"
            ]
          },
          "metadata": {},
          "execution_count": 101
        }
      ],
      "source": [
        "preds = linear1(batch)\n",
        "preds"
      ]
    },
    {
      "cell_type": "code",
      "execution_count": null,
      "metadata": {
        "id": "mR3JZ6abUSeD",
        "colab": {
          "base_uri": "https://localhost:8080/"
        },
        "outputId": "c33768c2-cd14-4047-a00e-c6b5bd06928e"
      },
      "outputs": [
        {
          "output_type": "execute_result",
          "data": {
            "text/plain": [
              "tensor(0.7419, grad_fn=<MeanBackward0>)"
            ]
          },
          "metadata": {},
          "execution_count": 102
        }
      ],
      "source": [
        "loss = mnist_loss(preds, train_y[:4])\n",
        "loss"
      ]
    },
    {
      "cell_type": "markdown",
      "metadata": {
        "id": "ARB7hBUhUSeD"
      },
      "source": [
        "Now we can calculate the gradients:"
      ]
    },
    {
      "cell_type": "code",
      "execution_count": null,
      "metadata": {
        "id": "crULhUMLUSeD",
        "colab": {
          "base_uri": "https://localhost:8080/"
        },
        "outputId": "8494dd70-1d90-40ba-9e42-6b7f2a932201"
      },
      "outputs": [
        {
          "output_type": "execute_result",
          "data": {
            "text/plain": [
              "(torch.Size([784, 1]), tensor(-0.0061), tensor([-0.0420]))"
            ]
          },
          "metadata": {},
          "execution_count": 103
        }
      ],
      "source": [
        "loss.backward()\n",
        "weights.grad.shape,weights.grad.mean(),bias.grad"
      ]
    },
    {
      "cell_type": "markdown",
      "metadata": {
        "id": "yFiGztR9USeE"
      },
      "source": [
        "Let's put that all in a function:"
      ]
    },
    {
      "cell_type": "code",
      "execution_count": null,
      "metadata": {
        "id": "1T8eUz4YUSeE"
      },
      "outputs": [],
      "source": [
        "def calc_grad(xb, yb, model):\n",
        "    preds = model(xb)\n",
        "    loss = mnist_loss(preds, yb)\n",
        "    loss.backward()"
      ]
    },
    {
      "cell_type": "markdown",
      "metadata": {
        "id": "wwiSRyjgUSeE"
      },
      "source": [
        "and test it:"
      ]
    },
    {
      "cell_type": "code",
      "execution_count": null,
      "metadata": {
        "id": "Re6yid7DUSeF",
        "colab": {
          "base_uri": "https://localhost:8080/"
        },
        "outputId": "780aa1b7-7d2d-4e4f-9eb0-ef942a8d1946"
      },
      "outputs": [
        {
          "output_type": "execute_result",
          "data": {
            "text/plain": [
              "(tensor(-0.0121), tensor([-0.0840]))"
            ]
          },
          "metadata": {},
          "execution_count": 105
        }
      ],
      "source": [
        "calc_grad(batch, train_y[:4], linear1)\n",
        "weights.grad.mean(),bias.grad"
      ]
    },
    {
      "cell_type": "markdown",
      "metadata": {
        "id": "2f6h948tUSeF"
      },
      "source": [
        "But look what happens if we call it twice:"
      ]
    },
    {
      "cell_type": "code",
      "execution_count": null,
      "metadata": {
        "id": "Qbf2YYgiUSeF",
        "colab": {
          "base_uri": "https://localhost:8080/"
        },
        "outputId": "a8f492ed-7bb3-4155-e8da-696f2e859ab6"
      },
      "outputs": [
        {
          "output_type": "execute_result",
          "data": {
            "text/plain": [
              "(tensor(-0.0182), tensor([-0.1260]))"
            ]
          },
          "metadata": {},
          "execution_count": 106
        }
      ],
      "source": [
        "calc_grad(batch, train_y[:4], linear1)\n",
        "weights.grad.mean(),bias.grad"
      ]
    },
    {
      "cell_type": "code",
      "execution_count": null,
      "metadata": {
        "id": "sG2BZQJWUSeF"
      },
      "outputs": [],
      "source": [
        "weights.grad.zero_()\n",
        "bias.grad.zero_();"
      ]
    },
    {
      "cell_type": "code",
      "execution_count": null,
      "metadata": {
        "id": "ePjYWj7fUSeG"
      },
      "outputs": [],
      "source": [
        "def train_epoch(model, lr, params):\n",
        "    for xb,yb in dl:\n",
        "        calc_grad(xb, yb, model)\n",
        "        for p in params:\n",
        "            p.data -= p.grad*lr\n",
        "            p.grad.zero_()"
      ]
    },
    {
      "cell_type": "code",
      "execution_count": null,
      "metadata": {
        "id": "lg9xav1lUSeH",
        "colab": {
          "base_uri": "https://localhost:8080/"
        },
        "outputId": "00d3d781-b63d-4fc6-d8fa-a595f827b9e6"
      },
      "outputs": [
        {
          "output_type": "execute_result",
          "data": {
            "text/plain": [
              "tensor([[False],\n",
              "        [False],\n",
              "        [ True],\n",
              "        [False]])"
            ]
          },
          "metadata": {},
          "execution_count": 109
        }
      ],
      "source": [
        "(preds>0.0).float() == train_y[:4]"
      ]
    },
    {
      "cell_type": "markdown",
      "metadata": {
        "id": "hcKC1IH1USeH"
      },
      "source": [
        "That gives us this function to calculate our validation accuracy:"
      ]
    },
    {
      "cell_type": "code",
      "execution_count": null,
      "metadata": {
        "id": "ocF1I_-WUSeH"
      },
      "outputs": [],
      "source": [
        "def batch_accuracy(xb, yb):\n",
        "    preds = xb.sigmoid()\n",
        "    correct = (preds>0.5) == yb\n",
        "    return correct.float().mean()"
      ]
    },
    {
      "cell_type": "markdown",
      "metadata": {
        "id": "57g99bxAUSeH"
      },
      "source": [
        "We can check it works:"
      ]
    },
    {
      "cell_type": "code",
      "execution_count": null,
      "metadata": {
        "id": "yOGRQDJaUSeI",
        "colab": {
          "base_uri": "https://localhost:8080/"
        },
        "outputId": "2fb3c08c-46ed-4f0b-ee0d-8c276e9b0796"
      },
      "outputs": [
        {
          "output_type": "execute_result",
          "data": {
            "text/plain": [
              "tensor(0.2500)"
            ]
          },
          "metadata": {},
          "execution_count": 111
        }
      ],
      "source": [
        "batch_accuracy(linear1(batch), train_y[:4])"
      ]
    },
    {
      "cell_type": "markdown",
      "metadata": {
        "id": "gkLQYcd8USeI"
      },
      "source": [
        "and then put the batches together:"
      ]
    },
    {
      "cell_type": "code",
      "execution_count": null,
      "metadata": {
        "id": "Vka3DmutUSeI"
      },
      "outputs": [],
      "source": [
        "def validate_epoch(model):\n",
        "    accs = [batch_accuracy(model(xb), yb) for xb,yb in valid_dl]\n",
        "    return round(torch.stack(accs).mean().item(), 4)"
      ]
    },
    {
      "cell_type": "code",
      "execution_count": null,
      "metadata": {
        "id": "QpBO3FFXUSeI",
        "colab": {
          "base_uri": "https://localhost:8080/"
        },
        "outputId": "0da6f24a-5446-423d-973a-bce639cf8167"
      },
      "outputs": [
        {
          "output_type": "execute_result",
          "data": {
            "text/plain": [
              "0.5262"
            ]
          },
          "metadata": {},
          "execution_count": 113
        }
      ],
      "source": [
        "validate_epoch(linear1)"
      ]
    },
    {
      "cell_type": "markdown",
      "metadata": {
        "id": "56x1XmwuUSeI"
      },
      "source": [
        "That's our starting point. Let's train for one epoch, and see if the accuracy improves:"
      ]
    },
    {
      "cell_type": "code",
      "execution_count": null,
      "metadata": {
        "id": "5FO-_vfYUSeJ",
        "colab": {
          "base_uri": "https://localhost:8080/"
        },
        "outputId": "615d8362-08d3-4eff-ef99-fe7cb2b2dddd"
      },
      "outputs": [
        {
          "output_type": "execute_result",
          "data": {
            "text/plain": [
              "0.6662"
            ]
          },
          "metadata": {},
          "execution_count": 114
        }
      ],
      "source": [
        "lr = 1.\n",
        "params = weights,bias\n",
        "train_epoch(linear1, lr, params)\n",
        "validate_epoch(linear1)"
      ]
    },
    {
      "cell_type": "markdown",
      "metadata": {
        "id": "sDyuWcPcUSeJ"
      },
      "source": [
        "Then do a few more:"
      ]
    },
    {
      "cell_type": "code",
      "execution_count": null,
      "metadata": {
        "id": "zGlMogyGUSeJ",
        "colab": {
          "base_uri": "https://localhost:8080/"
        },
        "outputId": "909c73a0-5cb9-4c60-9d2e-e808d15b3aff"
      },
      "outputs": [
        {
          "output_type": "stream",
          "name": "stdout",
          "text": [
            "0.8264 0.8899 0.9182 0.9275 0.9397 0.9465 0.9504 0.9524 0.9558 0.9577 0.9597 0.9607 0.9612 0.9617 0.9632 0.9637 0.9647 0.9657 0.9671 0.9676 "
          ]
        }
      ],
      "source": [
        "for i in range(20):\n",
        "    train_epoch(linear1, lr, params)\n",
        "    print(validate_epoch(linear1), end=' ')"
      ]
    },
    {
      "cell_type": "markdown",
      "metadata": {
        "id": "4GRhw6EwUSeK"
      },
      "source": [
        "### Creating an Optimizer"
      ]
    },
    {
      "cell_type": "code",
      "execution_count": null,
      "metadata": {
        "id": "DU3tpjd6USeK"
      },
      "outputs": [],
      "source": [
        "linear_model = nn.Linear(28*28,1)"
      ]
    },
    {
      "cell_type": "markdown",
      "metadata": {
        "id": "CEejDC2MUSeK"
      },
      "source": [
        "Every PyTorch module knows what parameters it has that can be trained; they are available through the `parameters` method:"
      ]
    },
    {
      "cell_type": "code",
      "execution_count": null,
      "metadata": {
        "id": "6fdBDNSYUSeL",
        "colab": {
          "base_uri": "https://localhost:8080/"
        },
        "outputId": "76d4a081-b688-42cc-c9c5-d2b20db8af64"
      },
      "outputs": [
        {
          "output_type": "execute_result",
          "data": {
            "text/plain": [
              "(torch.Size([1, 784]), torch.Size([1]))"
            ]
          },
          "metadata": {},
          "execution_count": 117
        }
      ],
      "source": [
        "w,b = linear_model.parameters()\n",
        "w.shape,b.shape"
      ]
    },
    {
      "cell_type": "markdown",
      "metadata": {
        "id": "1Pk856m8USeL"
      },
      "source": [
        "We can use this information to create an optimizer:"
      ]
    },
    {
      "cell_type": "code",
      "execution_count": null,
      "metadata": {
        "id": "ty28XpdbUSeL"
      },
      "outputs": [],
      "source": [
        "class BasicOptim:\n",
        "    def __init__(self ,params, lr):\n",
        "      self.params = list(params)\n",
        "      self.lr = lr\n",
        "\n",
        "    def step(self, *args, **kwargs):\n",
        "        for p in self.params:\n",
        "          p.data -= p.grad.data * self.lr\n",
        "\n",
        "    def zero_grad(self, *args, **kwargs):\n",
        "        for p in self.params:\n",
        "          p.grad = None"
      ]
    },
    {
      "cell_type": "markdown",
      "metadata": {
        "id": "Y-NWYodxUSeM"
      },
      "source": [
        "We can create our optimizer by passing in the model's parameters:"
      ]
    },
    {
      "cell_type": "code",
      "execution_count": null,
      "metadata": {
        "id": "GRWxScBiUSeM"
      },
      "outputs": [],
      "source": [
        "opt = BasicOptim(linear_model.parameters(), lr)"
      ]
    },
    {
      "cell_type": "markdown",
      "metadata": {
        "id": "Bv8A6FQcUSeM"
      },
      "source": [
        "Our training loop can now be simplified to:"
      ]
    },
    {
      "cell_type": "code",
      "execution_count": null,
      "metadata": {
        "id": "o0ZTeQAKUSeM"
      },
      "outputs": [],
      "source": [
        "def train_epoch(model):\n",
        "    for xb,yb in dl:\n",
        "        calc_grad(xb, yb, model)\n",
        "        opt.step()\n",
        "        opt.zero_grad()"
      ]
    },
    {
      "cell_type": "markdown",
      "metadata": {
        "id": "nuGDFLrAUSeM"
      },
      "source": [
        "Our validation function doesn't need to change at all:"
      ]
    },
    {
      "cell_type": "code",
      "execution_count": null,
      "metadata": {
        "id": "dKyx1M4xUSeN",
        "colab": {
          "base_uri": "https://localhost:8080/"
        },
        "outputId": "5f704ae7-878d-4f45-f412-dcba8b542a8a"
      },
      "outputs": [
        {
          "output_type": "execute_result",
          "data": {
            "text/plain": [
              "0.4607"
            ]
          },
          "metadata": {},
          "execution_count": 121
        }
      ],
      "source": [
        "validate_epoch(linear_model)"
      ]
    },
    {
      "cell_type": "markdown",
      "metadata": {
        "id": "O7qKSazbUSeN"
      },
      "source": [
        "Let's put our little training loop in a function, to make things simpler:"
      ]
    },
    {
      "cell_type": "code",
      "execution_count": null,
      "metadata": {
        "id": "4uwRlBDwUSeN"
      },
      "outputs": [],
      "source": [
        "def train_model(model, epochs):\n",
        "    for i in range(epochs):\n",
        "        train_epoch(model)\n",
        "        print(validate_epoch(model), end=' ')"
      ]
    },
    {
      "cell_type": "markdown",
      "metadata": {
        "id": "XenC4JgEUSeN"
      },
      "source": [
        "The results are the same as in the previous section:"
      ]
    },
    {
      "cell_type": "code",
      "execution_count": null,
      "metadata": {
        "id": "WeNXojBMUSeN",
        "colab": {
          "base_uri": "https://localhost:8080/"
        },
        "outputId": "6361b5d5-9d72-4a8b-df69-f028b5dcccce"
      },
      "outputs": [
        {
          "output_type": "stream",
          "name": "stdout",
          "text": [
            "0.4932 0.7686 0.8554 0.9136 0.9345 0.9482 0.957 0.9633 0.9658 0.9677 0.9697 0.9716 0.9736 0.9746 0.976 0.977 0.9775 0.9775 0.978 0.9785 "
          ]
        }
      ],
      "source": [
        "train_model(linear_model, 20)"
      ]
    },
    {
      "cell_type": "markdown",
      "metadata": {
        "id": "2gglQmzyUSeO"
      },
      "source": [
        "fastai provides the `SGD` class which, by default, does the same thing as our `BasicOptim`:"
      ]
    },
    {
      "cell_type": "code",
      "execution_count": null,
      "metadata": {
        "id": "hyYYlIXKUSeO",
        "colab": {
          "base_uri": "https://localhost:8080/"
        },
        "outputId": "84e8ea99-bf58-44b9-8131-efdfd1eec133"
      },
      "outputs": [
        {
          "output_type": "stream",
          "name": "stdout",
          "text": [
            "0.4932 0.8179 0.8496 0.914 0.9345 0.9482 0.957 0.9619 0.9658 0.9672 0.9692 0.9712 0.9741 0.9751 0.976 0.9775 0.9775 0.978 0.9785 0.979 "
          ]
        }
      ],
      "source": [
        "linear_model = nn.Linear(28*28,1)\n",
        "opt = SGD(linear_model.parameters(), lr)\n",
        "train_model(linear_model, 20)"
      ]
    },
    {
      "cell_type": "markdown",
      "metadata": {
        "id": "bTW3xTpZUSeO"
      },
      "source": [
        "fastai also provides `Learner.fit`, which we can use instead of `train_model`. To create a `Learner` we first need to create a `DataLoaders`, by passing in our training and validation `DataLoader`s:"
      ]
    },
    {
      "cell_type": "code",
      "source": [],
      "metadata": {
        "id": "cd_ur9v3l912"
      },
      "execution_count": null,
      "outputs": []
    },
    {
      "cell_type": "code",
      "execution_count": null,
      "metadata": {
        "id": "BLDsy4EzUSeO"
      },
      "outputs": [],
      "source": [
        "dls = DataLoaders(dl, valid_dl)"
      ]
    },
    {
      "cell_type": "markdown",
      "metadata": {
        "id": "ICXf1spLUSeO"
      },
      "source": [
        "To create a `Learner` without using an application (such as `vision_learner`) we need to pass in all the elements that we've created in this chapter: the `DataLoaders`, the model, the optimization function (which will be passed the parameters), the loss function, and optionally any metrics to print:"
      ]
    },
    {
      "cell_type": "code",
      "execution_count": null,
      "metadata": {
        "id": "a3TYbPpFUSeP"
      },
      "outputs": [],
      "source": [
        "learn = Learner(dls, nn.Linear(28*28,1), opt_func=SGD,\n",
        "                loss_func=mnist_loss, metrics=batch_accuracy)"
      ]
    },
    {
      "cell_type": "markdown",
      "metadata": {
        "id": "HoEw_owVUSeP"
      },
      "source": [
        "Now we can call `fit`:"
      ]
    },
    {
      "cell_type": "code",
      "execution_count": null,
      "metadata": {
        "id": "GvvZN5NOUSeP",
        "colab": {
          "base_uri": "https://localhost:8080/",
          "height": 363
        },
        "outputId": "bf785906-aaa3-48cc-b3d7-776b0d99c10d"
      },
      "outputs": [
        {
          "output_type": "display_data",
          "data": {
            "text/plain": [
              "<IPython.core.display.HTML object>"
            ],
            "text/html": [
              "\n",
              "<style>\n",
              "    /* Turns off some styling */\n",
              "    progress {\n",
              "        /* gets rid of default border in Firefox and Opera. */\n",
              "        border: none;\n",
              "        /* Needs to be in here for Safari polyfill so background images work as expected. */\n",
              "        background-size: auto;\n",
              "    }\n",
              "    progress:not([value]), progress:not([value])::-webkit-progress-bar {\n",
              "        background: repeating-linear-gradient(45deg, #7e7e7e, #7e7e7e 10px, #5c5c5c 10px, #5c5c5c 20px);\n",
              "    }\n",
              "    .progress-bar-interrupted, .progress-bar-interrupted::-webkit-progress-bar {\n",
              "        background: #F44336;\n",
              "    }\n",
              "</style>\n"
            ]
          },
          "metadata": {}
        },
        {
          "output_type": "display_data",
          "data": {
            "text/plain": [
              "<IPython.core.display.HTML object>"
            ],
            "text/html": [
              "<table border=\"1\" class=\"dataframe\">\n",
              "  <thead>\n",
              "    <tr style=\"text-align: left;\">\n",
              "      <th>epoch</th>\n",
              "      <th>train_loss</th>\n",
              "      <th>valid_loss</th>\n",
              "      <th>batch_accuracy</th>\n",
              "      <th>time</th>\n",
              "    </tr>\n",
              "  </thead>\n",
              "  <tbody>\n",
              "    <tr>\n",
              "      <td>0</td>\n",
              "      <td>0.636709</td>\n",
              "      <td>0.503144</td>\n",
              "      <td>0.495584</td>\n",
              "      <td>00:00</td>\n",
              "    </tr>\n",
              "    <tr>\n",
              "      <td>1</td>\n",
              "      <td>0.429828</td>\n",
              "      <td>0.248517</td>\n",
              "      <td>0.777233</td>\n",
              "      <td>00:00</td>\n",
              "    </tr>\n",
              "    <tr>\n",
              "      <td>2</td>\n",
              "      <td>0.161680</td>\n",
              "      <td>0.155361</td>\n",
              "      <td>0.861629</td>\n",
              "      <td>00:00</td>\n",
              "    </tr>\n",
              "    <tr>\n",
              "      <td>3</td>\n",
              "      <td>0.072948</td>\n",
              "      <td>0.097722</td>\n",
              "      <td>0.917566</td>\n",
              "      <td>00:00</td>\n",
              "    </tr>\n",
              "    <tr>\n",
              "      <td>4</td>\n",
              "      <td>0.040128</td>\n",
              "      <td>0.073205</td>\n",
              "      <td>0.936212</td>\n",
              "      <td>00:00</td>\n",
              "    </tr>\n",
              "    <tr>\n",
              "      <td>5</td>\n",
              "      <td>0.027210</td>\n",
              "      <td>0.059466</td>\n",
              "      <td>0.950442</td>\n",
              "      <td>00:00</td>\n",
              "    </tr>\n",
              "    <tr>\n",
              "      <td>6</td>\n",
              "      <td>0.021837</td>\n",
              "      <td>0.050799</td>\n",
              "      <td>0.957802</td>\n",
              "      <td>00:00</td>\n",
              "    </tr>\n",
              "    <tr>\n",
              "      <td>7</td>\n",
              "      <td>0.019398</td>\n",
              "      <td>0.044980</td>\n",
              "      <td>0.964181</td>\n",
              "      <td>00:00</td>\n",
              "    </tr>\n",
              "    <tr>\n",
              "      <td>8</td>\n",
              "      <td>0.018122</td>\n",
              "      <td>0.040853</td>\n",
              "      <td>0.966143</td>\n",
              "      <td>00:00</td>\n",
              "    </tr>\n",
              "    <tr>\n",
              "      <td>9</td>\n",
              "      <td>0.017330</td>\n",
              "      <td>0.037788</td>\n",
              "      <td>0.968106</td>\n",
              "      <td>00:00</td>\n",
              "    </tr>\n",
              "  </tbody>\n",
              "</table>"
            ]
          },
          "metadata": {}
        }
      ],
      "source": [
        "learn.fit(10, lr=lr)"
      ]
    },
    {
      "cell_type": "markdown",
      "metadata": {
        "id": "q3tFsb2aUSeP"
      },
      "source": [
        "## Adding a Nonlinearity"
      ]
    },
    {
      "cell_type": "code",
      "execution_count": null,
      "metadata": {
        "id": "iqqrTh40USeQ"
      },
      "outputs": [],
      "source": [
        "def simple_net(xb):\n",
        "    res = xb@w1 + b1\n",
        "    res = res.max(tensor(0.0))\n",
        "    res = res@w2 + b2\n",
        "    return res"
      ]
    },
    {
      "cell_type": "code",
      "execution_count": null,
      "metadata": {
        "id": "Pn3y6hJVUSeQ"
      },
      "outputs": [],
      "source": [
        "w1 = init_params((28*28,31))\n",
        "b1 = init_params(31)\n",
        "w2 = init_params((31,1))\n",
        "b2 = init_params(1)"
      ]
    },
    {
      "cell_type": "code",
      "execution_count": null,
      "metadata": {
        "id": "wOjcKZ38USeQ",
        "colab": {
          "base_uri": "https://localhost:8080/",
          "height": 372
        },
        "outputId": "0fef2821-3cbb-4f42-ea44-975da96e25c5"
      },
      "outputs": [
        {
          "output_type": "display_data",
          "data": {
            "text/plain": [
              "<Figure size 600x400 with 1 Axes>"
            ],
            "image/png": "[encoded data removed]"
          },
          "metadata": {}
        }
      ],
      "source": [
        "plot_function(F.relu)"
      ]
    },
    {
      "cell_type": "code",
      "execution_count": null,
      "metadata": {
        "id": "yMh-HAYsUSeS"
      },
      "outputs": [],
      "source": [
        "simple_net = nn.Sequential(\n",
        "    nn.Linear(28*28,30),\n",
        "    nn.ReLU(),\n",
        "    nn.Linear(30,1)\n",
        ")"
      ]
    },
    {
      "cell_type": "code",
      "execution_count": null,
      "metadata": {
        "id": "uQA1fJ_2USeT"
      },
      "outputs": [],
      "source": [
        "learn = Learner(dls, simple_net, opt_func=SGD,\n",
        "                loss_func=mnist_loss, metrics=batch_accuracy)"
      ]
    },
    {
      "cell_type": "code",
      "execution_count": null,
      "metadata": {
        "id": "_U2Qzmx0USeT"
      },
      "outputs": [],
      "source": [
        "#hide_output\n",
        "learn.fit(40, 0.1)"
      ]
    },
    {
      "cell_type": "code",
      "execution_count": null,
      "metadata": {
        "id": "RlMRY1TKUSeU",
        "colab": {
          "base_uri": "https://localhost:8080/",
          "height": 435
        },
        "outputId": "f036d54b-0385-4b07-a829-a45aa77d1fdd"
      },
      "outputs": [
        {
          "output_type": "display_data",
          "data": {
            "text/plain": [
              "<Figure size 640x480 with 1 Axes>"
            ],
            "image/png": "[encoded data removed]"
          },
          "metadata": {}
        }
      ],
      "source": [
        "plt.plot(L(learn.recorder.values).itemgot(2));"
      ]
    },
    {
      "cell_type": "markdown",
      "metadata": {
        "id": "qa7rVfgbUSeU"
      },
      "source": [
        "And we can view the final accuracy:"
      ]
    },
    {
      "cell_type": "code",
      "source": [],
      "metadata": {
        "id": "x_GIN3g0olQs"
      },
      "execution_count": null,
      "outputs": []
    },
    {
      "cell_type": "code",
      "execution_count": null,
      "metadata": {
        "id": "PaFbj0UTUSeU",
        "colab": {
          "base_uri": "https://localhost:8080/"
        },
        "outputId": "f84bd79b-4520-410d-8f9e-ba0fc355f8e5"
      },
      "outputs": [
        {
          "output_type": "execute_result",
          "data": {
            "text/plain": [
              "0.982826292514801"
            ]
          },
          "metadata": {},
          "execution_count": 136
        }
      ],
      "source": [
        "learn.recorder.values[-1][2]"
      ]
    },
    {
      "cell_type": "markdown",
      "metadata": {
        "id": "6Rz5QzKDUSeU"
      },
      "source": [
        "### Going Deeper"
      ]
    },
    {
      "cell_type": "code",
      "execution_count": null,
      "metadata": {
        "id": "ljBSESOcUSeW",
        "colab": {
          "base_uri": "https://localhost:8080/",
          "height": 81
        },
        "outputId": "a17bd924-48f0-4ec8-93d2-cb3c57af3612"
      },
      "outputs": [
        {
          "output_type": "display_data",
          "data": {
            "text/plain": [
              "<IPython.core.display.HTML object>"
            ],
            "text/html": [
              "\n",
              "<style>\n",
              "    /* Turns off some styling */\n",
              "    progress {\n",
              "        /* gets rid of default border in Firefox and Opera. */\n",
              "        border: none;\n",
              "        /* Needs to be in here for Safari polyfill so background images work as expected. */\n",
              "        background-size: auto;\n",
              "    }\n",
              "    progress:not([value]), progress:not([value])::-webkit-progress-bar {\n",
              "        background: repeating-linear-gradient(45deg, #7e7e7e, #7e7e7e 10px, #5c5c5c 10px, #5c5c5c 20px);\n",
              "    }\n",
              "    .progress-bar-interrupted, .progress-bar-interrupted::-webkit-progress-bar {\n",
              "        background: #F44336;\n",
              "    }\n",
              "</style>\n"
            ]
          },
          "metadata": {}
        },
        {
          "output_type": "display_data",
          "data": {
            "text/plain": [
              "<IPython.core.display.HTML object>"
            ],
            "text/html": [
              "<table border=\"1\" class=\"dataframe\">\n",
              "  <thead>\n",
              "    <tr style=\"text-align: left;\">\n",
              "      <th>epoch</th>\n",
              "      <th>train_loss</th>\n",
              "      <th>valid_loss</th>\n",
              "      <th>accuracy</th>\n",
              "      <th>time</th>\n",
              "    </tr>\n",
              "  </thead>\n",
              "  <tbody>\n",
              "    <tr>\n",
              "      <td>0</td>\n",
              "      <td>0.072414</td>\n",
              "      <td>0.010516</td>\n",
              "      <td>0.996565</td>\n",
              "      <td>02:53</td>\n",
              "    </tr>\n",
              "  </tbody>\n",
              "</table>"
            ]
          },
          "metadata": {}
        }
      ],
      "source": [
        "dls = ImageDataLoaders.from_folder(path)\n",
        "learn = vision_learner(dls, resnet18, pretrained=False,\n",
        "                    loss_func=F.cross_entropy, metrics=accuracy)\n",
        "learn.fit_one_cycle(1, 0.1)"
      ]
    }
  ],
  "metadata": {
    "jupytext": {
      "split_at_heading": true
    },
    "kernelspec": {
      "display_name": "Python 3",
      "name": "python3"
    },
    "colab": {
      "provenance": [],
      "gpuType": "T4",
      "toc_visible": true
    }
  },
  "nbformat": 4,
  "nbformat_minor": 0
}